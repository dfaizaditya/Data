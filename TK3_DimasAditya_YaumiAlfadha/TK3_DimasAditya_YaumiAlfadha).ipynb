{
  "nbformat": 4,
  "nbformat_minor": 0,
  "metadata": {
    "colab": {
      "name": "TK3_.ipynb",
      "provenance": [],
      "collapsed_sections": [],
      "toc_visible": true
    },
    "kernelspec": {
      "display_name": "Python 3",
      "name": "python3"
    },
    "language_info": {
      "name": "python"
    }
  },
  "cells": [
    {
      "cell_type": "code",
      "metadata": {
        "colab": {
          "base_uri": "https://localhost:8080/"
        },
        "id": "X91D-VhPVevK",
        "outputId": "8a4bb496-ff44-4618-cce9-eab915a673da"
      },
      "source": [
        "!pip install pyprind\n",
        "!pip install sklearn-crfsuite\n",
        "!pip install utils"
      ],
      "execution_count": 3,
      "outputs": [
        {
          "output_type": "stream",
          "text": [
            "Collecting pyprind\n",
            "  Downloading https://files.pythonhosted.org/packages/ab/b3/1f12ebc5009c65b607509393ad98240728b4401bc3593868fb161fdd3760/PyPrind-2.11.3-py2.py3-none-any.whl\n",
            "Installing collected packages: pyprind\n",
            "Successfully installed pyprind-2.11.3\n",
            "Collecting sklearn-crfsuite\n",
            "  Downloading https://files.pythonhosted.org/packages/25/74/5b7befa513482e6dee1f3dd68171a6c9dfc14c0eaa00f885ffeba54fe9b0/sklearn_crfsuite-0.3.6-py2.py3-none-any.whl\n",
            "Collecting python-crfsuite>=0.8.3\n",
            "\u001b[?25l  Downloading https://files.pythonhosted.org/packages/79/47/58f16c46506139f17de4630dbcfb877ce41a6355a1bbf3c443edb9708429/python_crfsuite-0.9.7-cp37-cp37m-manylinux1_x86_64.whl (743kB)\n",
            "\u001b[K     |████████████████████████████████| 747kB 6.8MB/s \n",
            "\u001b[?25hRequirement already satisfied: tabulate in /usr/local/lib/python3.7/dist-packages (from sklearn-crfsuite) (0.8.9)\n",
            "Requirement already satisfied: tqdm>=2.0 in /usr/local/lib/python3.7/dist-packages (from sklearn-crfsuite) (4.41.1)\n",
            "Requirement already satisfied: six in /usr/local/lib/python3.7/dist-packages (from sklearn-crfsuite) (1.15.0)\n",
            "Installing collected packages: python-crfsuite, sklearn-crfsuite\n",
            "Successfully installed python-crfsuite-0.9.7 sklearn-crfsuite-0.3.6\n",
            "Collecting utils\n",
            "  Downloading https://files.pythonhosted.org/packages/55/e6/c2d2b2703e7debc8b501caae0e6f7ead148fd0faa3c8131292a599930029/utils-1.0.1-py2.py3-none-any.whl\n",
            "Installing collected packages: utils\n",
            "Successfully installed utils-1.0.1\n"
          ],
          "name": "stdout"
        }
      ]
    },
    {
      "cell_type": "code",
      "metadata": {
        "id": "fFhM_VmHVQST"
      },
      "source": [
        "import re\n",
        "from sklearn.model_selection import train_test_split\n",
        "from sklearn.metrics import make_scorer\n",
        "from sklearn.model_selection import RandomizedSearchCV\n",
        "from sklearn.model_selection import cross_validate\n",
        "from sklearn.metrics import classification_report\n",
        "\n",
        "from sklearn_crfsuite import CRF\n",
        "from sklearn_crfsuite import metrics\n",
        "from sklearn_crfsuite import scorers\n",
        "import scipy\n",
        "from pathlib import Path\n",
        "\n",
        "from joblib import dump, load\n",
        "import pandas as pd\n"
      ],
      "execution_count": 4,
      "outputs": []
    },
    {
      "cell_type": "code",
      "metadata": {
        "id": "VhAzyeS-YlPC"
      },
      "source": [
        "import base64\n",
        "import requests\n",
        "req = requests.get('https://raw.githubusercontent.com/dfaizaditya/Data/master/Indonesian_Manually_Tagged_Corpus.tsv.txt')\n",
        "tagged_sentences = req.text"
      ],
      "execution_count": 5,
      "outputs": []
    },
    {
      "cell_type": "code",
      "metadata": {
        "id": "3jZJPd1TVRtJ"
      },
      "source": [
        "import csv\n",
        "tagged_sentences = pd.read_csv('https://raw.githubusercontent.com/dfaizaditya/Data/master/Indonesian_Manually_Tagged_Corpus.tsv.txt', sep='\\t', header=None, quoting=csv.QUOTE_NONE)\n",
        "tagged_sentences.columns = [\"token\", \"tag\"]"
      ],
      "execution_count": 6,
      "outputs": []
    },
    {
      "cell_type": "markdown",
      "metadata": {
        "id": "B_JEdFWY3jEZ"
      },
      "source": [
        "# Post tag : menambahkan fitur dengan melakukan postag ke train data"
      ]
    },
    {
      "cell_type": "code",
      "metadata": {
        "colab": {
          "base_uri": "https://localhost:8080/",
          "height": 415
        },
        "id": "I_0zK8n-d2C2",
        "outputId": "0d83d392-a7c7-47c8-a6ca-0b1464f334ee"
      },
      "source": [
        "tagged_sentences"
      ],
      "execution_count": 7,
      "outputs": [
        {
          "output_type": "execute_result",
          "data": {
            "text/html": [
              "<div>\n",
              "<style scoped>\n",
              "    .dataframe tbody tr th:only-of-type {\n",
              "        vertical-align: middle;\n",
              "    }\n",
              "\n",
              "    .dataframe tbody tr th {\n",
              "        vertical-align: top;\n",
              "    }\n",
              "\n",
              "    .dataframe thead th {\n",
              "        text-align: right;\n",
              "    }\n",
              "</style>\n",
              "<table border=\"1\" class=\"dataframe\">\n",
              "  <thead>\n",
              "    <tr style=\"text-align: right;\">\n",
              "      <th></th>\n",
              "      <th>token</th>\n",
              "      <th>tag</th>\n",
              "    </tr>\n",
              "  </thead>\n",
              "  <tbody>\n",
              "    <tr>\n",
              "      <th>0</th>\n",
              "      <td>Kera</td>\n",
              "      <td>NN</td>\n",
              "    </tr>\n",
              "    <tr>\n",
              "      <th>1</th>\n",
              "      <td>untuk</td>\n",
              "      <td>SC</td>\n",
              "    </tr>\n",
              "    <tr>\n",
              "      <th>2</th>\n",
              "      <td>amankan</td>\n",
              "      <td>VB</td>\n",
              "    </tr>\n",
              "    <tr>\n",
              "      <th>3</th>\n",
              "      <td>pesta olahraga</td>\n",
              "      <td>NN</td>\n",
              "    </tr>\n",
              "    <tr>\n",
              "      <th>4</th>\n",
              "      <td>Pemerintah</td>\n",
              "      <td>NNP</td>\n",
              "    </tr>\n",
              "    <tr>\n",
              "      <th>...</th>\n",
              "      <td>...</td>\n",
              "      <td>...</td>\n",
              "    </tr>\n",
              "    <tr>\n",
              "      <th>256617</th>\n",
              "      <td>,</td>\n",
              "      <td>Z</td>\n",
              "    </tr>\n",
              "    <tr>\n",
              "      <th>256618</th>\n",
              "      <td>ujar</td>\n",
              "      <td>VB</td>\n",
              "    </tr>\n",
              "    <tr>\n",
              "      <th>256619</th>\n",
              "      <td>-nya</td>\n",
              "      <td>PRP</td>\n",
              "    </tr>\n",
              "    <tr>\n",
              "      <th>256620</th>\n",
              "      <td>menambahkan</td>\n",
              "      <td>VB</td>\n",
              "    </tr>\n",
              "    <tr>\n",
              "      <th>256621</th>\n",
              "      <td>.</td>\n",
              "      <td>Z</td>\n",
              "    </tr>\n",
              "  </tbody>\n",
              "</table>\n",
              "<p>256622 rows × 2 columns</p>\n",
              "</div>"
            ],
            "text/plain": [
              "                 token  tag\n",
              "0                 Kera   NN\n",
              "1                untuk   SC\n",
              "2              amankan   VB\n",
              "3       pesta olahraga   NN\n",
              "4           Pemerintah  NNP\n",
              "...                ...  ...\n",
              "256617               ,    Z\n",
              "256618            ujar   VB\n",
              "256619            -nya  PRP\n",
              "256620     menambahkan   VB\n",
              "256621               .    Z\n",
              "\n",
              "[256622 rows x 2 columns]"
            ]
          },
          "metadata": {
            "tags": []
          },
          "execution_count": 7
        }
      ]
    },
    {
      "cell_type": "code",
      "metadata": {
        "colab": {
          "base_uri": "https://localhost:8080/"
        },
        "id": "CLa1yrCOW7nr",
        "outputId": "3a4e29c4-eaaa-49a1-8f2b-ea1126f4c7bc"
      },
      "source": [
        "lol = tagged_sentences.values.tolist()\n",
        "print(\"Number of Tagged Sentences \", len(tagged_sentences))\n",
        "print(\"Total Number of Tagged words\", len(lol))\n",
        "vocab = set([word for word, tag in lol])\n",
        "print(\"Vocabulary of the Corpus\", len(vocab))\n",
        "tags = set([tag for word, tag in lol])\n",
        "print(\"Number of Tags in the Corpus \", len(tags))"
      ],
      "execution_count": 8,
      "outputs": [
        {
          "output_type": "stream",
          "text": [
            "Number of Tagged Sentences  256622\n",
            "Total Number of Tagged words 256622\n",
            "Vocabulary of the Corpus 18287\n",
            "Number of Tags in the Corpus  24\n"
          ],
          "name": "stdout"
        }
      ]
    },
    {
      "cell_type": "code",
      "metadata": {
        "colab": {
          "base_uri": "https://localhost:8080/"
        },
        "id": "F0f7xpUPg1yy",
        "outputId": "0c1cefac-a70a-4e04-d524-dc41c1857801"
      },
      "source": [
        "from collections import Counter \n",
        "\n",
        "Counter([tag for word, tag in lol])"
      ],
      "execution_count": 9,
      "outputs": [
        {
          "output_type": "execute_result",
          "data": {
            "text/plain": [
              "Counter({'CC': 7438,\n",
              "         'CD': 17819,\n",
              "         'DT': 381,\n",
              "         'FW': 2365,\n",
              "         'IN': 21311,\n",
              "         'JJ': 9724,\n",
              "         'MD': 5248,\n",
              "         'NEG': 1520,\n",
              "         'NN': 61940,\n",
              "         'NND': 1414,\n",
              "         'NNP': 34649,\n",
              "         'OD': 738,\n",
              "         'PR': 5348,\n",
              "         'PRP': 7583,\n",
              "         'RB': 4903,\n",
              "         'RP': 183,\n",
              "         'SC': 13080,\n",
              "         'SYM': 2210,\n",
              "         'UH': 30,\n",
              "         'VB': 31733,\n",
              "         'WH': 260,\n",
              "         'X': 397,\n",
              "         'Z': 26347,\n",
              "         'fw': 1})"
            ]
          },
          "metadata": {
            "tags": []
          },
          "execution_count": 9
        }
      ]
    },
    {
      "cell_type": "code",
      "metadata": {
        "id": "YpeO6rBAlG1X"
      },
      "source": [
        "lst = []\n",
        "lst_lst = []\n",
        "\n",
        "for x in lol:\n",
        "  lst.append(x)\n",
        "  if(x[0] == '.'):\n",
        "    lst_lst.append(lst)\n",
        "    lst = []"
      ],
      "execution_count": 10,
      "outputs": []
    },
    {
      "cell_type": "code",
      "metadata": {
        "id": "sYQMEronpZIb"
      },
      "source": [
        "import re\n",
        "from sklearn_crfsuite import CRF\n",
        "from joblib import dump, load\n",
        "from sklearn.model_selection import train_test_split \n",
        "\n",
        "def prepare_train_test(tagged_sentences, seed, path):\n",
        "    train_set, test_set = train_test_split(tagged_sentences, test_size=0.2, random_state=seed)\n",
        "    prefix, suffix = select_params(path)\n",
        "    X_train, y_train = prepare_data(train_set, prefix=prefix, suffix=suffix)\n",
        "    X_test, y_test = prepare_data(test_set, prefix=prefix, suffix=suffix)\n",
        "    return X_train, y_train, X_test, y_test\n",
        "\n",
        "def features(sentence, index, prefix=True, suffix=True):\n",
        "    ### sentence is of the form [w1,w2,w3,..], index is the position of the word in the sentence\n",
        "    ### and entriestoRemove type is tuple\n",
        "    d = {\n",
        "        'is_first_capital':int(sentence[index][0].isupper()),\n",
        "        'is_first_word': int(index == 0),\n",
        "        'is_last_word':int(index == len(sentence)-1),\n",
        "        'is_complete_capital': int(sentence[index].upper() == sentence[index]),\n",
        "        'prev_word':'' if index == 0 else sentence[index-1],\n",
        "        'next_word':'' if index == len(sentence)-1 else sentence[index+1],\n",
        "        'is_numeric':int(sentence[index].isdigit()),\n",
        "        'is_alphanumeric': int(bool((re.match('^(?=.*[0-9]$)(?=.*[a-zA-Z])', sentence[index])))),\n",
        "        'word_has_hyphen': 1 if '-' in sentence[index] else 0 \n",
        "         }\n",
        "    \n",
        "    if prefix:\n",
        "        d.update({'prefix_1':sentence[index][0],\n",
        "                 'prefix_2': sentence[index][:2],\n",
        "                 'prefix_3':sentence[index][:3],\n",
        "                 'prefix_4':sentence[index][:4]})\n",
        "    \n",
        "    if suffix:\n",
        "        d.update({'suffix_1':sentence[index][-1],\n",
        "                  'suffix_2':sentence[index][-2:],\n",
        "                  'suffix_3':sentence[index][-3:],\n",
        "                  'suffix_4':sentence[index][-4:]})\n",
        "        \n",
        "    return d\n",
        "    \n",
        "def untag(sentence):\n",
        "      return [word for word, tag in sentence]\n",
        "\n",
        "def prepare_data(tagged_sentences, prefix, suffix):\n",
        "    X, y = [], []\n",
        "    for sentences in tagged_sentences:\n",
        "        X.append([features(untag(sentences), index, prefix, suffix) for index in range(len(sentences))])\n",
        "        y.append([tag for word, tag in sentences])\n",
        "    return X, y\n",
        "\n",
        "def fit_and_dump(X_train, y_train, path):\n",
        "    crf = CRF(\n",
        "        algorithm='lbfgs',\n",
        "        c1=0.01,\n",
        "        c2=0.1,\n",
        "        max_iterations=100,\n",
        "        all_possible_transitions=True\n",
        "        )\n",
        "    crf.fit(X_train, y_train)\n",
        "    dump(crf, path)\n",
        "    return crf\n",
        "\n",
        "def select_params(path):\n",
        "    if 'baseline' in str(path):\n",
        "        prefix, suffix = False, False\n",
        "    elif 'prefix' in str(path):\n",
        "        prefix, suffix = True, False\n",
        "    elif 'suffix' in str(path):\n",
        "        prefix, suffix = False, True\n",
        "    else:\n",
        "        prefix, suffix = True, True\n",
        "    return prefix, suffix"
      ],
      "execution_count": 11,
      "outputs": []
    },
    {
      "cell_type": "code",
      "metadata": {
        "colab": {
          "base_uri": "https://localhost:8080/"
        },
        "id": "P3OTDaRPrIyL",
        "outputId": "05ec70d3-0c1c-47bc-8cf0-d31ceed56cfe"
      },
      "source": [
        "from joblib import dump, load\n",
        "\n",
        "path = '/content/drive/MyDrive/Data mining/crf-with-allfix-fold01-seed42.joblib'\n",
        "crf = load(path)\n",
        "seed = int(str(path).split('.')[0][-2:])\n",
        "X_train, y_train, X_test, y_test = prepare_train_test(lst_lst, seed, path)\n",
        "train_set, test_set = train_test_split(lst_lst, test_size=0.2, random_state=seed)\n",
        "\n",
        "y_pred = crf.predict(X_test)\n",
        "print(metrics.flat_classification_report(y_test, y_pred, labels=crf.classes_, digits=3))"
      ],
      "execution_count": 12,
      "outputs": [
        {
          "output_type": "stream",
          "text": [
            "              precision    recall  f1-score   support\n",
            "\n",
            "          IN      0.985     0.985     0.985      4160\n",
            "          NN      0.988     0.989     0.988     12296\n",
            "          JJ      0.982     0.980     0.981      1943\n",
            "          PR      1.000     0.999     1.000      1068\n",
            "           Z      0.998     1.000     0.999      5204\n",
            "          CD      0.999     0.998     0.998      3538\n",
            "         SYM      1.000     1.000     1.000       446\n",
            "          VB      0.995     0.997     0.996      6352\n",
            "          CC      0.995     0.989     0.992      1533\n",
            "          RB      0.989     0.979     0.984       971\n",
            "          MD      0.997     0.996     0.997      1034\n",
            "         PRP      0.998     0.999     0.998      1522\n",
            "         NNP      0.981     0.984     0.982      6990\n",
            "          SC      0.976     0.983     0.979      2582\n",
            "         NND      0.981     0.970     0.976       269\n",
            "          FW      0.985     0.947     0.966       473\n",
            "         NEG      1.000     1.000     1.000       326\n",
            "           X      0.958     0.764     0.850        89\n",
            "          OD      0.954     0.930     0.942       157\n",
            "          DT      1.000     1.000     1.000        72\n",
            "          RP      1.000     0.973     0.986        37\n",
            "          WH      1.000     0.966     0.982        58\n",
            "          UH      0.917     1.000     0.957        11\n",
            "          fw      1.000     1.000     1.000         1\n",
            "\n",
            "    accuracy                          0.989     51132\n",
            "   macro avg      0.987     0.976     0.981     51132\n",
            "weighted avg      0.989     0.989     0.989     51132\n",
            "\n"
          ],
          "name": "stdout"
        }
      ]
    },
    {
      "cell_type": "code",
      "metadata": {
        "id": "h2WBWXM2v6Me"
      },
      "source": [
        "# get sentence index for every tag\n",
        "d = []\n",
        "for index, sentence in enumerate(y_test):\n",
        "    for tag in sentence:\n",
        "        d.append((index, tag))"
      ],
      "execution_count": 13,
      "outputs": []
    },
    {
      "cell_type": "code",
      "metadata": {
        "id": "EPsY8_A5wx7d"
      },
      "source": [
        "from sklearn.metrics import confusion_matrix\n",
        "\n",
        "def post_tag(set):\n",
        "    path = '/content/drive/MyDrive/Data mining/crf-with-allfix-fold01-seed42.joblib'\n",
        "    crf = load(path)\n",
        "    X_test, y_test = prepare_data(set, prefix=True, suffix=True)\n",
        "    y_pred = crf.predict(X_test)\n",
        "    words = [word for sent in set for word, _ in sent]\n",
        "    return pd.DataFrame({'words': words, 'pos': y_pred[0], 'ne': y_test[0]})"
      ],
      "execution_count": 14,
      "outputs": []
    },
    {
      "cell_type": "code",
      "metadata": {
        "id": "0Ews4Zo3xCT9"
      },
      "source": [
        "e1 = [[('adik', 'a'),\n",
        "  ('makan','a'),\n",
        "  ('kentang','a'),\n",
        "  ('canada','a'),\n",
        "  ]]"
      ],
      "execution_count": 15,
      "outputs": []
    },
    {
      "cell_type": "code",
      "metadata": {
        "colab": {
          "base_uri": "https://localhost:8080/",
          "height": 171
        },
        "id": "WLt9SLvgxMEd",
        "outputId": "d7104981-dfab-49b2-80a2-d4e9367f8230"
      },
      "source": [
        "post_tag(e1)"
      ],
      "execution_count": 16,
      "outputs": [
        {
          "output_type": "execute_result",
          "data": {
            "text/html": [
              "<div>\n",
              "<style scoped>\n",
              "    .dataframe tbody tr th:only-of-type {\n",
              "        vertical-align: middle;\n",
              "    }\n",
              "\n",
              "    .dataframe tbody tr th {\n",
              "        vertical-align: top;\n",
              "    }\n",
              "\n",
              "    .dataframe thead th {\n",
              "        text-align: right;\n",
              "    }\n",
              "</style>\n",
              "<table border=\"1\" class=\"dataframe\">\n",
              "  <thead>\n",
              "    <tr style=\"text-align: right;\">\n",
              "      <th></th>\n",
              "      <th>words</th>\n",
              "      <th>pos</th>\n",
              "      <th>ne</th>\n",
              "    </tr>\n",
              "  </thead>\n",
              "  <tbody>\n",
              "    <tr>\n",
              "      <th>0</th>\n",
              "      <td>adik</td>\n",
              "      <td>JJ</td>\n",
              "      <td>a</td>\n",
              "    </tr>\n",
              "    <tr>\n",
              "      <th>1</th>\n",
              "      <td>makan</td>\n",
              "      <td>VB</td>\n",
              "      <td>a</td>\n",
              "    </tr>\n",
              "    <tr>\n",
              "      <th>2</th>\n",
              "      <td>kentang</td>\n",
              "      <td>IN</td>\n",
              "      <td>a</td>\n",
              "    </tr>\n",
              "    <tr>\n",
              "      <th>3</th>\n",
              "      <td>canada</td>\n",
              "      <td>JJ</td>\n",
              "      <td>a</td>\n",
              "    </tr>\n",
              "  </tbody>\n",
              "</table>\n",
              "</div>"
            ],
            "text/plain": [
              "     words pos ne\n",
              "0     adik  JJ  a\n",
              "1    makan  VB  a\n",
              "2  kentang  IN  a\n",
              "3   canada  JJ  a"
            ]
          },
          "metadata": {
            "tags": []
          },
          "execution_count": 16
        }
      ]
    },
    {
      "cell_type": "markdown",
      "metadata": {
        "id": "jthilLE_y1gl"
      },
      "source": [
        "# NER"
      ]
    },
    {
      "cell_type": "code",
      "metadata": {
        "id": "OmWt6oOry0eM"
      },
      "source": [
        ""
      ],
      "execution_count": 16,
      "outputs": []
    },
    {
      "cell_type": "code",
      "metadata": {
        "id": "jklrz0Oq0Czv"
      },
      "source": [
        "test_ner1 = ['Tengkoe Amir Hamzah yang bernama lengkap Tengkoe Amir Hamzah Pangeran Indra Poetera, atau lebih dikenal hanya dengan nama pena Amir Hamzah adalah sastrawan Indonesia angkatan Poedjangga Baroe dan Pahlawan Nasional Indonesia.',\n",
        "'Lahir dari keluarga bangsawan Melayu Kesultanan Langkat di Sumatra Utara, ia dididik di Sumatra dan Jawa. Saat berguru di SMA di Surakarta sekitar 1930, Amir muda terlibat dengan gerakan nasionalis dan jatuh cinta dengan seorang teman sekolahnya, Ilik Soendari.',\n",
        "'Bahkan setelah Amir melanjutkan studinya di sekolah hukum di Batavia (sekarang Jakarta) keduanya tetap dekat, hanya berpisah pada tahun 1937 ketika Amir dipanggil kembali ke Sumatra untuk menikahi putri sultan dan mengambil tanggung jawab di lingkungan keraton.',\n",
        "'Meskipun tidak bahagia dengan pernikahannya, dia memenuhi tugas kekeratonannya.',\n",
        "'Setelah Indonesia memproklamasikan kemerdekaannya pada tahun 1945, ia menjabat sebagai wakil pemerintah di Langkat.',\n",
        "'Namun siapa nyana, pada tahun pertama negara Indonesia yang baru lahir, ia meninggal dalam peristiwa konflik sosial berdarah di Sumatra yang disulut oleh faksi dari Partai Komunis Indonesia dan dimakamkan di sebuah kuburan massal.']\n",
        "\n",
        "test_ner2 = ['Lukisan Galileo menunjukkan bahwa ia pertama melihat Neptunus pada tanggal 28 Desember 1612 dan 27 Januari 1613.',\n",
        "'Pada kedua hari tersebut, Galileo salah menganggap Neptunus sebagai sebuah bintang tetap ketika planet ini muncul sangat dekat—konjungsi—dengan Jupiter pada langit malam.',\n",
        "'Ia tidak dianggap sebagai penemu Neptunus.',\n",
        "'Pada masa pengamatan pertamanya bulan Desember 1612, Neptunus bersifat tetap di langit karena planet ini baru saja mengalami penghuluan pada hari itu.',\n",
        "'Gerakan ke belakang ini terbentuk ketika orbit Bumi membawa Bumi melewati planet terluar.',\n",
        "'Karena Neptunus baru saja memulai siklus penghuluan tahunannya, gerakan planet ini terlalu sulit dilacak menggunakan teleskop kecil Galileo.',\n",
        "'pada Juli 2009, fisikawan Universitas Melbourne, David Jamieson mengumumkan adanya bukti baru yang menyatakan bahwa Galileo setidaknya sadar bahwa bintang yang ia amati telah berpindah relatif terhadap bintang tetap.']\n",
        "\n",
        "test_merg = test_ner1 + test_ner2"
      ],
      "execution_count": 17,
      "outputs": []
    },
    {
      "cell_type": "code",
      "metadata": {
        "id": "4IY5vZ5P8_Rl"
      },
      "source": [
        "import math\n",
        "import warnings\n",
        "import pyprind\n",
        "import pandas as pd\n",
        "import numpy as np"
      ],
      "execution_count": 18,
      "outputs": []
    },
    {
      "cell_type": "code",
      "metadata": {
        "id": "UIUdcFz89fP1"
      },
      "source": [
        "from sklearn.model_selection import train_test_split\n",
        "from sklearn.model_selection import learning_curve\n",
        "from sklearn.model_selection import RandomizedSearchCV\n",
        "from sklearn_crfsuite import CRF\n",
        "from sklearn_crfsuite import metrics\n",
        "from sklearn.metrics import make_scorer\n",
        "from sklearn.exceptions import UndefinedMetricWarning\n",
        "\n",
        "# from model_plots import plot_learning_curve"
      ],
      "execution_count": 19,
      "outputs": []
    },
    {
      "cell_type": "code",
      "metadata": {
        "colab": {
          "base_uri": "https://localhost:8080/",
          "height": 415
        },
        "id": "33rEZGuf28aR",
        "outputId": "7253f754-b2af-42fd-be6c-b77cf6efd4fc"
      },
      "source": [
        "ner_data = pd.read_csv('https://raw.githubusercontent.com/dfaizaditya/Data/master/train_data.tsv', sep='\\t', header=None)\n",
        "ner_data.columns = [\"token\", \"ne\"]\n",
        "ner_data"
      ],
      "execution_count": 20,
      "outputs": [
        {
          "output_type": "execute_result",
          "data": {
            "text/html": [
              "<div>\n",
              "<style scoped>\n",
              "    .dataframe tbody tr th:only-of-type {\n",
              "        vertical-align: middle;\n",
              "    }\n",
              "\n",
              "    .dataframe tbody tr th {\n",
              "        vertical-align: top;\n",
              "    }\n",
              "\n",
              "    .dataframe thead th {\n",
              "        text-align: right;\n",
              "    }\n",
              "</style>\n",
              "<table border=\"1\" class=\"dataframe\">\n",
              "  <thead>\n",
              "    <tr style=\"text-align: right;\">\n",
              "      <th></th>\n",
              "      <th>token</th>\n",
              "      <th>ne</th>\n",
              "    </tr>\n",
              "  </thead>\n",
              "  <tbody>\n",
              "    <tr>\n",
              "      <th>0</th>\n",
              "      <td>Agus</td>\n",
              "      <td>O</td>\n",
              "    </tr>\n",
              "    <tr>\n",
              "      <th>1</th>\n",
              "      <td>digantikan</td>\n",
              "      <td>O</td>\n",
              "    </tr>\n",
              "    <tr>\n",
              "      <th>2</th>\n",
              "      <td>Gatot</td>\n",
              "      <td>O</td>\n",
              "    </tr>\n",
              "    <tr>\n",
              "      <th>3</th>\n",
              "      <td>Lupri</td>\n",
              "      <td>O</td>\n",
              "    </tr>\n",
              "    <tr>\n",
              "      <th>4</th>\n",
              "      <td>Jantomo</td>\n",
              "      <td>O</td>\n",
              "    </tr>\n",
              "    <tr>\n",
              "      <th>...</th>\n",
              "      <td>...</td>\n",
              "      <td>...</td>\n",
              "    </tr>\n",
              "    <tr>\n",
              "      <th>52936</th>\n",
              "      <td>poin</td>\n",
              "      <td>O</td>\n",
              "    </tr>\n",
              "    <tr>\n",
              "      <th>52937</th>\n",
              "      <td>metode</td>\n",
              "      <td>O</td>\n",
              "    </tr>\n",
              "    <tr>\n",
              "      <th>52938</th>\n",
              "      <td>penghitungan</td>\n",
              "      <td>O</td>\n",
              "    </tr>\n",
              "    <tr>\n",
              "      <th>52939</th>\n",
              "      <td>suara</td>\n",
              "      <td>O</td>\n",
              "    </tr>\n",
              "    <tr>\n",
              "      <th>52940</th>\n",
              "      <td>.</td>\n",
              "      <td>O</td>\n",
              "    </tr>\n",
              "  </tbody>\n",
              "</table>\n",
              "<p>52941 rows × 2 columns</p>\n",
              "</div>"
            ],
            "text/plain": [
              "              token ne\n",
              "0              Agus  O\n",
              "1        digantikan  O\n",
              "2             Gatot  O\n",
              "3             Lupri  O\n",
              "4           Jantomo  O\n",
              "...             ... ..\n",
              "52936          poin  O\n",
              "52937        metode  O\n",
              "52938  penghitungan  O\n",
              "52939         suara  O\n",
              "52940             .  O\n",
              "\n",
              "[52941 rows x 2 columns]"
            ]
          },
          "metadata": {
            "tags": []
          },
          "execution_count": 20
        }
      ]
    },
    {
      "cell_type": "code",
      "metadata": {
        "colab": {
          "base_uri": "https://localhost:8080/"
        },
        "id": "L5v3mjqUhua6",
        "outputId": "a0e28d48-a5f0-42b4-8b31-9509185eabf3"
      },
      "source": [
        "# Explore the distribution of NE tags in the dataset\n",
        "tag_distribution = ner_data.groupby(\"ne\").size().reset_index(name='counts')\n",
        "print(tag_distribution)"
      ],
      "execution_count": 21,
      "outputs": [
        {
          "output_type": "stream",
          "text": [
            "               ne  counts\n",
            "0      B-LOCATION    1017\n",
            "1  B-ORGANIZATION     822\n",
            "2        B-PERSON    1491\n",
            "3      I-LOCATION     588\n",
            "4  I-ORGANIZATION     879\n",
            "5        I-PERSON     901\n",
            "6               O   44898\n"
          ],
          "name": "stdout"
        }
      ]
    },
    {
      "cell_type": "code",
      "metadata": {
        "colab": {
          "base_uri": "https://localhost:8080/"
        },
        "id": "Cv2oMk7pgldL",
        "outputId": "a3faadc3-7ea5-41b3-8150-1c673805534e"
      },
      "source": [
        "# Extract the useful classes (not 'O' or NaN values) as a list\n",
        "classes = list(filter(lambda x: x not in [\"O\", np.nan], list(ner_data[\"ne\"].unique())))\n",
        "\n",
        "print(classes)"
      ],
      "execution_count": 22,
      "outputs": [
        {
          "output_type": "stream",
          "text": [
            "['B-PERSON', 'I-PERSON', 'B-LOCATION', 'I-LOCATION', 'B-ORGANIZATION', 'I-ORGANIZATION']\n"
          ],
          "name": "stdout"
        }
      ]
    },
    {
      "cell_type": "code",
      "metadata": {
        "colab": {
          "base_uri": "https://localhost:8080/"
        },
        "id": "rYWVB_ipAzbI",
        "outputId": "80020106-eedb-4ff6-d153-7d60de6de9d4"
      },
      "source": [
        "# Create a sentences dictionary and an initial single sentence dictionary\n",
        "sentences, sentence = [], []\n",
        "\n",
        "# Create a progress bar\n",
        "pbar = pyprind.ProgBar(len(ner_data))\n",
        "\n",
        "# For each row in the NER data...\n",
        "for index, row in ner_data.iterrows():\n",
        "    # If the row is empty (no string in the token column)\n",
        "    if type(row[\"token\"]) != str:\n",
        "        # If the current sentence is not empty, append it to the sentences and create a new sentence\n",
        "        if len(sentence) > 0:\n",
        "            sentences.append(sentence)\n",
        "            sentence = []\n",
        "    else:\n",
        "        if type(row[\"token\"]) != float and type(row[\"ne\"]) != float:\n",
        "          sentence.append([row[\"token\"], row[\"ne\"]])\n",
        "    pbar.update()"
      ],
      "execution_count": 23,
      "outputs": [
        {
          "output_type": "stream",
          "text": [
            "0% [##############################] 100% | ETA: 00:00:00\n",
            "Total time elapsed: 00:00:06\n"
          ],
          "name": "stderr"
        }
      ]
    },
    {
      "cell_type": "code",
      "metadata": {
        "colab": {
          "base_uri": "https://localhost:8080/"
        },
        "id": "WkXc9PItB32Y",
        "outputId": "6c9a4e66-9f17-478e-bdc4-ccace5f1dd50"
      },
      "source": [
        "sentences[0]"
      ],
      "execution_count": 24,
      "outputs": [
        {
          "output_type": "execute_result",
          "data": {
            "text/plain": [
              "[['Agus', 'O'],\n",
              " ['digantikan', 'O'],\n",
              " ['Gatot', 'O'],\n",
              " ['Lupri', 'O'],\n",
              " ['Jantomo', 'O'],\n",
              " ['dari', 'O'],\n",
              " ['daerah', 'O'],\n",
              " ['pemilhan', 'O'],\n",
              " ['Jawa', 'O'],\n",
              " ['Tengah', 'O'],\n",
              " ['VIII', 'O'],\n",
              " ['di', 'O'],\n",
              " ['nomor', 'O'],\n",
              " ['urut', 'O'],\n",
              " ['keempat', 'O'],\n",
              " ['.', 'O']]"
            ]
          },
          "metadata": {
            "tags": []
          },
          "execution_count": 24
        }
      ]
    },
    {
      "cell_type": "code",
      "metadata": {
        "colab": {
          "base_uri": "https://localhost:8080/",
          "height": 539
        },
        "id": "XEiFnmTz1Akb",
        "outputId": "e8a96e91-fc6e-4ce0-8d20-c7c9933e10cb"
      },
      "source": [
        "post_tag([list(map(tuple, sentences[0]))])"
      ],
      "execution_count": 25,
      "outputs": [
        {
          "output_type": "execute_result",
          "data": {
            "text/html": [
              "<div>\n",
              "<style scoped>\n",
              "    .dataframe tbody tr th:only-of-type {\n",
              "        vertical-align: middle;\n",
              "    }\n",
              "\n",
              "    .dataframe tbody tr th {\n",
              "        vertical-align: top;\n",
              "    }\n",
              "\n",
              "    .dataframe thead th {\n",
              "        text-align: right;\n",
              "    }\n",
              "</style>\n",
              "<table border=\"1\" class=\"dataframe\">\n",
              "  <thead>\n",
              "    <tr style=\"text-align: right;\">\n",
              "      <th></th>\n",
              "      <th>words</th>\n",
              "      <th>pos</th>\n",
              "      <th>ne</th>\n",
              "    </tr>\n",
              "  </thead>\n",
              "  <tbody>\n",
              "    <tr>\n",
              "      <th>0</th>\n",
              "      <td>Agus</td>\n",
              "      <td>NNP</td>\n",
              "      <td>O</td>\n",
              "    </tr>\n",
              "    <tr>\n",
              "      <th>1</th>\n",
              "      <td>digantikan</td>\n",
              "      <td>VB</td>\n",
              "      <td>O</td>\n",
              "    </tr>\n",
              "    <tr>\n",
              "      <th>2</th>\n",
              "      <td>Gatot</td>\n",
              "      <td>NNP</td>\n",
              "      <td>O</td>\n",
              "    </tr>\n",
              "    <tr>\n",
              "      <th>3</th>\n",
              "      <td>Lupri</td>\n",
              "      <td>NNP</td>\n",
              "      <td>O</td>\n",
              "    </tr>\n",
              "    <tr>\n",
              "      <th>4</th>\n",
              "      <td>Jantomo</td>\n",
              "      <td>NNP</td>\n",
              "      <td>O</td>\n",
              "    </tr>\n",
              "    <tr>\n",
              "      <th>5</th>\n",
              "      <td>dari</td>\n",
              "      <td>IN</td>\n",
              "      <td>O</td>\n",
              "    </tr>\n",
              "    <tr>\n",
              "      <th>6</th>\n",
              "      <td>daerah</td>\n",
              "      <td>NN</td>\n",
              "      <td>O</td>\n",
              "    </tr>\n",
              "    <tr>\n",
              "      <th>7</th>\n",
              "      <td>pemilhan</td>\n",
              "      <td>NN</td>\n",
              "      <td>O</td>\n",
              "    </tr>\n",
              "    <tr>\n",
              "      <th>8</th>\n",
              "      <td>Jawa</td>\n",
              "      <td>NNP</td>\n",
              "      <td>O</td>\n",
              "    </tr>\n",
              "    <tr>\n",
              "      <th>9</th>\n",
              "      <td>Tengah</td>\n",
              "      <td>NNP</td>\n",
              "      <td>O</td>\n",
              "    </tr>\n",
              "    <tr>\n",
              "      <th>10</th>\n",
              "      <td>VIII</td>\n",
              "      <td>NNP</td>\n",
              "      <td>O</td>\n",
              "    </tr>\n",
              "    <tr>\n",
              "      <th>11</th>\n",
              "      <td>di</td>\n",
              "      <td>IN</td>\n",
              "      <td>O</td>\n",
              "    </tr>\n",
              "    <tr>\n",
              "      <th>12</th>\n",
              "      <td>nomor</td>\n",
              "      <td>NN</td>\n",
              "      <td>O</td>\n",
              "    </tr>\n",
              "    <tr>\n",
              "      <th>13</th>\n",
              "      <td>urut</td>\n",
              "      <td>IN</td>\n",
              "      <td>O</td>\n",
              "    </tr>\n",
              "    <tr>\n",
              "      <th>14</th>\n",
              "      <td>keempat</td>\n",
              "      <td>OD</td>\n",
              "      <td>O</td>\n",
              "    </tr>\n",
              "    <tr>\n",
              "      <th>15</th>\n",
              "      <td>.</td>\n",
              "      <td>Z</td>\n",
              "      <td>O</td>\n",
              "    </tr>\n",
              "  </tbody>\n",
              "</table>\n",
              "</div>"
            ],
            "text/plain": [
              "         words  pos ne\n",
              "0         Agus  NNP  O\n",
              "1   digantikan   VB  O\n",
              "2        Gatot  NNP  O\n",
              "3        Lupri  NNP  O\n",
              "4      Jantomo  NNP  O\n",
              "5         dari   IN  O\n",
              "6       daerah   NN  O\n",
              "7     pemilhan   NN  O\n",
              "8         Jawa  NNP  O\n",
              "9       Tengah  NNP  O\n",
              "10        VIII  NNP  O\n",
              "11          di   IN  O\n",
              "12       nomor   NN  O\n",
              "13        urut   IN  O\n",
              "14     keempat   OD  O\n",
              "15           .    Z  O"
            ]
          },
          "metadata": {
            "tags": []
          },
          "execution_count": 25
        }
      ]
    },
    {
      "cell_type": "code",
      "metadata": {
        "colab": {
          "base_uri": "https://localhost:8080/"
        },
        "id": "H4m3HdT72aWq",
        "outputId": "0d32d08b-abd6-4731-ac68-426ffaecd088"
      },
      "source": [
        "fin = []\n",
        "# Create a progress bar\n",
        "pbar = pyprind.ProgBar(len(sentences))\n",
        "for x in sentences:\n",
        "  dt = post_tag([list(map(tuple, x))])\n",
        "  dl = dt.values.tolist()\n",
        "  fin.append(dl)\n",
        "  pbar.update()"
      ],
      "execution_count": 26,
      "outputs": [
        {
          "output_type": "stream",
          "text": [
            "0% [##############################] 100% | ETA: 00:00:00\n",
            "Total time elapsed: 00:01:58\n"
          ],
          "name": "stderr"
        }
      ]
    },
    {
      "cell_type": "code",
      "metadata": {
        "id": "BOX6Zgn2B506",
        "colab": {
          "base_uri": "https://localhost:8080/"
        },
        "outputId": "fdc3b651-ec1b-47b9-a3cc-3590d121e154"
      },
      "source": [
        "fin[0]"
      ],
      "execution_count": 27,
      "outputs": [
        {
          "output_type": "execute_result",
          "data": {
            "text/plain": [
              "[['Agus', 'NNP', 'O'],\n",
              " ['digantikan', 'VB', 'O'],\n",
              " ['Gatot', 'NNP', 'O'],\n",
              " ['Lupri', 'NNP', 'O'],\n",
              " ['Jantomo', 'NNP', 'O'],\n",
              " ['dari', 'IN', 'O'],\n",
              " ['daerah', 'NN', 'O'],\n",
              " ['pemilhan', 'NN', 'O'],\n",
              " ['Jawa', 'NNP', 'O'],\n",
              " ['Tengah', 'NNP', 'O'],\n",
              " ['VIII', 'NNP', 'O'],\n",
              " ['di', 'IN', 'O'],\n",
              " ['nomor', 'NN', 'O'],\n",
              " ['urut', 'IN', 'O'],\n",
              " ['keempat', 'OD', 'O'],\n",
              " ['.', 'Z', 'O']]"
            ]
          },
          "metadata": {
            "tags": []
          },
          "execution_count": 27
        }
      ]
    },
    {
      "cell_type": "code",
      "metadata": {
        "id": "C3o_kFwEDfwg"
      },
      "source": [
        "def word2features(sent, i):\n",
        "    word = sent[i][0]\n",
        "    postag = sent[i][1]\n",
        "\n",
        "    features = {\n",
        "        'bias': 1.0,\n",
        "        'word.lower()': word.lower(),\n",
        "        'word[-3:]': word[-3:],\n",
        "        'word[-2:]': word[-2:],\n",
        "        'word.isupper()': word.isupper(),\n",
        "        'word.istitle()': word.istitle(),\n",
        "        'word.isdigit()': word.isdigit(),\n",
        "        'postag': postag,\n",
        "        'postag[:2]': postag[:2],\n",
        "        '2_gram' : gram_2(word),\n",
        "        '3_gram' : gram_3(word),\n",
        "        '4_gram' : gram_4(word),\n",
        "        'word.IsInitCaps()': IsInitCaps(word),\n",
        "        'word.IsMixedCaps()': IsMixedCaps(word),\n",
        "\n",
        "    }\n",
        "    if i > 0:\n",
        "        word1 = sent[i-1][0]\n",
        "        postag1 = sent[i-1][1]\n",
        "        features.update({\n",
        "            '-1:token': word1,\n",
        "            '-1:word.lower()': word1.lower(),\n",
        "            '-1:word.istitle()': word1.istitle(),\n",
        "            '-1:word.isupper()': word1.isupper(),\n",
        "            '-1:postag': postag1,\n",
        "            '-1:postag[:2]': postag1[:2],\n",
        "        })\n",
        "    else:\n",
        "        features['BOS'] = True\n",
        "\n",
        "    if i > 0:\n",
        "        word2 = sent[i-2][0]\n",
        "        postag2 = sent[i-2][1]\n",
        "        features.update({\n",
        "            '-2:token': word2,\n",
        "        })\n",
        "    else:\n",
        "        features['BOS'] = False\n",
        "\n",
        "    if i < len(sent)-1:\n",
        "        word1 = sent[i+1][0]\n",
        "        postag1 = sent[i+1][1]\n",
        "        features.update({\n",
        "            '+1:token': word1,\n",
        "            '+1:word.lower()': word1.lower(),\n",
        "            '+1:word.istitle()': word1.istitle(),\n",
        "            '+1:word.isupper()': word1.isupper(),\n",
        "            '+1:postag': postag1,\n",
        "            '+1:postag[:2]': postag1[:2],\n",
        "        })\n",
        "    else:\n",
        "        features['EOS'] = True\n",
        "\n",
        "    if i < len(sent)-2:\n",
        "        word2 = sent[i+2][0]\n",
        "        postag2 = sent[i+2][1]\n",
        "        features.update({\n",
        "            '+2:token': word2\n",
        "        })\n",
        "    else:\n",
        "        features['EOS'] = False\n",
        "\n",
        "    return features\n",
        "\n",
        "\n",
        "def sent2features(sent):\n",
        "    return [word2features(sent, i) for i in range(len(sent))]\n",
        "\n",
        "def sent2labels(sent):\n",
        "    return [label for token, postag, label in sent]\n",
        "\n",
        "def sent2tokens(sent):\n",
        "    return [token for token, postag, label in sent]\n",
        "\n",
        "def gram_2(n):\n",
        "  if (len(n)<3):\n",
        "      return n\n",
        "  else:\n",
        "    lst = []\n",
        "    s = list(n)\n",
        "    for x in range(len(s)-1):\n",
        "      a = s[x] + s[x+1]\n",
        "      lst.append(a)\n",
        "    return lst\n",
        "\n",
        "def gram_3(n):\n",
        "  if (len(n)<4):\n",
        "      return n\n",
        "  else:\n",
        "    lst = []\n",
        "    s = list(n)\n",
        "    for x in range(len(s)-2):\n",
        "      a = s[x] + s[x+1] + s[x+2]\n",
        "      lst.append(a)\n",
        "    return lst\n",
        "        \n",
        "def gram_4(n):\n",
        "  if (len(n)<5):\n",
        "      return n\n",
        "  else:\n",
        "    lst = []\n",
        "    s = list(n)\n",
        "    for x in range(len(s)-3):\n",
        "      a = s[x] + s[x+1] + s[x+2] + s[x+3]\n",
        "      lst.append(a)\n",
        "    return lst\n",
        "\n",
        "def IsMixedCaps(n):\n",
        "  n = n[1:]\n",
        "  z = list(n)\n",
        "  for x in z:\n",
        "    if(x.isupper()):\n",
        "      return 1\n",
        "  return 0\n",
        "\n",
        "def IsInitCaps(n):\n",
        "  if(n[0].isupper()):\n",
        "    return 1\n",
        "  else:\n",
        "    return 0\n"
      ],
      "execution_count": 28,
      "outputs": []
    },
    {
      "cell_type": "code",
      "metadata": {
        "id": "Z9kkSA_3ExPP"
      },
      "source": [
        "X = [sent2features(s) for s in fin]\n",
        "y = [sent2labels(s) for s in fin]"
      ],
      "execution_count": 29,
      "outputs": []
    },
    {
      "cell_type": "code",
      "metadata": {
        "colab": {
          "base_uri": "https://localhost:8080/"
        },
        "id": "1eZJ2pDvFHmP",
        "outputId": "40f45e9a-0154-4e3a-cd85-d12aa8e98708"
      },
      "source": [
        "# Split X and y into training (80%) and test (20%) sets\n",
        "X_train, X_test, y_train, y_test = train_test_split(X, y, test_size=0.2, random_state=0)\n",
        "\n",
        "print(\"First token features:\\n{}\\n{}\".format(\"-\"*21, X_train[0][0]))\n",
        "print(\"\\nFirst token label:\\n{}\\n{}\".format(\"-\"*18, y_train[0][0]))"
      ],
      "execution_count": 30,
      "outputs": [
        {
          "output_type": "stream",
          "text": [
            "First token features:\n",
            "---------------------\n",
            "{'bias': 1.0, 'word.lower()': 'jero', 'word[-3:]': 'ero', 'word[-2:]': 'ro', 'word.isupper()': False, 'word.istitle()': True, 'word.isdigit()': False, 'postag': 'NNP', 'postag[:2]': 'NN', '2_gram': ['Je', 'er', 'ro'], '3_gram': ['Jer', 'ero'], '4_gram': 'Jero', 'word.IsInitCaps()': 1, 'word.IsMixedCaps()': 0, 'BOS': False, '+1:token': 'optimistis', '+1:word.lower()': 'optimistis', '+1:word.istitle()': False, '+1:word.isupper()': False, '+1:postag': 'JJ', '+1:postag[:2]': 'JJ', '+2:token': 'kuota'}\n",
            "\n",
            "First token label:\n",
            "------------------\n",
            "B-PERSON\n"
          ],
          "name": "stdout"
        }
      ]
    },
    {
      "cell_type": "code",
      "metadata": {
        "colab": {
          "base_uri": "https://localhost:8080/"
        },
        "id": "Nlxlmi21Hmbb",
        "outputId": "1f75e7d8-da03-454b-d0ea-d7e5dc57041b"
      },
      "source": [
        "# Create a new CRF model\n",
        "crf = CRF(algorithm=\"lbfgs\",\n",
        "          c1=0.1,\n",
        "          c2=0.1,\n",
        "          max_iterations=100,\n",
        "          all_possible_transitions=True)\n",
        "\n",
        "# Train the CRF model on the supplied training data\n",
        "crf.fit(X_train, y_train)"
      ],
      "execution_count": 31,
      "outputs": [
        {
          "output_type": "stream",
          "text": [
            "/usr/local/lib/python3.7/dist-packages/sklearn/base.py:197: FutureWarning: From version 0.24, get_params will raise an AttributeError if a parameter cannot be retrieved as an instance attribute. Previously it would return None.\n",
            "  FutureWarning)\n"
          ],
          "name": "stderr"
        },
        {
          "output_type": "execute_result",
          "data": {
            "text/plain": [
              "CRF(algorithm='lbfgs', all_possible_states=None, all_possible_transitions=True,\n",
              "    averaging=None, c=None, c1=0.1, c2=0.1, calibration_candidates=None,\n",
              "    calibration_eta=None, calibration_max_trials=None, calibration_rate=None,\n",
              "    calibration_samples=None, delta=None, epsilon=None, error_sensitive=None,\n",
              "    gamma=None, keep_tempfiles=None, linesearch=None, max_iterations=100,\n",
              "    max_linesearch=None, min_freq=None, model_filename=None, num_memories=None,\n",
              "    pa_type=None, period=None, trainer_cls=None, variance=None, verbose=False)"
            ]
          },
          "metadata": {
            "tags": []
          },
          "execution_count": 31
        }
      ]
    },
    {
      "cell_type": "code",
      "metadata": {
        "colab": {
          "base_uri": "https://localhost:8080/"
        },
        "id": "HQ4klsfyIYCr",
        "outputId": "a9bf9079-8099-43a2-f31a-b2b918f0ecaa"
      },
      "source": [
        "# CRF model to predict on the test data\n",
        "y_pred = crf.predict(X_test)\n",
        "print(metrics.flat_classification_report(y_test, y_pred, labels=classes))"
      ],
      "execution_count": 32,
      "outputs": [
        {
          "output_type": "stream",
          "text": [
            "                precision    recall  f1-score   support\n",
            "\n",
            "      B-PERSON       0.88      0.85      0.87       318\n",
            "      I-PERSON       0.78      0.82      0.80       186\n",
            "    B-LOCATION       0.82      0.79      0.81       198\n",
            "    I-LOCATION       0.69      0.63      0.66       109\n",
            "B-ORGANIZATION       0.66      0.66      0.66       153\n",
            "I-ORGANIZATION       0.61      0.62      0.61       164\n",
            "\n",
            "     micro avg       0.76      0.75      0.76      1128\n",
            "     macro avg       0.74      0.73      0.73      1128\n",
            "  weighted avg       0.77      0.75      0.76      1128\n",
            "\n"
          ],
          "name": "stdout"
        }
      ]
    },
    {
      "cell_type": "markdown",
      "metadata": {
        "id": "eJF2feQGMb1J"
      },
      "source": [
        "## c. Prediksi test_set"
      ]
    },
    {
      "cell_type": "code",
      "metadata": {
        "colab": {
          "base_uri": "https://localhost:8080/"
        },
        "id": "zw_gXiNjL7Uh",
        "outputId": "279963f1-90e2-4799-a299-1be8f5d9a3c8"
      },
      "source": [
        "test_merg"
      ],
      "execution_count": 33,
      "outputs": [
        {
          "output_type": "execute_result",
          "data": {
            "text/plain": [
              "['Tengkoe Amir Hamzah yang bernama lengkap Tengkoe Amir Hamzah Pangeran Indra Poetera, atau lebih dikenal hanya dengan nama pena Amir Hamzah adalah sastrawan Indonesia angkatan Poedjangga Baroe dan Pahlawan Nasional Indonesia.',\n",
              " 'Lahir dari keluarga bangsawan Melayu Kesultanan Langkat di Sumatra Utara, ia dididik di Sumatra dan Jawa. Saat berguru di SMA di Surakarta sekitar 1930, Amir muda terlibat dengan gerakan nasionalis dan jatuh cinta dengan seorang teman sekolahnya, Ilik Soendari.',\n",
              " 'Bahkan setelah Amir melanjutkan studinya di sekolah hukum di Batavia (sekarang Jakarta) keduanya tetap dekat, hanya berpisah pada tahun 1937 ketika Amir dipanggil kembali ke Sumatra untuk menikahi putri sultan dan mengambil tanggung jawab di lingkungan keraton.',\n",
              " 'Meskipun tidak bahagia dengan pernikahannya, dia memenuhi tugas kekeratonannya.',\n",
              " 'Setelah Indonesia memproklamasikan kemerdekaannya pada tahun 1945, ia menjabat sebagai wakil pemerintah di Langkat.',\n",
              " 'Namun siapa nyana, pada tahun pertama negara Indonesia yang baru lahir, ia meninggal dalam peristiwa konflik sosial berdarah di Sumatra yang disulut oleh faksi dari Partai Komunis Indonesia dan dimakamkan di sebuah kuburan massal.',\n",
              " 'Lukisan Galileo menunjukkan bahwa ia pertama melihat Neptunus pada tanggal 28 Desember 1612 dan 27 Januari 1613.',\n",
              " 'Pada kedua hari tersebut, Galileo salah menganggap Neptunus sebagai sebuah bintang tetap ketika planet ini muncul sangat dekat—konjungsi—dengan Jupiter pada langit malam.',\n",
              " 'Ia tidak dianggap sebagai penemu Neptunus.',\n",
              " 'Pada masa pengamatan pertamanya bulan Desember 1612, Neptunus bersifat tetap di langit karena planet ini baru saja mengalami penghuluan pada hari itu.',\n",
              " 'Gerakan ke belakang ini terbentuk ketika orbit Bumi membawa Bumi melewati planet terluar.',\n",
              " 'Karena Neptunus baru saja memulai siklus penghuluan tahunannya, gerakan planet ini terlalu sulit dilacak menggunakan teleskop kecil Galileo.',\n",
              " 'pada Juli 2009, fisikawan Universitas Melbourne, David Jamieson mengumumkan adanya bukti baru yang menyatakan bahwa Galileo setidaknya sadar bahwa bintang yang ia amati telah berpindah relatif terhadap bintang tetap.']"
            ]
          },
          "metadata": {
            "tags": []
          },
          "execution_count": 33
        }
      ]
    },
    {
      "cell_type": "code",
      "metadata": {
        "id": "GDGcezk6NKB4"
      },
      "source": [
        "los = []\n",
        "tmp =[]\n",
        "for x in test_merg:\n",
        "  t = x.split()\n",
        "  for x in t :\n",
        "    tmp.append([x, 'X'])\n",
        "  los.append(tmp)\n",
        "  tmp = []"
      ],
      "execution_count": 34,
      "outputs": []
    },
    {
      "cell_type": "code",
      "metadata": {
        "id": "38Vd6K-lXVMy"
      },
      "source": [
        "los2 = []\n",
        "tmp =[]\n",
        "for x in test_merg:\n",
        "  t = x.split()\n",
        "  for x in t :\n",
        "    tmp.append(x)\n",
        "  los2.append(tmp)\n",
        "  tmp = []"
      ],
      "execution_count": 35,
      "outputs": []
    },
    {
      "cell_type": "markdown",
      "metadata": {
        "id": "15c2wsZNM1eh"
      },
      "source": [
        "POST tag"
      ]
    },
    {
      "cell_type": "code",
      "metadata": {
        "colab": {
          "base_uri": "https://localhost:8080/"
        },
        "id": "fAPEME__MHQo",
        "outputId": "3920b7a2-35e9-4f51-9e4e-6a777001e635"
      },
      "source": [
        "fin2 = []\n",
        "# Create a progress bar\n",
        "pbar = pyprind.ProgBar(len(los))\n",
        "for x in los:\n",
        "  dt = post_tag([list(map(tuple, x))])\n",
        "  dl = dt.values.tolist()\n",
        "  fin2.append(dl)\n",
        "  pbar.update()"
      ],
      "execution_count": 36,
      "outputs": [
        {
          "output_type": "stream",
          "text": [
            "0% [#############] 100% | ETA: 00:00:00\n",
            "Total time elapsed: 00:00:00\n"
          ],
          "name": "stderr"
        }
      ]
    },
    {
      "cell_type": "code",
      "metadata": {
        "colab": {
          "base_uri": "https://localhost:8080/"
        },
        "id": "1l-MK_83O0Zf",
        "outputId": "370328f8-1988-4ca3-b6ad-552564f1dfe1"
      },
      "source": [
        "fin2[0]"
      ],
      "execution_count": 37,
      "outputs": [
        {
          "output_type": "execute_result",
          "data": {
            "text/plain": [
              "[['Tengkoe', 'NNP', 'X'],\n",
              " ['Amir', 'NNP', 'X'],\n",
              " ['Hamzah', 'NNP', 'X'],\n",
              " ['yang', 'SC', 'X'],\n",
              " ['bernama', 'VB', 'X'],\n",
              " ['lengkap', 'JJ', 'X'],\n",
              " ['Tengkoe', 'NNP', 'X'],\n",
              " ['Amir', 'NNP', 'X'],\n",
              " ['Hamzah', 'NNP', 'X'],\n",
              " ['Pangeran', 'NNP', 'X'],\n",
              " ['Indra', 'NNP', 'X'],\n",
              " ['Poetera,', 'NNP', 'X'],\n",
              " ['atau', 'CC', 'X'],\n",
              " ['lebih', 'RB', 'X'],\n",
              " ['dikenal', 'VB', 'X'],\n",
              " ['hanya', 'RB', 'X'],\n",
              " ['dengan', 'IN', 'X'],\n",
              " ['nama', 'NN', 'X'],\n",
              " ['pena', 'NN', 'X'],\n",
              " ['Amir', 'NNP', 'X'],\n",
              " ['Hamzah', 'NNP', 'X'],\n",
              " ['adalah', 'VB', 'X'],\n",
              " ['sastrawan', 'NN', 'X'],\n",
              " ['Indonesia', 'NNP', 'X'],\n",
              " ['angkatan', 'NN', 'X'],\n",
              " ['Poedjangga', 'NNP', 'X'],\n",
              " ['Baroe', 'NNP', 'X'],\n",
              " ['dan', 'CC', 'X'],\n",
              " ['Pahlawan', 'NNP', 'X'],\n",
              " ['Nasional', 'NNP', 'X'],\n",
              " ['Indonesia.', 'NNP', 'X']]"
            ]
          },
          "metadata": {
            "tags": []
          },
          "execution_count": 37
        }
      ]
    },
    {
      "cell_type": "code",
      "metadata": {
        "id": "H2SaHMt0O7C_"
      },
      "source": [
        "x_set = [sent2features(s) for s in fin2]\n",
        "y_set = [sent2labels(s) for s in fin2]"
      ],
      "execution_count": 38,
      "outputs": []
    },
    {
      "cell_type": "code",
      "metadata": {
        "id": "qhFW_qbNUuKD"
      },
      "source": [
        "set_pred = crf.predict(x_set)"
      ],
      "execution_count": 39,
      "outputs": []
    },
    {
      "cell_type": "code",
      "metadata": {
        "colab": {
          "base_uri": "https://localhost:8080/",
          "height": 147
        },
        "id": "lO45lZRrU6qi",
        "outputId": "e77315d2-03fe-446e-d1ab-62a98b9ab6d4"
      },
      "source": [
        "test_1 = pd.DataFrame(\n",
        "    {'Kalimat': los2[0],\n",
        "     'Prediksi': set_pred[0],\n",
        "    })\n",
        "test_1.T"
      ],
      "execution_count": 40,
      "outputs": [
        {
          "output_type": "execute_result",
          "data": {
            "text/html": [
              "<div>\n",
              "<style scoped>\n",
              "    .dataframe tbody tr th:only-of-type {\n",
              "        vertical-align: middle;\n",
              "    }\n",
              "\n",
              "    .dataframe tbody tr th {\n",
              "        vertical-align: top;\n",
              "    }\n",
              "\n",
              "    .dataframe thead th {\n",
              "        text-align: right;\n",
              "    }\n",
              "</style>\n",
              "<table border=\"1\" class=\"dataframe\">\n",
              "  <thead>\n",
              "    <tr style=\"text-align: right;\">\n",
              "      <th></th>\n",
              "      <th>0</th>\n",
              "      <th>1</th>\n",
              "      <th>2</th>\n",
              "      <th>3</th>\n",
              "      <th>4</th>\n",
              "      <th>5</th>\n",
              "      <th>6</th>\n",
              "      <th>7</th>\n",
              "      <th>8</th>\n",
              "      <th>9</th>\n",
              "      <th>10</th>\n",
              "      <th>11</th>\n",
              "      <th>12</th>\n",
              "      <th>13</th>\n",
              "      <th>14</th>\n",
              "      <th>15</th>\n",
              "      <th>16</th>\n",
              "      <th>17</th>\n",
              "      <th>18</th>\n",
              "      <th>19</th>\n",
              "      <th>20</th>\n",
              "      <th>21</th>\n",
              "      <th>22</th>\n",
              "      <th>23</th>\n",
              "      <th>24</th>\n",
              "      <th>25</th>\n",
              "      <th>26</th>\n",
              "      <th>27</th>\n",
              "      <th>28</th>\n",
              "      <th>29</th>\n",
              "      <th>30</th>\n",
              "    </tr>\n",
              "  </thead>\n",
              "  <tbody>\n",
              "    <tr>\n",
              "      <th>Kalimat</th>\n",
              "      <td>Tengkoe</td>\n",
              "      <td>Amir</td>\n",
              "      <td>Hamzah</td>\n",
              "      <td>yang</td>\n",
              "      <td>bernama</td>\n",
              "      <td>lengkap</td>\n",
              "      <td>Tengkoe</td>\n",
              "      <td>Amir</td>\n",
              "      <td>Hamzah</td>\n",
              "      <td>Pangeran</td>\n",
              "      <td>Indra</td>\n",
              "      <td>Poetera,</td>\n",
              "      <td>atau</td>\n",
              "      <td>lebih</td>\n",
              "      <td>dikenal</td>\n",
              "      <td>hanya</td>\n",
              "      <td>dengan</td>\n",
              "      <td>nama</td>\n",
              "      <td>pena</td>\n",
              "      <td>Amir</td>\n",
              "      <td>Hamzah</td>\n",
              "      <td>adalah</td>\n",
              "      <td>sastrawan</td>\n",
              "      <td>Indonesia</td>\n",
              "      <td>angkatan</td>\n",
              "      <td>Poedjangga</td>\n",
              "      <td>Baroe</td>\n",
              "      <td>dan</td>\n",
              "      <td>Pahlawan</td>\n",
              "      <td>Nasional</td>\n",
              "      <td>Indonesia.</td>\n",
              "    </tr>\n",
              "    <tr>\n",
              "      <th>Prediksi</th>\n",
              "      <td>B-PERSON</td>\n",
              "      <td>I-PERSON</td>\n",
              "      <td>I-PERSON</td>\n",
              "      <td>O</td>\n",
              "      <td>O</td>\n",
              "      <td>O</td>\n",
              "      <td>B-PERSON</td>\n",
              "      <td>I-PERSON</td>\n",
              "      <td>I-PERSON</td>\n",
              "      <td>I-PERSON</td>\n",
              "      <td>I-PERSON</td>\n",
              "      <td>I-PERSON</td>\n",
              "      <td>O</td>\n",
              "      <td>O</td>\n",
              "      <td>O</td>\n",
              "      <td>O</td>\n",
              "      <td>O</td>\n",
              "      <td>O</td>\n",
              "      <td>O</td>\n",
              "      <td>B-PERSON</td>\n",
              "      <td>I-PERSON</td>\n",
              "      <td>O</td>\n",
              "      <td>O</td>\n",
              "      <td>B-LOCATION</td>\n",
              "      <td>O</td>\n",
              "      <td>B-PERSON</td>\n",
              "      <td>I-PERSON</td>\n",
              "      <td>O</td>\n",
              "      <td>B-ORGANIZATION</td>\n",
              "      <td>I-ORGANIZATION</td>\n",
              "      <td>I-ORGANIZATION</td>\n",
              "    </tr>\n",
              "  </tbody>\n",
              "</table>\n",
              "</div>"
            ],
            "text/plain": [
              "                0         1   ...              29              30\n",
              "Kalimat    Tengkoe      Amir  ...        Nasional      Indonesia.\n",
              "Prediksi  B-PERSON  I-PERSON  ...  I-ORGANIZATION  I-ORGANIZATION\n",
              "\n",
              "[2 rows x 31 columns]"
            ]
          },
          "metadata": {
            "tags": []
          },
          "execution_count": 40
        }
      ]
    },
    {
      "cell_type": "code",
      "metadata": {
        "colab": {
          "base_uri": "https://localhost:8080/",
          "height": 147
        },
        "id": "o9FNfp5tXvJf",
        "outputId": "7d477974-dcb0-4c23-9020-4a227b0af1a1"
      },
      "source": [
        "test_2 = pd.DataFrame(\n",
        "    {'Kalimat': los2[2],\n",
        "     'Prediksi': set_pred[2],\n",
        "    })\n",
        "test_2.T"
      ],
      "execution_count": 41,
      "outputs": [
        {
          "output_type": "execute_result",
          "data": {
            "text/html": [
              "<div>\n",
              "<style scoped>\n",
              "    .dataframe tbody tr th:only-of-type {\n",
              "        vertical-align: middle;\n",
              "    }\n",
              "\n",
              "    .dataframe tbody tr th {\n",
              "        vertical-align: top;\n",
              "    }\n",
              "\n",
              "    .dataframe thead th {\n",
              "        text-align: right;\n",
              "    }\n",
              "</style>\n",
              "<table border=\"1\" class=\"dataframe\">\n",
              "  <thead>\n",
              "    <tr style=\"text-align: right;\">\n",
              "      <th></th>\n",
              "      <th>0</th>\n",
              "      <th>1</th>\n",
              "      <th>2</th>\n",
              "      <th>3</th>\n",
              "      <th>4</th>\n",
              "      <th>5</th>\n",
              "      <th>6</th>\n",
              "      <th>7</th>\n",
              "      <th>8</th>\n",
              "      <th>9</th>\n",
              "      <th>10</th>\n",
              "      <th>11</th>\n",
              "      <th>12</th>\n",
              "      <th>13</th>\n",
              "      <th>14</th>\n",
              "      <th>15</th>\n",
              "      <th>16</th>\n",
              "      <th>17</th>\n",
              "      <th>18</th>\n",
              "      <th>19</th>\n",
              "      <th>20</th>\n",
              "      <th>21</th>\n",
              "      <th>22</th>\n",
              "      <th>23</th>\n",
              "      <th>24</th>\n",
              "      <th>25</th>\n",
              "      <th>26</th>\n",
              "      <th>27</th>\n",
              "      <th>28</th>\n",
              "      <th>29</th>\n",
              "      <th>30</th>\n",
              "      <th>31</th>\n",
              "      <th>32</th>\n",
              "      <th>33</th>\n",
              "      <th>34</th>\n",
              "      <th>35</th>\n",
              "      <th>36</th>\n",
              "    </tr>\n",
              "  </thead>\n",
              "  <tbody>\n",
              "    <tr>\n",
              "      <th>Kalimat</th>\n",
              "      <td>Bahkan</td>\n",
              "      <td>setelah</td>\n",
              "      <td>Amir</td>\n",
              "      <td>melanjutkan</td>\n",
              "      <td>studinya</td>\n",
              "      <td>di</td>\n",
              "      <td>sekolah</td>\n",
              "      <td>hukum</td>\n",
              "      <td>di</td>\n",
              "      <td>Batavia</td>\n",
              "      <td>(sekarang</td>\n",
              "      <td>Jakarta)</td>\n",
              "      <td>keduanya</td>\n",
              "      <td>tetap</td>\n",
              "      <td>dekat,</td>\n",
              "      <td>hanya</td>\n",
              "      <td>berpisah</td>\n",
              "      <td>pada</td>\n",
              "      <td>tahun</td>\n",
              "      <td>1937</td>\n",
              "      <td>ketika</td>\n",
              "      <td>Amir</td>\n",
              "      <td>dipanggil</td>\n",
              "      <td>kembali</td>\n",
              "      <td>ke</td>\n",
              "      <td>Sumatra</td>\n",
              "      <td>untuk</td>\n",
              "      <td>menikahi</td>\n",
              "      <td>putri</td>\n",
              "      <td>sultan</td>\n",
              "      <td>dan</td>\n",
              "      <td>mengambil</td>\n",
              "      <td>tanggung</td>\n",
              "      <td>jawab</td>\n",
              "      <td>di</td>\n",
              "      <td>lingkungan</td>\n",
              "      <td>keraton.</td>\n",
              "    </tr>\n",
              "    <tr>\n",
              "      <th>Prediksi</th>\n",
              "      <td>O</td>\n",
              "      <td>O</td>\n",
              "      <td>B-PERSON</td>\n",
              "      <td>O</td>\n",
              "      <td>O</td>\n",
              "      <td>O</td>\n",
              "      <td>O</td>\n",
              "      <td>O</td>\n",
              "      <td>O</td>\n",
              "      <td>B-LOCATION</td>\n",
              "      <td>I-LOCATION</td>\n",
              "      <td>I-LOCATION</td>\n",
              "      <td>O</td>\n",
              "      <td>O</td>\n",
              "      <td>O</td>\n",
              "      <td>O</td>\n",
              "      <td>O</td>\n",
              "      <td>O</td>\n",
              "      <td>O</td>\n",
              "      <td>O</td>\n",
              "      <td>O</td>\n",
              "      <td>B-PERSON</td>\n",
              "      <td>O</td>\n",
              "      <td>O</td>\n",
              "      <td>O</td>\n",
              "      <td>O</td>\n",
              "      <td>O</td>\n",
              "      <td>O</td>\n",
              "      <td>O</td>\n",
              "      <td>O</td>\n",
              "      <td>O</td>\n",
              "      <td>O</td>\n",
              "      <td>O</td>\n",
              "      <td>O</td>\n",
              "      <td>O</td>\n",
              "      <td>O</td>\n",
              "      <td>O</td>\n",
              "    </tr>\n",
              "  </tbody>\n",
              "</table>\n",
              "</div>"
            ],
            "text/plain": [
              "              0        1         2   ...  34          35        36\n",
              "Kalimat   Bahkan  setelah      Amir  ...  di  lingkungan  keraton.\n",
              "Prediksi       O        O  B-PERSON  ...   O           O         O\n",
              "\n",
              "[2 rows x 37 columns]"
            ]
          },
          "metadata": {
            "tags": []
          },
          "execution_count": 41
        }
      ]
    },
    {
      "cell_type": "code",
      "metadata": {
        "colab": {
          "base_uri": "https://localhost:8080/",
          "height": 147
        },
        "id": "056LQbhxX412",
        "outputId": "d4d38e02-e2e4-466d-c347-5a64f0da3f2b"
      },
      "source": [
        "test_3 = pd.DataFrame(\n",
        "    {'Kalimat': los2[2],\n",
        "     'Prediksi': set_pred[2],\n",
        "    })\n",
        "test_3.T"
      ],
      "execution_count": 42,
      "outputs": [
        {
          "output_type": "execute_result",
          "data": {
            "text/html": [
              "<div>\n",
              "<style scoped>\n",
              "    .dataframe tbody tr th:only-of-type {\n",
              "        vertical-align: middle;\n",
              "    }\n",
              "\n",
              "    .dataframe tbody tr th {\n",
              "        vertical-align: top;\n",
              "    }\n",
              "\n",
              "    .dataframe thead th {\n",
              "        text-align: right;\n",
              "    }\n",
              "</style>\n",
              "<table border=\"1\" class=\"dataframe\">\n",
              "  <thead>\n",
              "    <tr style=\"text-align: right;\">\n",
              "      <th></th>\n",
              "      <th>0</th>\n",
              "      <th>1</th>\n",
              "      <th>2</th>\n",
              "      <th>3</th>\n",
              "      <th>4</th>\n",
              "      <th>5</th>\n",
              "      <th>6</th>\n",
              "      <th>7</th>\n",
              "      <th>8</th>\n",
              "      <th>9</th>\n",
              "      <th>10</th>\n",
              "      <th>11</th>\n",
              "      <th>12</th>\n",
              "      <th>13</th>\n",
              "      <th>14</th>\n",
              "      <th>15</th>\n",
              "      <th>16</th>\n",
              "      <th>17</th>\n",
              "      <th>18</th>\n",
              "      <th>19</th>\n",
              "      <th>20</th>\n",
              "      <th>21</th>\n",
              "      <th>22</th>\n",
              "      <th>23</th>\n",
              "      <th>24</th>\n",
              "      <th>25</th>\n",
              "      <th>26</th>\n",
              "      <th>27</th>\n",
              "      <th>28</th>\n",
              "      <th>29</th>\n",
              "      <th>30</th>\n",
              "      <th>31</th>\n",
              "      <th>32</th>\n",
              "      <th>33</th>\n",
              "      <th>34</th>\n",
              "      <th>35</th>\n",
              "      <th>36</th>\n",
              "    </tr>\n",
              "  </thead>\n",
              "  <tbody>\n",
              "    <tr>\n",
              "      <th>Kalimat</th>\n",
              "      <td>Bahkan</td>\n",
              "      <td>setelah</td>\n",
              "      <td>Amir</td>\n",
              "      <td>melanjutkan</td>\n",
              "      <td>studinya</td>\n",
              "      <td>di</td>\n",
              "      <td>sekolah</td>\n",
              "      <td>hukum</td>\n",
              "      <td>di</td>\n",
              "      <td>Batavia</td>\n",
              "      <td>(sekarang</td>\n",
              "      <td>Jakarta)</td>\n",
              "      <td>keduanya</td>\n",
              "      <td>tetap</td>\n",
              "      <td>dekat,</td>\n",
              "      <td>hanya</td>\n",
              "      <td>berpisah</td>\n",
              "      <td>pada</td>\n",
              "      <td>tahun</td>\n",
              "      <td>1937</td>\n",
              "      <td>ketika</td>\n",
              "      <td>Amir</td>\n",
              "      <td>dipanggil</td>\n",
              "      <td>kembali</td>\n",
              "      <td>ke</td>\n",
              "      <td>Sumatra</td>\n",
              "      <td>untuk</td>\n",
              "      <td>menikahi</td>\n",
              "      <td>putri</td>\n",
              "      <td>sultan</td>\n",
              "      <td>dan</td>\n",
              "      <td>mengambil</td>\n",
              "      <td>tanggung</td>\n",
              "      <td>jawab</td>\n",
              "      <td>di</td>\n",
              "      <td>lingkungan</td>\n",
              "      <td>keraton.</td>\n",
              "    </tr>\n",
              "    <tr>\n",
              "      <th>Prediksi</th>\n",
              "      <td>O</td>\n",
              "      <td>O</td>\n",
              "      <td>B-PERSON</td>\n",
              "      <td>O</td>\n",
              "      <td>O</td>\n",
              "      <td>O</td>\n",
              "      <td>O</td>\n",
              "      <td>O</td>\n",
              "      <td>O</td>\n",
              "      <td>B-LOCATION</td>\n",
              "      <td>I-LOCATION</td>\n",
              "      <td>I-LOCATION</td>\n",
              "      <td>O</td>\n",
              "      <td>O</td>\n",
              "      <td>O</td>\n",
              "      <td>O</td>\n",
              "      <td>O</td>\n",
              "      <td>O</td>\n",
              "      <td>O</td>\n",
              "      <td>O</td>\n",
              "      <td>O</td>\n",
              "      <td>B-PERSON</td>\n",
              "      <td>O</td>\n",
              "      <td>O</td>\n",
              "      <td>O</td>\n",
              "      <td>O</td>\n",
              "      <td>O</td>\n",
              "      <td>O</td>\n",
              "      <td>O</td>\n",
              "      <td>O</td>\n",
              "      <td>O</td>\n",
              "      <td>O</td>\n",
              "      <td>O</td>\n",
              "      <td>O</td>\n",
              "      <td>O</td>\n",
              "      <td>O</td>\n",
              "      <td>O</td>\n",
              "    </tr>\n",
              "  </tbody>\n",
              "</table>\n",
              "</div>"
            ],
            "text/plain": [
              "              0        1         2   ...  34          35        36\n",
              "Kalimat   Bahkan  setelah      Amir  ...  di  lingkungan  keraton.\n",
              "Prediksi       O        O  B-PERSON  ...   O           O         O\n",
              "\n",
              "[2 rows x 37 columns]"
            ]
          },
          "metadata": {
            "tags": []
          },
          "execution_count": 42
        }
      ]
    },
    {
      "cell_type": "code",
      "metadata": {
        "colab": {
          "base_uri": "https://localhost:8080/",
          "height": 110
        },
        "id": "uVyZFrvWYCnS",
        "outputId": "32762362-2876-4f04-8820-d8e0b0195098"
      },
      "source": [
        "test_4 = pd.DataFrame(\n",
        "    {'Kalimat': los2[3],\n",
        "     'Prediksi': set_pred[3],\n",
        "    })\n",
        "test_4.T"
      ],
      "execution_count": 43,
      "outputs": [
        {
          "output_type": "execute_result",
          "data": {
            "text/html": [
              "<div>\n",
              "<style scoped>\n",
              "    .dataframe tbody tr th:only-of-type {\n",
              "        vertical-align: middle;\n",
              "    }\n",
              "\n",
              "    .dataframe tbody tr th {\n",
              "        vertical-align: top;\n",
              "    }\n",
              "\n",
              "    .dataframe thead th {\n",
              "        text-align: right;\n",
              "    }\n",
              "</style>\n",
              "<table border=\"1\" class=\"dataframe\">\n",
              "  <thead>\n",
              "    <tr style=\"text-align: right;\">\n",
              "      <th></th>\n",
              "      <th>0</th>\n",
              "      <th>1</th>\n",
              "      <th>2</th>\n",
              "      <th>3</th>\n",
              "      <th>4</th>\n",
              "      <th>5</th>\n",
              "      <th>6</th>\n",
              "      <th>7</th>\n",
              "      <th>8</th>\n",
              "    </tr>\n",
              "  </thead>\n",
              "  <tbody>\n",
              "    <tr>\n",
              "      <th>Kalimat</th>\n",
              "      <td>Meskipun</td>\n",
              "      <td>tidak</td>\n",
              "      <td>bahagia</td>\n",
              "      <td>dengan</td>\n",
              "      <td>pernikahannya,</td>\n",
              "      <td>dia</td>\n",
              "      <td>memenuhi</td>\n",
              "      <td>tugas</td>\n",
              "      <td>kekeratonannya.</td>\n",
              "    </tr>\n",
              "    <tr>\n",
              "      <th>Prediksi</th>\n",
              "      <td>O</td>\n",
              "      <td>O</td>\n",
              "      <td>O</td>\n",
              "      <td>O</td>\n",
              "      <td>O</td>\n",
              "      <td>O</td>\n",
              "      <td>O</td>\n",
              "      <td>O</td>\n",
              "      <td>O</td>\n",
              "    </tr>\n",
              "  </tbody>\n",
              "</table>\n",
              "</div>"
            ],
            "text/plain": [
              "                 0      1        2  ...         6      7                8\n",
              "Kalimat   Meskipun  tidak  bahagia  ...  memenuhi  tugas  kekeratonannya.\n",
              "Prediksi         O      O        O  ...         O      O                O\n",
              "\n",
              "[2 rows x 9 columns]"
            ]
          },
          "metadata": {
            "tags": []
          },
          "execution_count": 43
        }
      ]
    },
    {
      "cell_type": "code",
      "metadata": {
        "colab": {
          "base_uri": "https://localhost:8080/",
          "height": 147
        },
        "id": "mADU6M60YU9f",
        "outputId": "930e60fc-c626-4e22-e6aa-e130736e9f2d"
      },
      "source": [
        "test_5 = pd.DataFrame(\n",
        "    {'Kalimat': los2[4],\n",
        "     'Prediksi': set_pred[4],\n",
        "    })\n",
        "test_5.T"
      ],
      "execution_count": 44,
      "outputs": [
        {
          "output_type": "execute_result",
          "data": {
            "text/html": [
              "<div>\n",
              "<style scoped>\n",
              "    .dataframe tbody tr th:only-of-type {\n",
              "        vertical-align: middle;\n",
              "    }\n",
              "\n",
              "    .dataframe tbody tr th {\n",
              "        vertical-align: top;\n",
              "    }\n",
              "\n",
              "    .dataframe thead th {\n",
              "        text-align: right;\n",
              "    }\n",
              "</style>\n",
              "<table border=\"1\" class=\"dataframe\">\n",
              "  <thead>\n",
              "    <tr style=\"text-align: right;\">\n",
              "      <th></th>\n",
              "      <th>0</th>\n",
              "      <th>1</th>\n",
              "      <th>2</th>\n",
              "      <th>3</th>\n",
              "      <th>4</th>\n",
              "      <th>5</th>\n",
              "      <th>6</th>\n",
              "      <th>7</th>\n",
              "      <th>8</th>\n",
              "      <th>9</th>\n",
              "      <th>10</th>\n",
              "      <th>11</th>\n",
              "      <th>12</th>\n",
              "      <th>13</th>\n",
              "    </tr>\n",
              "  </thead>\n",
              "  <tbody>\n",
              "    <tr>\n",
              "      <th>Kalimat</th>\n",
              "      <td>Setelah</td>\n",
              "      <td>Indonesia</td>\n",
              "      <td>memproklamasikan</td>\n",
              "      <td>kemerdekaannya</td>\n",
              "      <td>pada</td>\n",
              "      <td>tahun</td>\n",
              "      <td>1945,</td>\n",
              "      <td>ia</td>\n",
              "      <td>menjabat</td>\n",
              "      <td>sebagai</td>\n",
              "      <td>wakil</td>\n",
              "      <td>pemerintah</td>\n",
              "      <td>di</td>\n",
              "      <td>Langkat.</td>\n",
              "    </tr>\n",
              "    <tr>\n",
              "      <th>Prediksi</th>\n",
              "      <td>O</td>\n",
              "      <td>O</td>\n",
              "      <td>O</td>\n",
              "      <td>O</td>\n",
              "      <td>O</td>\n",
              "      <td>O</td>\n",
              "      <td>O</td>\n",
              "      <td>O</td>\n",
              "      <td>O</td>\n",
              "      <td>O</td>\n",
              "      <td>O</td>\n",
              "      <td>O</td>\n",
              "      <td>O</td>\n",
              "      <td>B-LOCATION</td>\n",
              "    </tr>\n",
              "  </tbody>\n",
              "</table>\n",
              "</div>"
            ],
            "text/plain": [
              "               0          1                 2   ...          11  12          13\n",
              "Kalimat   Setelah  Indonesia  memproklamasikan  ...  pemerintah  di    Langkat.\n",
              "Prediksi        O          O                 O  ...           O   O  B-LOCATION\n",
              "\n",
              "[2 rows x 14 columns]"
            ]
          },
          "metadata": {
            "tags": []
          },
          "execution_count": 44
        }
      ]
    },
    {
      "cell_type": "code",
      "metadata": {
        "colab": {
          "base_uri": "https://localhost:8080/",
          "height": 147
        },
        "id": "uzAFhtA6ZfJ4",
        "outputId": "16442cb5-483a-4cd2-df42-f0a35d76c28e"
      },
      "source": [
        "test_6 = pd.DataFrame(\n",
        "    {'Kalimat': los2[5],\n",
        "     'Prediksi': set_pred[5],\n",
        "    })\n",
        "test_6.T"
      ],
      "execution_count": 45,
      "outputs": [
        {
          "output_type": "execute_result",
          "data": {
            "text/html": [
              "<div>\n",
              "<style scoped>\n",
              "    .dataframe tbody tr th:only-of-type {\n",
              "        vertical-align: middle;\n",
              "    }\n",
              "\n",
              "    .dataframe tbody tr th {\n",
              "        vertical-align: top;\n",
              "    }\n",
              "\n",
              "    .dataframe thead th {\n",
              "        text-align: right;\n",
              "    }\n",
              "</style>\n",
              "<table border=\"1\" class=\"dataframe\">\n",
              "  <thead>\n",
              "    <tr style=\"text-align: right;\">\n",
              "      <th></th>\n",
              "      <th>0</th>\n",
              "      <th>1</th>\n",
              "      <th>2</th>\n",
              "      <th>3</th>\n",
              "      <th>4</th>\n",
              "      <th>5</th>\n",
              "      <th>6</th>\n",
              "      <th>7</th>\n",
              "      <th>8</th>\n",
              "      <th>9</th>\n",
              "      <th>10</th>\n",
              "      <th>11</th>\n",
              "      <th>12</th>\n",
              "      <th>13</th>\n",
              "      <th>14</th>\n",
              "      <th>15</th>\n",
              "      <th>16</th>\n",
              "      <th>17</th>\n",
              "      <th>18</th>\n",
              "      <th>19</th>\n",
              "      <th>20</th>\n",
              "      <th>21</th>\n",
              "      <th>22</th>\n",
              "      <th>23</th>\n",
              "      <th>24</th>\n",
              "      <th>25</th>\n",
              "      <th>26</th>\n",
              "      <th>27</th>\n",
              "      <th>28</th>\n",
              "      <th>29</th>\n",
              "      <th>30</th>\n",
              "      <th>31</th>\n",
              "      <th>32</th>\n",
              "      <th>33</th>\n",
              "    </tr>\n",
              "  </thead>\n",
              "  <tbody>\n",
              "    <tr>\n",
              "      <th>Kalimat</th>\n",
              "      <td>Namun</td>\n",
              "      <td>siapa</td>\n",
              "      <td>nyana,</td>\n",
              "      <td>pada</td>\n",
              "      <td>tahun</td>\n",
              "      <td>pertama</td>\n",
              "      <td>negara</td>\n",
              "      <td>Indonesia</td>\n",
              "      <td>yang</td>\n",
              "      <td>baru</td>\n",
              "      <td>lahir,</td>\n",
              "      <td>ia</td>\n",
              "      <td>meninggal</td>\n",
              "      <td>dalam</td>\n",
              "      <td>peristiwa</td>\n",
              "      <td>konflik</td>\n",
              "      <td>sosial</td>\n",
              "      <td>berdarah</td>\n",
              "      <td>di</td>\n",
              "      <td>Sumatra</td>\n",
              "      <td>yang</td>\n",
              "      <td>disulut</td>\n",
              "      <td>oleh</td>\n",
              "      <td>faksi</td>\n",
              "      <td>dari</td>\n",
              "      <td>Partai</td>\n",
              "      <td>Komunis</td>\n",
              "      <td>Indonesia</td>\n",
              "      <td>dan</td>\n",
              "      <td>dimakamkan</td>\n",
              "      <td>di</td>\n",
              "      <td>sebuah</td>\n",
              "      <td>kuburan</td>\n",
              "      <td>massal.</td>\n",
              "    </tr>\n",
              "    <tr>\n",
              "      <th>Prediksi</th>\n",
              "      <td>O</td>\n",
              "      <td>O</td>\n",
              "      <td>O</td>\n",
              "      <td>O</td>\n",
              "      <td>O</td>\n",
              "      <td>O</td>\n",
              "      <td>O</td>\n",
              "      <td>B-LOCATION</td>\n",
              "      <td>O</td>\n",
              "      <td>O</td>\n",
              "      <td>O</td>\n",
              "      <td>O</td>\n",
              "      <td>O</td>\n",
              "      <td>O</td>\n",
              "      <td>O</td>\n",
              "      <td>O</td>\n",
              "      <td>O</td>\n",
              "      <td>O</td>\n",
              "      <td>O</td>\n",
              "      <td>O</td>\n",
              "      <td>O</td>\n",
              "      <td>O</td>\n",
              "      <td>O</td>\n",
              "      <td>O</td>\n",
              "      <td>O</td>\n",
              "      <td>B-ORGANIZATION</td>\n",
              "      <td>I-ORGANIZATION</td>\n",
              "      <td>I-ORGANIZATION</td>\n",
              "      <td>O</td>\n",
              "      <td>O</td>\n",
              "      <td>O</td>\n",
              "      <td>O</td>\n",
              "      <td>O</td>\n",
              "      <td>O</td>\n",
              "    </tr>\n",
              "  </tbody>\n",
              "</table>\n",
              "</div>"
            ],
            "text/plain": [
              "             0      1       2     3   ...  30      31       32       33\n",
              "Kalimat   Namun  siapa  nyana,  pada  ...  di  sebuah  kuburan  massal.\n",
              "Prediksi      O      O       O     O  ...   O       O        O        O\n",
              "\n",
              "[2 rows x 34 columns]"
            ]
          },
          "metadata": {
            "tags": []
          },
          "execution_count": 45
        }
      ]
    },
    {
      "cell_type": "code",
      "metadata": {
        "colab": {
          "base_uri": "https://localhost:8080/",
          "height": 147
        },
        "id": "b4q7SExvZlRn",
        "outputId": "460a1492-3c97-48af-b1b7-f188e24b718d"
      },
      "source": [
        "test_7 = pd.DataFrame(\n",
        "    {'Kalimat': los2[6],\n",
        "     'Prediksi': set_pred[6],\n",
        "    })\n",
        "test_7.T"
      ],
      "execution_count": 46,
      "outputs": [
        {
          "output_type": "execute_result",
          "data": {
            "text/html": [
              "<div>\n",
              "<style scoped>\n",
              "    .dataframe tbody tr th:only-of-type {\n",
              "        vertical-align: middle;\n",
              "    }\n",
              "\n",
              "    .dataframe tbody tr th {\n",
              "        vertical-align: top;\n",
              "    }\n",
              "\n",
              "    .dataframe thead th {\n",
              "        text-align: right;\n",
              "    }\n",
              "</style>\n",
              "<table border=\"1\" class=\"dataframe\">\n",
              "  <thead>\n",
              "    <tr style=\"text-align: right;\">\n",
              "      <th></th>\n",
              "      <th>0</th>\n",
              "      <th>1</th>\n",
              "      <th>2</th>\n",
              "      <th>3</th>\n",
              "      <th>4</th>\n",
              "      <th>5</th>\n",
              "      <th>6</th>\n",
              "      <th>7</th>\n",
              "      <th>8</th>\n",
              "      <th>9</th>\n",
              "      <th>10</th>\n",
              "      <th>11</th>\n",
              "      <th>12</th>\n",
              "      <th>13</th>\n",
              "      <th>14</th>\n",
              "      <th>15</th>\n",
              "      <th>16</th>\n",
              "    </tr>\n",
              "  </thead>\n",
              "  <tbody>\n",
              "    <tr>\n",
              "      <th>Kalimat</th>\n",
              "      <td>Lukisan</td>\n",
              "      <td>Galileo</td>\n",
              "      <td>menunjukkan</td>\n",
              "      <td>bahwa</td>\n",
              "      <td>ia</td>\n",
              "      <td>pertama</td>\n",
              "      <td>melihat</td>\n",
              "      <td>Neptunus</td>\n",
              "      <td>pada</td>\n",
              "      <td>tanggal</td>\n",
              "      <td>28</td>\n",
              "      <td>Desember</td>\n",
              "      <td>1612</td>\n",
              "      <td>dan</td>\n",
              "      <td>27</td>\n",
              "      <td>Januari</td>\n",
              "      <td>1613.</td>\n",
              "    </tr>\n",
              "    <tr>\n",
              "      <th>Prediksi</th>\n",
              "      <td>B-PERSON</td>\n",
              "      <td>I-PERSON</td>\n",
              "      <td>O</td>\n",
              "      <td>O</td>\n",
              "      <td>O</td>\n",
              "      <td>O</td>\n",
              "      <td>O</td>\n",
              "      <td>O</td>\n",
              "      <td>O</td>\n",
              "      <td>O</td>\n",
              "      <td>O</td>\n",
              "      <td>O</td>\n",
              "      <td>O</td>\n",
              "      <td>O</td>\n",
              "      <td>O</td>\n",
              "      <td>O</td>\n",
              "      <td>O</td>\n",
              "    </tr>\n",
              "  </tbody>\n",
              "</table>\n",
              "</div>"
            ],
            "text/plain": [
              "                0         1            2      3   ...   13  14       15     16\n",
              "Kalimat    Lukisan   Galileo  menunjukkan  bahwa  ...  dan  27  Januari  1613.\n",
              "Prediksi  B-PERSON  I-PERSON            O      O  ...    O   O        O      O\n",
              "\n",
              "[2 rows x 17 columns]"
            ]
          },
          "metadata": {
            "tags": []
          },
          "execution_count": 46
        }
      ]
    },
    {
      "cell_type": "code",
      "metadata": {
        "colab": {
          "base_uri": "https://localhost:8080/",
          "height": 182
        },
        "id": "a4REUxnAZq7X",
        "outputId": "b820761b-d8df-4028-8fc1-d11e3028b028"
      },
      "source": [
        "test_8 = pd.DataFrame(\n",
        "    {'Kalimat': los2[7],\n",
        "     'Prediksi': set_pred[7],\n",
        "    })\n",
        "test_8.T"
      ],
      "execution_count": 47,
      "outputs": [
        {
          "output_type": "execute_result",
          "data": {
            "text/html": [
              "<div>\n",
              "<style scoped>\n",
              "    .dataframe tbody tr th:only-of-type {\n",
              "        vertical-align: middle;\n",
              "    }\n",
              "\n",
              "    .dataframe tbody tr th {\n",
              "        vertical-align: top;\n",
              "    }\n",
              "\n",
              "    .dataframe thead th {\n",
              "        text-align: right;\n",
              "    }\n",
              "</style>\n",
              "<table border=\"1\" class=\"dataframe\">\n",
              "  <thead>\n",
              "    <tr style=\"text-align: right;\">\n",
              "      <th></th>\n",
              "      <th>0</th>\n",
              "      <th>1</th>\n",
              "      <th>2</th>\n",
              "      <th>3</th>\n",
              "      <th>4</th>\n",
              "      <th>5</th>\n",
              "      <th>6</th>\n",
              "      <th>7</th>\n",
              "      <th>8</th>\n",
              "      <th>9</th>\n",
              "      <th>10</th>\n",
              "      <th>11</th>\n",
              "      <th>12</th>\n",
              "      <th>13</th>\n",
              "      <th>14</th>\n",
              "      <th>15</th>\n",
              "      <th>16</th>\n",
              "      <th>17</th>\n",
              "      <th>18</th>\n",
              "      <th>19</th>\n",
              "      <th>20</th>\n",
              "      <th>21</th>\n",
              "    </tr>\n",
              "  </thead>\n",
              "  <tbody>\n",
              "    <tr>\n",
              "      <th>Kalimat</th>\n",
              "      <td>Pada</td>\n",
              "      <td>kedua</td>\n",
              "      <td>hari</td>\n",
              "      <td>tersebut,</td>\n",
              "      <td>Galileo</td>\n",
              "      <td>salah</td>\n",
              "      <td>menganggap</td>\n",
              "      <td>Neptunus</td>\n",
              "      <td>sebagai</td>\n",
              "      <td>sebuah</td>\n",
              "      <td>bintang</td>\n",
              "      <td>tetap</td>\n",
              "      <td>ketika</td>\n",
              "      <td>planet</td>\n",
              "      <td>ini</td>\n",
              "      <td>muncul</td>\n",
              "      <td>sangat</td>\n",
              "      <td>dekat—konjungsi—dengan</td>\n",
              "      <td>Jupiter</td>\n",
              "      <td>pada</td>\n",
              "      <td>langit</td>\n",
              "      <td>malam.</td>\n",
              "    </tr>\n",
              "    <tr>\n",
              "      <th>Prediksi</th>\n",
              "      <td>O</td>\n",
              "      <td>O</td>\n",
              "      <td>O</td>\n",
              "      <td>O</td>\n",
              "      <td>O</td>\n",
              "      <td>O</td>\n",
              "      <td>O</td>\n",
              "      <td>O</td>\n",
              "      <td>O</td>\n",
              "      <td>O</td>\n",
              "      <td>O</td>\n",
              "      <td>O</td>\n",
              "      <td>O</td>\n",
              "      <td>O</td>\n",
              "      <td>O</td>\n",
              "      <td>O</td>\n",
              "      <td>O</td>\n",
              "      <td>O</td>\n",
              "      <td>O</td>\n",
              "      <td>O</td>\n",
              "      <td>O</td>\n",
              "      <td>O</td>\n",
              "    </tr>\n",
              "  </tbody>\n",
              "</table>\n",
              "</div>"
            ],
            "text/plain": [
              "            0      1     2          3   ...       18    19      20      21\n",
              "Kalimat   Pada  kedua  hari  tersebut,  ...  Jupiter  pada  langit  malam.\n",
              "Prediksi     O      O     O          O  ...        O     O       O       O\n",
              "\n",
              "[2 rows x 22 columns]"
            ]
          },
          "metadata": {
            "tags": []
          },
          "execution_count": 47
        }
      ]
    },
    {
      "cell_type": "code",
      "metadata": {
        "colab": {
          "base_uri": "https://localhost:8080/",
          "height": 110
        },
        "id": "ECb0CRUIZzB5",
        "outputId": "7f63e47a-8099-4e15-9140-8f73521745fb"
      },
      "source": [
        "test_9 = pd.DataFrame(\n",
        "    {'Kalimat': los2[8],\n",
        "     'Prediksi': set_pred[8],\n",
        "    })\n",
        "test_9.T"
      ],
      "execution_count": 48,
      "outputs": [
        {
          "output_type": "execute_result",
          "data": {
            "text/html": [
              "<div>\n",
              "<style scoped>\n",
              "    .dataframe tbody tr th:only-of-type {\n",
              "        vertical-align: middle;\n",
              "    }\n",
              "\n",
              "    .dataframe tbody tr th {\n",
              "        vertical-align: top;\n",
              "    }\n",
              "\n",
              "    .dataframe thead th {\n",
              "        text-align: right;\n",
              "    }\n",
              "</style>\n",
              "<table border=\"1\" class=\"dataframe\">\n",
              "  <thead>\n",
              "    <tr style=\"text-align: right;\">\n",
              "      <th></th>\n",
              "      <th>0</th>\n",
              "      <th>1</th>\n",
              "      <th>2</th>\n",
              "      <th>3</th>\n",
              "      <th>4</th>\n",
              "      <th>5</th>\n",
              "    </tr>\n",
              "  </thead>\n",
              "  <tbody>\n",
              "    <tr>\n",
              "      <th>Kalimat</th>\n",
              "      <td>Ia</td>\n",
              "      <td>tidak</td>\n",
              "      <td>dianggap</td>\n",
              "      <td>sebagai</td>\n",
              "      <td>penemu</td>\n",
              "      <td>Neptunus.</td>\n",
              "    </tr>\n",
              "    <tr>\n",
              "      <th>Prediksi</th>\n",
              "      <td>O</td>\n",
              "      <td>O</td>\n",
              "      <td>O</td>\n",
              "      <td>O</td>\n",
              "      <td>O</td>\n",
              "      <td>O</td>\n",
              "    </tr>\n",
              "  </tbody>\n",
              "</table>\n",
              "</div>"
            ],
            "text/plain": [
              "           0      1         2        3       4          5\n",
              "Kalimat   Ia  tidak  dianggap  sebagai  penemu  Neptunus.\n",
              "Prediksi   O      O         O        O       O          O"
            ]
          },
          "metadata": {
            "tags": []
          },
          "execution_count": 48
        }
      ]
    },
    {
      "cell_type": "code",
      "metadata": {
        "colab": {
          "base_uri": "https://localhost:8080/",
          "height": 130
        },
        "id": "wCaqiE6YZ9IY",
        "outputId": "2faea5c2-bf53-422d-8ee4-cbce3fe839ff"
      },
      "source": [
        "test_10 = pd.DataFrame(\n",
        "    {'Kalimat': los2[9],\n",
        "     'Prediksi': set_pred[9],\n",
        "    })\n",
        "test_10.T"
      ],
      "execution_count": 49,
      "outputs": [
        {
          "output_type": "execute_result",
          "data": {
            "text/html": [
              "<div>\n",
              "<style scoped>\n",
              "    .dataframe tbody tr th:only-of-type {\n",
              "        vertical-align: middle;\n",
              "    }\n",
              "\n",
              "    .dataframe tbody tr th {\n",
              "        vertical-align: top;\n",
              "    }\n",
              "\n",
              "    .dataframe thead th {\n",
              "        text-align: right;\n",
              "    }\n",
              "</style>\n",
              "<table border=\"1\" class=\"dataframe\">\n",
              "  <thead>\n",
              "    <tr style=\"text-align: right;\">\n",
              "      <th></th>\n",
              "      <th>0</th>\n",
              "      <th>1</th>\n",
              "      <th>2</th>\n",
              "      <th>3</th>\n",
              "      <th>4</th>\n",
              "      <th>5</th>\n",
              "      <th>6</th>\n",
              "      <th>7</th>\n",
              "      <th>8</th>\n",
              "      <th>9</th>\n",
              "      <th>10</th>\n",
              "      <th>11</th>\n",
              "      <th>12</th>\n",
              "      <th>13</th>\n",
              "      <th>14</th>\n",
              "      <th>15</th>\n",
              "      <th>16</th>\n",
              "      <th>17</th>\n",
              "      <th>18</th>\n",
              "      <th>19</th>\n",
              "      <th>20</th>\n",
              "      <th>21</th>\n",
              "    </tr>\n",
              "  </thead>\n",
              "  <tbody>\n",
              "    <tr>\n",
              "      <th>Kalimat</th>\n",
              "      <td>Pada</td>\n",
              "      <td>masa</td>\n",
              "      <td>pengamatan</td>\n",
              "      <td>pertamanya</td>\n",
              "      <td>bulan</td>\n",
              "      <td>Desember</td>\n",
              "      <td>1612,</td>\n",
              "      <td>Neptunus</td>\n",
              "      <td>bersifat</td>\n",
              "      <td>tetap</td>\n",
              "      <td>di</td>\n",
              "      <td>langit</td>\n",
              "      <td>karena</td>\n",
              "      <td>planet</td>\n",
              "      <td>ini</td>\n",
              "      <td>baru</td>\n",
              "      <td>saja</td>\n",
              "      <td>mengalami</td>\n",
              "      <td>penghuluan</td>\n",
              "      <td>pada</td>\n",
              "      <td>hari</td>\n",
              "      <td>itu.</td>\n",
              "    </tr>\n",
              "    <tr>\n",
              "      <th>Prediksi</th>\n",
              "      <td>O</td>\n",
              "      <td>O</td>\n",
              "      <td>O</td>\n",
              "      <td>O</td>\n",
              "      <td>O</td>\n",
              "      <td>O</td>\n",
              "      <td>O</td>\n",
              "      <td>O</td>\n",
              "      <td>O</td>\n",
              "      <td>O</td>\n",
              "      <td>O</td>\n",
              "      <td>O</td>\n",
              "      <td>O</td>\n",
              "      <td>O</td>\n",
              "      <td>O</td>\n",
              "      <td>O</td>\n",
              "      <td>O</td>\n",
              "      <td>O</td>\n",
              "      <td>O</td>\n",
              "      <td>O</td>\n",
              "      <td>O</td>\n",
              "      <td>O</td>\n",
              "    </tr>\n",
              "  </tbody>\n",
              "</table>\n",
              "</div>"
            ],
            "text/plain": [
              "            0     1           2           3   ...          18    19    20    21\n",
              "Kalimat   Pada  masa  pengamatan  pertamanya  ...  penghuluan  pada  hari  itu.\n",
              "Prediksi     O     O           O           O  ...           O     O     O     O\n",
              "\n",
              "[2 rows x 22 columns]"
            ]
          },
          "metadata": {
            "tags": []
          },
          "execution_count": 49
        }
      ]
    },
    {
      "cell_type": "code",
      "metadata": {
        "colab": {
          "base_uri": "https://localhost:8080/",
          "height": 110
        },
        "id": "2yWnS_azaH3P",
        "outputId": "7ba4013f-61e5-4f7a-d3b5-fab3ac710fc4"
      },
      "source": [
        "test_11 = pd.DataFrame(\n",
        "    {'Kalimat': los2[10],\n",
        "     'Prediksi': set_pred[10],\n",
        "    })\n",
        "test_11.T"
      ],
      "execution_count": 50,
      "outputs": [
        {
          "output_type": "execute_result",
          "data": {
            "text/html": [
              "<div>\n",
              "<style scoped>\n",
              "    .dataframe tbody tr th:only-of-type {\n",
              "        vertical-align: middle;\n",
              "    }\n",
              "\n",
              "    .dataframe tbody tr th {\n",
              "        vertical-align: top;\n",
              "    }\n",
              "\n",
              "    .dataframe thead th {\n",
              "        text-align: right;\n",
              "    }\n",
              "</style>\n",
              "<table border=\"1\" class=\"dataframe\">\n",
              "  <thead>\n",
              "    <tr style=\"text-align: right;\">\n",
              "      <th></th>\n",
              "      <th>0</th>\n",
              "      <th>1</th>\n",
              "      <th>2</th>\n",
              "      <th>3</th>\n",
              "      <th>4</th>\n",
              "      <th>5</th>\n",
              "      <th>6</th>\n",
              "      <th>7</th>\n",
              "      <th>8</th>\n",
              "      <th>9</th>\n",
              "      <th>10</th>\n",
              "      <th>11</th>\n",
              "      <th>12</th>\n",
              "    </tr>\n",
              "  </thead>\n",
              "  <tbody>\n",
              "    <tr>\n",
              "      <th>Kalimat</th>\n",
              "      <td>Gerakan</td>\n",
              "      <td>ke</td>\n",
              "      <td>belakang</td>\n",
              "      <td>ini</td>\n",
              "      <td>terbentuk</td>\n",
              "      <td>ketika</td>\n",
              "      <td>orbit</td>\n",
              "      <td>Bumi</td>\n",
              "      <td>membawa</td>\n",
              "      <td>Bumi</td>\n",
              "      <td>melewati</td>\n",
              "      <td>planet</td>\n",
              "      <td>terluar.</td>\n",
              "    </tr>\n",
              "    <tr>\n",
              "      <th>Prediksi</th>\n",
              "      <td>O</td>\n",
              "      <td>O</td>\n",
              "      <td>O</td>\n",
              "      <td>O</td>\n",
              "      <td>O</td>\n",
              "      <td>O</td>\n",
              "      <td>O</td>\n",
              "      <td>O</td>\n",
              "      <td>O</td>\n",
              "      <td>O</td>\n",
              "      <td>O</td>\n",
              "      <td>O</td>\n",
              "      <td>O</td>\n",
              "    </tr>\n",
              "  </tbody>\n",
              "</table>\n",
              "</div>"
            ],
            "text/plain": [
              "               0   1         2    3   ...    9         10      11        12\n",
              "Kalimat   Gerakan  ke  belakang  ini  ...  Bumi  melewati  planet  terluar.\n",
              "Prediksi        O   O         O    O  ...     O         O       O         O\n",
              "\n",
              "[2 rows x 13 columns]"
            ]
          },
          "metadata": {
            "tags": []
          },
          "execution_count": 50
        }
      ]
    },
    {
      "cell_type": "code",
      "metadata": {
        "colab": {
          "base_uri": "https://localhost:8080/",
          "height": 147
        },
        "id": "dmrNg11TaPf4",
        "outputId": "a0a1d201-075f-40ff-ece4-0972aa674d91"
      },
      "source": [
        "test_12 = pd.DataFrame(\n",
        "    {'Kalimat': los2[11],\n",
        "     'Prediksi': set_pred[11],\n",
        "    })\n",
        "test_12.T"
      ],
      "execution_count": 51,
      "outputs": [
        {
          "output_type": "execute_result",
          "data": {
            "text/html": [
              "<div>\n",
              "<style scoped>\n",
              "    .dataframe tbody tr th:only-of-type {\n",
              "        vertical-align: middle;\n",
              "    }\n",
              "\n",
              "    .dataframe tbody tr th {\n",
              "        vertical-align: top;\n",
              "    }\n",
              "\n",
              "    .dataframe thead th {\n",
              "        text-align: right;\n",
              "    }\n",
              "</style>\n",
              "<table border=\"1\" class=\"dataframe\">\n",
              "  <thead>\n",
              "    <tr style=\"text-align: right;\">\n",
              "      <th></th>\n",
              "      <th>0</th>\n",
              "      <th>1</th>\n",
              "      <th>2</th>\n",
              "      <th>3</th>\n",
              "      <th>4</th>\n",
              "      <th>5</th>\n",
              "      <th>6</th>\n",
              "      <th>7</th>\n",
              "      <th>8</th>\n",
              "      <th>9</th>\n",
              "      <th>10</th>\n",
              "      <th>11</th>\n",
              "      <th>12</th>\n",
              "      <th>13</th>\n",
              "      <th>14</th>\n",
              "      <th>15</th>\n",
              "      <th>16</th>\n",
              "      <th>17</th>\n",
              "    </tr>\n",
              "  </thead>\n",
              "  <tbody>\n",
              "    <tr>\n",
              "      <th>Kalimat</th>\n",
              "      <td>Karena</td>\n",
              "      <td>Neptunus</td>\n",
              "      <td>baru</td>\n",
              "      <td>saja</td>\n",
              "      <td>memulai</td>\n",
              "      <td>siklus</td>\n",
              "      <td>penghuluan</td>\n",
              "      <td>tahunannya,</td>\n",
              "      <td>gerakan</td>\n",
              "      <td>planet</td>\n",
              "      <td>ini</td>\n",
              "      <td>terlalu</td>\n",
              "      <td>sulit</td>\n",
              "      <td>dilacak</td>\n",
              "      <td>menggunakan</td>\n",
              "      <td>teleskop</td>\n",
              "      <td>kecil</td>\n",
              "      <td>Galileo.</td>\n",
              "    </tr>\n",
              "    <tr>\n",
              "      <th>Prediksi</th>\n",
              "      <td>O</td>\n",
              "      <td>O</td>\n",
              "      <td>O</td>\n",
              "      <td>O</td>\n",
              "      <td>O</td>\n",
              "      <td>O</td>\n",
              "      <td>O</td>\n",
              "      <td>O</td>\n",
              "      <td>O</td>\n",
              "      <td>O</td>\n",
              "      <td>O</td>\n",
              "      <td>O</td>\n",
              "      <td>O</td>\n",
              "      <td>O</td>\n",
              "      <td>O</td>\n",
              "      <td>O</td>\n",
              "      <td>O</td>\n",
              "      <td>B-LOCATION</td>\n",
              "    </tr>\n",
              "  </tbody>\n",
              "</table>\n",
              "</div>"
            ],
            "text/plain": [
              "              0         1     2   ...        15     16          17\n",
              "Kalimat   Karena  Neptunus  baru  ...  teleskop  kecil    Galileo.\n",
              "Prediksi       O         O     O  ...         O      O  B-LOCATION\n",
              "\n",
              "[2 rows x 18 columns]"
            ]
          },
          "metadata": {
            "tags": []
          },
          "execution_count": 51
        }
      ]
    },
    {
      "cell_type": "code",
      "metadata": {
        "colab": {
          "base_uri": "https://localhost:8080/",
          "height": 147
        },
        "id": "S3pfxi5magUm",
        "outputId": "14211e1c-7be5-4f37-e74f-3bdc3b908a0d"
      },
      "source": [
        "test_13 = pd.DataFrame(\n",
        "    {'Kalimat': los2[12],\n",
        "     'Prediksi': set_pred[12],\n",
        "    })\n",
        "test_13.T"
      ],
      "execution_count": 52,
      "outputs": [
        {
          "output_type": "execute_result",
          "data": {
            "text/html": [
              "<div>\n",
              "<style scoped>\n",
              "    .dataframe tbody tr th:only-of-type {\n",
              "        vertical-align: middle;\n",
              "    }\n",
              "\n",
              "    .dataframe tbody tr th {\n",
              "        vertical-align: top;\n",
              "    }\n",
              "\n",
              "    .dataframe thead th {\n",
              "        text-align: right;\n",
              "    }\n",
              "</style>\n",
              "<table border=\"1\" class=\"dataframe\">\n",
              "  <thead>\n",
              "    <tr style=\"text-align: right;\">\n",
              "      <th></th>\n",
              "      <th>0</th>\n",
              "      <th>1</th>\n",
              "      <th>2</th>\n",
              "      <th>3</th>\n",
              "      <th>4</th>\n",
              "      <th>5</th>\n",
              "      <th>6</th>\n",
              "      <th>7</th>\n",
              "      <th>8</th>\n",
              "      <th>9</th>\n",
              "      <th>10</th>\n",
              "      <th>11</th>\n",
              "      <th>12</th>\n",
              "      <th>13</th>\n",
              "      <th>14</th>\n",
              "      <th>15</th>\n",
              "      <th>16</th>\n",
              "      <th>17</th>\n",
              "      <th>18</th>\n",
              "      <th>19</th>\n",
              "      <th>20</th>\n",
              "      <th>21</th>\n",
              "      <th>22</th>\n",
              "      <th>23</th>\n",
              "      <th>24</th>\n",
              "      <th>25</th>\n",
              "      <th>26</th>\n",
              "      <th>27</th>\n",
              "      <th>28</th>\n",
              "    </tr>\n",
              "  </thead>\n",
              "  <tbody>\n",
              "    <tr>\n",
              "      <th>Kalimat</th>\n",
              "      <td>pada</td>\n",
              "      <td>Juli</td>\n",
              "      <td>2009,</td>\n",
              "      <td>fisikawan</td>\n",
              "      <td>Universitas</td>\n",
              "      <td>Melbourne,</td>\n",
              "      <td>David</td>\n",
              "      <td>Jamieson</td>\n",
              "      <td>mengumumkan</td>\n",
              "      <td>adanya</td>\n",
              "      <td>bukti</td>\n",
              "      <td>baru</td>\n",
              "      <td>yang</td>\n",
              "      <td>menyatakan</td>\n",
              "      <td>bahwa</td>\n",
              "      <td>Galileo</td>\n",
              "      <td>setidaknya</td>\n",
              "      <td>sadar</td>\n",
              "      <td>bahwa</td>\n",
              "      <td>bintang</td>\n",
              "      <td>yang</td>\n",
              "      <td>ia</td>\n",
              "      <td>amati</td>\n",
              "      <td>telah</td>\n",
              "      <td>berpindah</td>\n",
              "      <td>relatif</td>\n",
              "      <td>terhadap</td>\n",
              "      <td>bintang</td>\n",
              "      <td>tetap.</td>\n",
              "    </tr>\n",
              "    <tr>\n",
              "      <th>Prediksi</th>\n",
              "      <td>O</td>\n",
              "      <td>O</td>\n",
              "      <td>O</td>\n",
              "      <td>O</td>\n",
              "      <td>B-ORGANIZATION</td>\n",
              "      <td>I-ORGANIZATION</td>\n",
              "      <td>I-ORGANIZATION</td>\n",
              "      <td>I-ORGANIZATION</td>\n",
              "      <td>O</td>\n",
              "      <td>O</td>\n",
              "      <td>O</td>\n",
              "      <td>O</td>\n",
              "      <td>O</td>\n",
              "      <td>O</td>\n",
              "      <td>O</td>\n",
              "      <td>O</td>\n",
              "      <td>O</td>\n",
              "      <td>O</td>\n",
              "      <td>O</td>\n",
              "      <td>O</td>\n",
              "      <td>O</td>\n",
              "      <td>O</td>\n",
              "      <td>O</td>\n",
              "      <td>O</td>\n",
              "      <td>O</td>\n",
              "      <td>O</td>\n",
              "      <td>O</td>\n",
              "      <td>O</td>\n",
              "      <td>O</td>\n",
              "    </tr>\n",
              "  </tbody>\n",
              "</table>\n",
              "</div>"
            ],
            "text/plain": [
              "            0     1      2          3   ...       25        26       27      28\n",
              "Kalimat   pada  Juli  2009,  fisikawan  ...  relatif  terhadap  bintang  tetap.\n",
              "Prediksi     O     O      O          O  ...        O         O        O       O\n",
              "\n",
              "[2 rows x 29 columns]"
            ]
          },
          "metadata": {
            "tags": []
          },
          "execution_count": 52
        }
      ]
    },
    {
      "cell_type": "code",
      "metadata": {
        "id": "47mvjIroceCc",
        "colab": {
          "base_uri": "https://localhost:8080/",
          "height": 415
        },
        "outputId": "672ea836-a1ff-489e-a7c1-ba0192d955e5"
      },
      "source": [
        "frames = [test_1,\n",
        "test_2,\n",
        "test_3,\n",
        "test_4,\n",
        "test_5,\n",
        "test_6,\n",
        "test_7,\n",
        "test_8,\n",
        "test_9,\n",
        "test_10,\n",
        "test_11,\n",
        "test_12,\n",
        "test_13,]\n",
        "\n",
        "  \n",
        "result = pd.concat(frames)\n",
        "display(result)"
      ],
      "execution_count": 53,
      "outputs": [
        {
          "output_type": "display_data",
          "data": {
            "text/html": [
              "<div>\n",
              "<style scoped>\n",
              "    .dataframe tbody tr th:only-of-type {\n",
              "        vertical-align: middle;\n",
              "    }\n",
              "\n",
              "    .dataframe tbody tr th {\n",
              "        vertical-align: top;\n",
              "    }\n",
              "\n",
              "    .dataframe thead th {\n",
              "        text-align: right;\n",
              "    }\n",
              "</style>\n",
              "<table border=\"1\" class=\"dataframe\">\n",
              "  <thead>\n",
              "    <tr style=\"text-align: right;\">\n",
              "      <th></th>\n",
              "      <th>Kalimat</th>\n",
              "      <th>Prediksi</th>\n",
              "    </tr>\n",
              "  </thead>\n",
              "  <tbody>\n",
              "    <tr>\n",
              "      <th>0</th>\n",
              "      <td>Tengkoe</td>\n",
              "      <td>B-PERSON</td>\n",
              "    </tr>\n",
              "    <tr>\n",
              "      <th>1</th>\n",
              "      <td>Amir</td>\n",
              "      <td>I-PERSON</td>\n",
              "    </tr>\n",
              "    <tr>\n",
              "      <th>2</th>\n",
              "      <td>Hamzah</td>\n",
              "      <td>I-PERSON</td>\n",
              "    </tr>\n",
              "    <tr>\n",
              "      <th>3</th>\n",
              "      <td>yang</td>\n",
              "      <td>O</td>\n",
              "    </tr>\n",
              "    <tr>\n",
              "      <th>4</th>\n",
              "      <td>bernama</td>\n",
              "      <td>O</td>\n",
              "    </tr>\n",
              "    <tr>\n",
              "      <th>...</th>\n",
              "      <td>...</td>\n",
              "      <td>...</td>\n",
              "    </tr>\n",
              "    <tr>\n",
              "      <th>24</th>\n",
              "      <td>berpindah</td>\n",
              "      <td>O</td>\n",
              "    </tr>\n",
              "    <tr>\n",
              "      <th>25</th>\n",
              "      <td>relatif</td>\n",
              "      <td>O</td>\n",
              "    </tr>\n",
              "    <tr>\n",
              "      <th>26</th>\n",
              "      <td>terhadap</td>\n",
              "      <td>O</td>\n",
              "    </tr>\n",
              "    <tr>\n",
              "      <th>27</th>\n",
              "      <td>bintang</td>\n",
              "      <td>O</td>\n",
              "    </tr>\n",
              "    <tr>\n",
              "      <th>28</th>\n",
              "      <td>tetap.</td>\n",
              "      <td>O</td>\n",
              "    </tr>\n",
              "  </tbody>\n",
              "</table>\n",
              "<p>289 rows × 2 columns</p>\n",
              "</div>"
            ],
            "text/plain": [
              "      Kalimat  Prediksi\n",
              "0     Tengkoe  B-PERSON\n",
              "1        Amir  I-PERSON\n",
              "2      Hamzah  I-PERSON\n",
              "3        yang         O\n",
              "4     bernama         O\n",
              "..        ...       ...\n",
              "24  berpindah         O\n",
              "25    relatif         O\n",
              "26   terhadap         O\n",
              "27    bintang         O\n",
              "28     tetap.         O\n",
              "\n",
              "[289 rows x 2 columns]"
            ]
          },
          "metadata": {
            "tags": []
          }
        }
      ]
    },
    {
      "cell_type": "code",
      "metadata": {
        "colab": {
          "base_uri": "https://localhost:8080/",
          "height": 35
        },
        "id": "U78IiXaE5mq2",
        "outputId": "10886ebc-483e-4862-a219-6ee0118310ca"
      },
      "source": [
        "from google.colab import files\n",
        "\n",
        "result.to_csv('df.csv')\n",
        "files.download('df.csv')"
      ],
      "execution_count": 54,
      "outputs": [
        {
          "output_type": "display_data",
          "data": {
            "application/javascript": [
              "\n",
              "    async function download(id, filename, size) {\n",
              "      if (!google.colab.kernel.accessAllowed) {\n",
              "        return;\n",
              "      }\n",
              "      const div = document.createElement('div');\n",
              "      const label = document.createElement('label');\n",
              "      label.textContent = `Downloading \"${filename}\": `;\n",
              "      div.appendChild(label);\n",
              "      const progress = document.createElement('progress');\n",
              "      progress.max = size;\n",
              "      div.appendChild(progress);\n",
              "      document.body.appendChild(div);\n",
              "\n",
              "      const buffers = [];\n",
              "      let downloaded = 0;\n",
              "\n",
              "      const channel = await google.colab.kernel.comms.open(id);\n",
              "      // Send a message to notify the kernel that we're ready.\n",
              "      channel.send({})\n",
              "\n",
              "      for await (const message of channel.messages) {\n",
              "        // Send a message to notify the kernel that we're ready.\n",
              "        channel.send({})\n",
              "        if (message.buffers) {\n",
              "          for (const buffer of message.buffers) {\n",
              "            buffers.push(buffer);\n",
              "            downloaded += buffer.byteLength;\n",
              "            progress.value = downloaded;\n",
              "          }\n",
              "        }\n",
              "      }\n",
              "      const blob = new Blob(buffers, {type: 'application/binary'});\n",
              "      const a = document.createElement('a');\n",
              "      a.href = window.URL.createObjectURL(blob);\n",
              "      a.download = filename;\n",
              "      div.appendChild(a);\n",
              "      a.click();\n",
              "      div.remove();\n",
              "    }\n",
              "  "
            ],
            "text/plain": [
              "<IPython.core.display.Javascript object>"
            ]
          },
          "metadata": {
            "tags": []
          }
        },
        {
          "output_type": "display_data",
          "data": {
            "application/javascript": [
              "download(\"download_81221563-7c30-4335-8525-67ce6e2b17ef\", \"df.csv\", 3821)"
            ],
            "text/plain": [
              "<IPython.core.display.Javascript object>"
            ]
          },
          "metadata": {
            "tags": []
          }
        }
      ]
    },
    {
      "cell_type": "markdown",
      "metadata": {
        "id": "HeChqwISGy39"
      },
      "source": [
        "## Hasil anotasi (Manual)"
      ]
    },
    {
      "cell_type": "code",
      "metadata": {
        "id": "gzZnOYH0bBLP"
      },
      "source": [
        "import csv\n",
        "import pandas as pd\n",
        "anotasi_df = pd.read_csv('https://raw.githubusercontent.com/yaumialfadha/Data/master/anotation.csv')"
      ],
      "execution_count": 55,
      "outputs": []
    },
    {
      "cell_type": "code",
      "metadata": {
        "colab": {
          "base_uri": "https://localhost:8080/",
          "height": 415
        },
        "id": "QCpuHZJ3HPIV",
        "outputId": "0799b2da-1b78-4818-c0b2-cef15dc9e8c4"
      },
      "source": [
        "anotasi_df"
      ],
      "execution_count": 56,
      "outputs": [
        {
          "output_type": "execute_result",
          "data": {
            "text/html": [
              "<div>\n",
              "<style scoped>\n",
              "    .dataframe tbody tr th:only-of-type {\n",
              "        vertical-align: middle;\n",
              "    }\n",
              "\n",
              "    .dataframe tbody tr th {\n",
              "        vertical-align: top;\n",
              "    }\n",
              "\n",
              "    .dataframe thead th {\n",
              "        text-align: right;\n",
              "    }\n",
              "</style>\n",
              "<table border=\"1\" class=\"dataframe\">\n",
              "  <thead>\n",
              "    <tr style=\"text-align: right;\">\n",
              "      <th></th>\n",
              "      <th>Unnamed: 0</th>\n",
              "      <th>Kalimat</th>\n",
              "      <th>Prediksi</th>\n",
              "      <th>Anotasi</th>\n",
              "    </tr>\n",
              "  </thead>\n",
              "  <tbody>\n",
              "    <tr>\n",
              "      <th>0</th>\n",
              "      <td>0</td>\n",
              "      <td>Tengkoe</td>\n",
              "      <td>B-PERSON</td>\n",
              "      <td>B-PERSON</td>\n",
              "    </tr>\n",
              "    <tr>\n",
              "      <th>1</th>\n",
              "      <td>1</td>\n",
              "      <td>Amir</td>\n",
              "      <td>I-PERSON</td>\n",
              "      <td>I-PERSON</td>\n",
              "    </tr>\n",
              "    <tr>\n",
              "      <th>2</th>\n",
              "      <td>2</td>\n",
              "      <td>Hamzah</td>\n",
              "      <td>I-PERSON</td>\n",
              "      <td>I-PERSON</td>\n",
              "    </tr>\n",
              "    <tr>\n",
              "      <th>3</th>\n",
              "      <td>3</td>\n",
              "      <td>yang</td>\n",
              "      <td>O</td>\n",
              "      <td>O</td>\n",
              "    </tr>\n",
              "    <tr>\n",
              "      <th>4</th>\n",
              "      <td>4</td>\n",
              "      <td>bernama</td>\n",
              "      <td>O</td>\n",
              "      <td>O</td>\n",
              "    </tr>\n",
              "    <tr>\n",
              "      <th>...</th>\n",
              "      <td>...</td>\n",
              "      <td>...</td>\n",
              "      <td>...</td>\n",
              "      <td>...</td>\n",
              "    </tr>\n",
              "    <tr>\n",
              "      <th>284</th>\n",
              "      <td>24</td>\n",
              "      <td>berpindah</td>\n",
              "      <td>O</td>\n",
              "      <td>O</td>\n",
              "    </tr>\n",
              "    <tr>\n",
              "      <th>285</th>\n",
              "      <td>25</td>\n",
              "      <td>relatif</td>\n",
              "      <td>O</td>\n",
              "      <td>O</td>\n",
              "    </tr>\n",
              "    <tr>\n",
              "      <th>286</th>\n",
              "      <td>26</td>\n",
              "      <td>terhadap</td>\n",
              "      <td>O</td>\n",
              "      <td>O</td>\n",
              "    </tr>\n",
              "    <tr>\n",
              "      <th>287</th>\n",
              "      <td>27</td>\n",
              "      <td>bintang</td>\n",
              "      <td>O</td>\n",
              "      <td>O</td>\n",
              "    </tr>\n",
              "    <tr>\n",
              "      <th>288</th>\n",
              "      <td>28</td>\n",
              "      <td>tetap.</td>\n",
              "      <td>O</td>\n",
              "      <td>O</td>\n",
              "    </tr>\n",
              "  </tbody>\n",
              "</table>\n",
              "<p>289 rows × 4 columns</p>\n",
              "</div>"
            ],
            "text/plain": [
              "     Unnamed: 0    Kalimat  Prediksi   Anotasi\n",
              "0             0    Tengkoe  B-PERSON  B-PERSON\n",
              "1             1       Amir  I-PERSON  I-PERSON\n",
              "2             2     Hamzah  I-PERSON  I-PERSON\n",
              "3             3       yang         O         O\n",
              "4             4    bernama         O         O\n",
              "..          ...        ...       ...       ...\n",
              "284          24  berpindah         O         O\n",
              "285          25    relatif         O         O\n",
              "286          26   terhadap         O         O\n",
              "287          27    bintang         O         O\n",
              "288          28     tetap.         O         O\n",
              "\n",
              "[289 rows x 4 columns]"
            ]
          },
          "metadata": {
            "tags": []
          },
          "execution_count": 56
        }
      ]
    },
    {
      "cell_type": "markdown",
      "metadata": {
        "id": "URAuVjIL1Sox"
      },
      "source": [
        "## d. Bandingkan hasil prediksi model dengan hasil anotasi"
      ]
    },
    {
      "cell_type": "code",
      "metadata": {
        "id": "S2XlYoX2HbI1",
        "colab": {
          "base_uri": "https://localhost:8080/"
        },
        "outputId": "fe03cb7f-fdb3-435b-a5b5-d66f3c23245c"
      },
      "source": [
        "row_count = anotasi_df.shape[0]\n",
        "correct = 0\n",
        "incorrect = 0\n",
        "spurius = 0\n",
        "par = 0\n",
        "mis = 0\n",
        "\n",
        "list_prediksi = anotasi_df['Prediksi'].values.tolist()\n",
        "list_anotasi = anotasi_df['Anotasi'].values.tolist()\n",
        "\n",
        "for i in range(len(list_prediksi)):\n",
        "    if list_prediksi[i] == list_anotasi[i]:\n",
        "      correct = correct + 1\n",
        "    else :\n",
        "      incorrect = incorrect + 1\n",
        "    for j in range(len(list_prediksi)):\n",
        "      if list_anotasi[i]  not in list_prediksi:\n",
        "        spurius = spurius +1\n",
        "\n",
        "#POSSIBLE(POS)=COR+INC+PAR+MIS=TP+FN\n",
        "#ACTUAL(ACT)=COR+INC+PAR+SPU=TP+FP\n",
        "\n",
        "pos = correct + incorrect + par + mis\n",
        "act = correct + incorrect + spurius + par\n",
        "\n",
        "\n",
        "#exact match (i.e., strict and exact )\n",
        "#Precision=COR/ACT=TP/TP+FP\n",
        "#Recall=COR/POS=TP/TP+FN\n",
        "\n",
        "strict = correct/act \n",
        "exact = correct/pos \n",
        "\n",
        "print(strict)\n",
        "print(exact)\n",
        "\n",
        "\n",
        "#partial match  (i.e., partial and type)\n",
        "#Precision=COR + 0.5 × PAR/ACT=TPTP+FP\n",
        "#Recall=COR + 0.5 × PAR/POS=CORACT=TPTP+FP\n",
        "\n",
        "partial = (correct + 0.5 * par)/act \n",
        "type_partial = (correct + 0.5 * par)/pos\n",
        "\n",
        "\n",
        "print(partial)\n",
        "print(type_partial)\n",
        "\n",
        "print(\"correct: \" + str(correct))\n",
        "print(\"incorrect: \" + str(incorrect))\n",
        "print\n",
        "\n",
        "\n",
        "\n"
      ],
      "execution_count": 57,
      "outputs": [
        {
          "output_type": "stream",
          "text": [
            "0.972318339100346\n",
            "0.972318339100346\n",
            "0.972318339100346\n",
            "0.972318339100346\n",
            "correct: 281\n",
            "incorrect: 8\n"
          ],
          "name": "stdout"
        },
        {
          "output_type": "execute_result",
          "data": {
            "text/plain": [
              "<function print>"
            ]
          },
          "metadata": {
            "tags": []
          },
          "execution_count": 57
        }
      ]
    },
    {
      "cell_type": "markdown",
      "metadata": {
        "id": "RJq5NIzr5_Rq"
      },
      "source": [
        "# WSD"
      ]
    },
    {
      "cell_type": "code",
      "metadata": {
        "id": "v1FPEKrl6BGu"
      },
      "source": [
        "from html.parser import HTMLParser\n",
        "import os\n",
        "import math\n",
        "import string\n",
        "\n",
        "import pandas as pd\n",
        "import numpy as np\n",
        "pd.set_option('display.max_colwidth', 200)"
      ],
      "execution_count": 58,
      "outputs": []
    },
    {
      "cell_type": "code",
      "metadata": {
        "id": "L5wLZWHPXGrz"
      },
      "source": [
        "import nltk\n",
        "# nltk.download()\n",
        "\n",
        "from nltk.tokenize import word_tokenize\n",
        "from nltk.stem import PorterStemmer\n",
        "import warnings\n",
        "warnings.filterwarnings(\"ignore\")"
      ],
      "execution_count": 59,
      "outputs": []
    },
    {
      "cell_type": "code",
      "metadata": {
        "id": "ZUuyLCouo9K8"
      },
      "source": [
        "import nltk\n",
        "import os"
      ],
      "execution_count": 61,
      "outputs": []
    },
    {
      "cell_type": "code",
      "metadata": {
        "id": "1QB1Wto0pM4D"
      },
      "source": [
        "\n",
        "\n",
        "ct = nltk.tag.CRFTagger()\n",
        "ct.set_model_file('/content/drive/MyDrive/Data mining/all_indo_man_tag_corpus_model.crf.tagger')"
      ],
      "execution_count": 69,
      "outputs": []
    },
    {
      "cell_type": "code",
      "metadata": {
        "colab": {
          "base_uri": "https://localhost:8080/"
        },
        "id": "E-eLOTJn6B4l",
        "outputId": "1bb5afda-f5b6-49e7-914a-6aaaee7b50bc"
      },
      "source": [
        "!pip install pySastrawi"
      ],
      "execution_count": 63,
      "outputs": [
        {
          "output_type": "stream",
          "text": [
            "Collecting pySastrawi\n",
            "\u001b[?25l  Downloading https://files.pythonhosted.org/packages/61/84/b0a5454a040f81e81e6a95a5d5635f20ad43cc0c288f8b4966b339084962/PySastrawi-1.2.0-py2.py3-none-any.whl (210kB)\n",
            "\r\u001b[K     |█▋                              | 10kB 13.7MB/s eta 0:00:01\r\u001b[K     |███▏                            | 20kB 18.4MB/s eta 0:00:01\r\u001b[K     |████▊                           | 30kB 11.1MB/s eta 0:00:01\r\u001b[K     |██████▎                         | 40kB 8.6MB/s eta 0:00:01\r\u001b[K     |███████▉                        | 51kB 5.6MB/s eta 0:00:01\r\u001b[K     |█████████▍                      | 61kB 6.2MB/s eta 0:00:01\r\u001b[K     |███████████                     | 71kB 6.0MB/s eta 0:00:01\r\u001b[K     |████████████▌                   | 81kB 6.6MB/s eta 0:00:01\r\u001b[K     |██████████████                  | 92kB 6.5MB/s eta 0:00:01\r\u001b[K     |███████████████▋                | 102kB 6.9MB/s eta 0:00:01\r\u001b[K     |█████████████████▏              | 112kB 6.9MB/s eta 0:00:01\r\u001b[K     |██████████████████▊             | 122kB 6.9MB/s eta 0:00:01\r\u001b[K     |████████████████████▎           | 133kB 6.9MB/s eta 0:00:01\r\u001b[K     |█████████████████████▉          | 143kB 6.9MB/s eta 0:00:01\r\u001b[K     |███████████████████████▍        | 153kB 6.9MB/s eta 0:00:01\r\u001b[K     |█████████████████████████       | 163kB 6.9MB/s eta 0:00:01\r\u001b[K     |██████████████████████████▌     | 174kB 6.9MB/s eta 0:00:01\r\u001b[K     |████████████████████████████    | 184kB 6.9MB/s eta 0:00:01\r\u001b[K     |█████████████████████████████▋  | 194kB 6.9MB/s eta 0:00:01\r\u001b[K     |███████████████████████████████▏| 204kB 6.9MB/s eta 0:00:01\r\u001b[K     |████████████████████████████████| 215kB 6.9MB/s \n",
            "\u001b[?25hInstalling collected packages: pySastrawi\n",
            "Successfully installed pySastrawi-1.2.0\n"
          ],
          "name": "stdout"
        }
      ]
    },
    {
      "cell_type": "code",
      "metadata": {
        "colab": {
          "base_uri": "https://localhost:8080/"
        },
        "id": "uZjLdE0F7bq3",
        "outputId": "607e8601-7595-455f-c37f-6939c9d8d7b6"
      },
      "source": [
        "import nltk\n",
        "nltk.download('punkt')"
      ],
      "execution_count": 64,
      "outputs": [
        {
          "output_type": "stream",
          "text": [
            "[nltk_data] Downloading package punkt to /root/nltk_data...\n",
            "[nltk_data]   Unzipping tokenizers/punkt.zip.\n"
          ],
          "name": "stdout"
        },
        {
          "output_type": "execute_result",
          "data": {
            "text/plain": [
              "True"
            ]
          },
          "metadata": {
            "tags": []
          },
          "execution_count": 64
        }
      ]
    },
    {
      "cell_type": "code",
      "metadata": {
        "id": "9OK0ncJG5vsf"
      },
      "source": [
        "from Sastrawi.Stemmer.StemmerFactory import StemmerFactory\n",
        "from Sastrawi.StopWordRemover.StopWordRemoverFactory import StopWordRemoverFactory\n",
        "from nltk.tokenize import word_tokenize \n",
        "factory = StemmerFactory()\n",
        "stemmer = factory.create_stemmer()\n",
        "\n",
        "factory = StopWordRemoverFactory()\n",
        "stopword = factory.create_stop_word_remover()\n"
      ],
      "execution_count": 65,
      "outputs": []
    },
    {
      "cell_type": "code",
      "metadata": {
        "id": "_gt3Zbl17XEi"
      },
      "source": [
        "# Function to convert  \n",
        "def listToString(s): \n",
        "    \n",
        "    # initialize an empty string\n",
        "    str1 = \" \" \n",
        "    \n",
        "    # return string  \n",
        "    return (str1.join(s))"
      ],
      "execution_count": 66,
      "outputs": []
    },
    {
      "cell_type": "markdown",
      "metadata": {
        "id": "fz--cjyNRdCq"
      },
      "source": [
        "# 1."
      ]
    },
    {
      "cell_type": "code",
      "metadata": {
        "colab": {
          "base_uri": "https://localhost:8080/"
        },
        "id": "uwlmnpEOCoym",
        "outputId": "184fb18a-7ead-450d-abbf-dbd2294fa3d3"
      },
      "source": [
        "import csv\n",
        "train2 = pd.read_csv('https://raw.githubusercontent.com/dfaizaditya/Data/master/train_2_sense.csv')\n",
        "train6 = pd.read_csv('https://raw.githubusercontent.com/dfaizaditya/Data/master/train_6_sense.csv')\n",
        "\n",
        "test2 = pd.read_csv('https://raw.githubusercontent.com/dfaizaditya/Data/master/test_2_sense.csv')\n",
        "test6 = pd.read_csv('https://raw.githubusercontent.com/dfaizaditya/Data/master/test_6_sense.csv')\n",
        "\n",
        "PUNCT_TO_REMOVE = string.punctuation\n",
        "PUNCT_TO_REMOVE = PUNCT_TO_REMOVE.replace(\"-\",\"\")\n",
        "print(PUNCT_TO_REMOVE) # Output : !\"#$%&'()*+,-./:;<=>?@[\\]^`{|}~"
      ],
      "execution_count": 121,
      "outputs": [
        {
          "output_type": "stream",
          "text": [
            "!\"#$%&'()*+,./:;<=>?@[\\]^_`{|}~\n"
          ],
          "name": "stdout"
        }
      ]
    },
    {
      "cell_type": "code",
      "metadata": {
        "id": "-rkcKeEAlfwJ"
      },
      "source": [
        "annotated_words = set(train2.kata)"
      ],
      "execution_count": 122,
      "outputs": []
    },
    {
      "cell_type": "code",
      "metadata": {
        "id": "6a-6j_3CpDZn"
      },
      "source": [
        "t2 = train2.values.tolist()\n",
        "for x in t2:\n",
        "  z = ct.tag_sents([x[3].split(' ')])\n",
        "  x.append(z[0])\n",
        "  kalimat = x[3].translate(str.maketrans('','',PUNCT_TO_REMOVE)).lower()\n",
        "  stop = stopword.remove(kalimat)\n",
        "  tokens = nltk.tokenize.word_tokenize(stop)\n",
        "  x.append(stemmer.stem(listToString(tokens)))\n",
        "\n",
        "t6 = train6.values.tolist()\n",
        "for x in t6:\n",
        "  z = ct.tag_sents([x[3].split(' ')])\n",
        "  x.append(z[0])\n",
        "  kalimat = x[3].translate(str.maketrans('','',PUNCT_TO_REMOVE)).lower()\n",
        "  stop = stopword.remove(kalimat)\n",
        "  tokens = nltk.tokenize.word_tokenize(stop)\n",
        "  x.append(stemmer.stem(listToString(tokens)))"
      ],
      "execution_count": 123,
      "outputs": []
    },
    {
      "cell_type": "code",
      "metadata": {
        "id": "u5TMcdxtBSiy"
      },
      "source": [
        "for x in t2:\n",
        "  z = ct.tag_sents([x[5].split(' ')])\n",
        "  x.append(z[0])\n",
        "\n",
        "for x in t6:\n",
        "  z = ct.tag_sents([x[5].split(' ')])\n",
        "  x.append(z[0])"
      ],
      "execution_count": 124,
      "outputs": []
    },
    {
      "cell_type": "code",
      "metadata": {
        "id": "TrkwVQYX0Yji"
      },
      "source": [
        "from pandas import DataFrame\n",
        "df2 = DataFrame (t2,columns=['kalimat_id','kata','sense','kalimat','pos','stem','pos_stem'])"
      ],
      "execution_count": 125,
      "outputs": []
    },
    {
      "cell_type": "code",
      "metadata": {
        "colab": {
          "base_uri": "https://localhost:8080/",
          "height": 1000
        },
        "id": "SP1fw-MKAayN",
        "outputId": "9c4b6cbd-31cf-41f5-b2b2-3a133359d276"
      },
      "source": [
        "df2_cut = df2.loc[df2['kata'] == 'lebat']\n",
        "df2_cut"
      ],
      "execution_count": 126,
      "outputs": [
        {
          "output_type": "execute_result",
          "data": {
            "text/html": [
              "<div>\n",
              "<style scoped>\n",
              "    .dataframe tbody tr th:only-of-type {\n",
              "        vertical-align: middle;\n",
              "    }\n",
              "\n",
              "    .dataframe tbody tr th {\n",
              "        vertical-align: top;\n",
              "    }\n",
              "\n",
              "    .dataframe thead th {\n",
              "        text-align: right;\n",
              "    }\n",
              "</style>\n",
              "<table border=\"1\" class=\"dataframe\">\n",
              "  <thead>\n",
              "    <tr style=\"text-align: right;\">\n",
              "      <th></th>\n",
              "      <th>kalimat_id</th>\n",
              "      <th>kata</th>\n",
              "      <th>sense</th>\n",
              "      <th>kalimat</th>\n",
              "      <th>pos</th>\n",
              "      <th>stem</th>\n",
              "      <th>pos_stem</th>\n",
              "    </tr>\n",
              "  </thead>\n",
              "  <tbody>\n",
              "    <tr>\n",
              "      <th>888</th>\n",
              "      <td>932092</td>\n",
              "      <td>lebat</td>\n",
              "      <td>5501</td>\n",
              "      <td>Umumnya hanya tumbuh lebat pada laki-laki.</td>\n",
              "      <td>[(Umumnya, RB), (hanya, RB), (tumbuh, VB), (lebat, NN), (pada, IN), (laki-laki., NNP)]</td>\n",
              "      <td>tumbuh lebat laki</td>\n",
              "      <td>[(tumbuh, VB), (lebat, NN), (laki, NN)]</td>\n",
              "    </tr>\n",
              "    <tr>\n",
              "      <th>889</th>\n",
              "      <td>932093</td>\n",
              "      <td>lebat</td>\n",
              "      <td>5501</td>\n",
              "      <td>Demi kelanjutan hidup mereka, pendatang-pendatang baru mulai membuka hutan lebat menjadi ladang-ladang dan daerah sepanjang Lawe Alas dan Lawe Bulan sebagai daerah persawahan.</td>\n",
              "      <td>[(Demi, NN), (kelanjutan, NN), (hidup, NN), (mereka,, NN), (pendatang-pendatang, NN), (baru, JJ), (mulai, VB), (membuka, VB), (hutan, NN), (lebat, NN), (menjadi, VB), (ladang-ladang, NN), (dan, CC...</td>\n",
              "      <td>lanjut hidup datang buka hutan lebat ladang daerah lawe alas lawe daerah sawah</td>\n",
              "      <td>[(lanjut, VB), (hidup, NN), (datang, VB), (buka, VB), (hutan, NN), (lebat, NN), (ladang, NN), (daerah, NN), (lawe, FW), (alas, FW), (lawe, FW), (daerah, NN), (sawah, VB)]</td>\n",
              "    </tr>\n",
              "    <tr>\n",
              "      <th>890</th>\n",
              "      <td>932094</td>\n",
              "      <td>lebat</td>\n",
              "      <td>5501</td>\n",
              "      <td>Tank ini populer digunakan di negara-negara Asia Tenggara yang memiliki hutan lebat atau kepulauan seperti Indonesia, Thailand, Filipina, Brunei Darussalam, dan Malaysia.</td>\n",
              "      <td>[(Tank, NN), (ini, PR), (populer, JJ), (digunakan, VB), (di, IN), (negara-negara, NN), (Asia, NNP), (Tenggara, NNP), (yang, SC), (memiliki, VB), (hutan, NN), (lebat, NN), (atau, CC), (kepulauan, N...</td>\n",
              "      <td>tank populer negara asia tenggara milik hutan lebat pulau indonesia thailand filipina brunei darussalam malaysia</td>\n",
              "      <td>[(tank, NN), (populer, JJ), (negara, NN), (asia, NN), (tenggara, NN), (milik, NN), (hutan, NN), (lebat, NN), (pulau, NN), (indonesia, NNP), (thailand, NNP), (filipina, NNP), (brunei, NNP), (daruss...</td>\n",
              "    </tr>\n",
              "    <tr>\n",
              "      <th>891</th>\n",
              "      <td>932100</td>\n",
              "      <td>lebat</td>\n",
              "      <td>5502</td>\n",
              "      <td>Badai Tropis Washi membawa 10 jam hujan lebat yang memicu bencana banjir bandang Mindanao, daerah yang jarang mengalami siklon tropis.</td>\n",
              "      <td>[(Badai, NNP), (Tropis, NNP), (Washi, NNP), (membawa, VB), (10, CD), (jam, NN), (hujan, NN), (lebat, NN), (yang, SC), (memicu, VB), (bencana, NN), (banjir, NN), (bandang, NN), (Mindanao,, NNP), (d...</td>\n",
              "      <td>badai tropis washi bawa 10 jam hujan lebat picu bencana banjir bandang mindanao daerah jarang alami siklon tropis</td>\n",
              "      <td>[(badai, NN), (tropis, JJ), (washi, VB), (bawa, VB), (10, CD), (jam, NN), (hujan, NN), (lebat, NN), (picu, VB), (bencana, NN), (banjir, NN), (bandang, NN), (mindanao, NN), (daerah, NN), (jarang, R...</td>\n",
              "    </tr>\n",
              "    <tr>\n",
              "      <th>892</th>\n",
              "      <td>932102</td>\n",
              "      <td>lebat</td>\n",
              "      <td>5502</td>\n",
              "      <td>Kota ini memiliki curah hujan yang lebat sehingga dijuluki sebagai \"Kota Penghujan\".</td>\n",
              "      <td>[(Kota, NN), (ini, PR), (memiliki, VB), (curah, NN), (hujan, NN), (yang, SC), (lebat, VB), (sehingga, SC), (dijuluki, VB), (sebagai, IN), (\"Kota, NN), (Penghujan\"., NNP)]</td>\n",
              "      <td>kota milik curah hujan lebat juluk kota hujan</td>\n",
              "      <td>[(kota, NN), (milik, NN), (curah, NN), (hujan, NN), (lebat, NN), (juluk, NN), (kota, NN), (hujan, NN)]</td>\n",
              "    </tr>\n",
              "    <tr>\n",
              "      <th>...</th>\n",
              "      <td>...</td>\n",
              "      <td>...</td>\n",
              "      <td>...</td>\n",
              "      <td>...</td>\n",
              "      <td>...</td>\n",
              "      <td>...</td>\n",
              "      <td>...</td>\n",
              "    </tr>\n",
              "    <tr>\n",
              "      <th>1066</th>\n",
              "      <td>932511</td>\n",
              "      <td>lebat</td>\n",
              "      <td>5502</td>\n",
              "      <td>Dua peristiwa yang membawa perubahan besar mempercepat terjadinya air bah: ledakan tempat-tempat penyimpanan air yang besar di bawah tanah, mungkin disebabkan oleh gempa bumi dengan gelombang-gelo...</td>\n",
              "      <td>[(Dua, CD), (peristiwa, NN), (yang, SC), (membawa, VB), (perubahan, NN), (besar, JJ), (mempercepat, VB), (terjadinya, NN), (air, NN), (bah:, NN), (ledakan, NN), (tempat-tempat, NN), (penyimpanan, ...</td>\n",
              "      <td>peristiwa bawa ubah cepat air bah ledak tempat simpan air tanah sebab gempa bumi gelombang pasang samudera hujan lebat 40 ayat 12</td>\n",
              "      <td>[(peristiwa, NN), (bawa, VB), (ubah, NN), (cepat, JJ), (air, NN), (bah, NN), (ledak, NN), (tempat, NN), (simpan, NN), (air, NN), (tanah, NN), (sebab, SC), (gempa, NN), (bumi, NN), (gelombang, NN),...</td>\n",
              "    </tr>\n",
              "    <tr>\n",
              "      <th>1067</th>\n",
              "      <td>932514</td>\n",
              "      <td>lebat</td>\n",
              "      <td>5501</td>\n",
              "      <td>Kombinasi dari postur kekar dan panjang, bulu lebat membuatnya tampak gagah dan empuk.</td>\n",
              "      <td>[(Kombinasi, NN), (dari, IN), (postur, NN), (kekar, NN), (dan, CC), (panjang,, NN), (bulu, NN), (lebat, NN), (membuatnya, RB), (tampak, VB), (gagah, NN), (dan, CC), (empuk., NNP)]</td>\n",
              "      <td>kombinasi postur kekar bulu lebat buat gagah empuk</td>\n",
              "      <td>[(kombinasi, NN), (postur, NN), (kekar, NN), (bulu, NN), (lebat, NN), (buat, IN), (gagah, NN), (empuk, NN)]</td>\n",
              "    </tr>\n",
              "    <tr>\n",
              "      <th>1068</th>\n",
              "      <td>932515</td>\n",
              "      <td>lebat</td>\n",
              "      <td>5501</td>\n",
              "      <td>hutan tropis nan lebat menjadikan sumber mata air murni yg sehat dan alami.</td>\n",
              "      <td>[(hutan, NN), (tropis, JJ), (nan, NN), (lebat, NN), (menjadikan, VB), (sumber, NN), (mata, NN), (air, NN), (murni, NN), (yg, NN), (sehat, JJ), (dan, CC), (alami., NNP)]</td>\n",
              "      <td>hutan tropis nan lebat jadi sumber air murni yg sehat alami</td>\n",
              "      <td>[(hutan, NN), (tropis, JJ), (nan, NN), (lebat, NN), (jadi, VB), (sumber, NN), (air, NN), (murni, NN), (yg, NN), (sehat, JJ), (alami, PRP)]</td>\n",
              "    </tr>\n",
              "    <tr>\n",
              "      <th>1069</th>\n",
              "      <td>932529</td>\n",
              "      <td>lebat</td>\n",
              "      <td>5502</td>\n",
              "      <td>Hujan lebat yang mengguyur malam itu membuat arus sungai yang memisahkan rumah Beth dengan rumah pohon menjadi deras dan memutuskan satu-satunya jembatan gantung yang ada di sana.</td>\n",
              "      <td>[(Hujan, NN), (lebat, NN), (yang, SC), (mengguyur, NN), (malam, NN), (itu, PR), (membuat, VB), (arus, NN), (sungai, NN), (yang, SC), (memisahkan, VB), (rumah, NN), (Beth, NNP), (dengan, IN), (ruma...</td>\n",
              "      <td>hujan lebat guyur malam arus sungai pisah rumah beth rumah pohon deras putus satu jembatan gantung</td>\n",
              "      <td>[(hujan, NN), (lebat, NN), (guyur, NN), (malam, NN), (arus, NN), (sungai, NN), (pisah, NN), (rumah, NN), (beth, NN), (rumah, NN), (pohon, NN), (deras, NN), (putus, VB), (satu, CD), (jembatan, NN),...</td>\n",
              "    </tr>\n",
              "    <tr>\n",
              "      <th>1070</th>\n",
              "      <td>932530</td>\n",
              "      <td>lebat</td>\n",
              "      <td>5501</td>\n",
              "      <td>Meski secara umum mirip takur lain, burung ini lebih umum terlihat di habitat hutan yang relatif lebat kering dan terbuka serta di hutan-hutan di pesisir.</td>\n",
              "      <td>[(Meski, SC), (secara, IN), (umum, JJ), (mirip, VB), (takur, NN), (lain,, NN), (burung, NN), (ini, PR), (lebih, RB), (umum, JJ), (terlihat, VB), (di, IN), (habitat, NN), (hutan, NN), (yang, SC), (...</td>\n",
              "      <td>umum takur burung umum habitat hutan relatif lebat kering buka hutan pesisir</td>\n",
              "      <td>[(umum, JJ), (takur, VB), (burung, NN), (umum, JJ), (habitat, VB), (hutan, NN), (relatif, JJ), (lebat, NN), (kering, JJ), (buka, VB), (hutan, NN), (pesisir, NN)]</td>\n",
              "    </tr>\n",
              "  </tbody>\n",
              "</table>\n",
              "<p>183 rows × 7 columns</p>\n",
              "</div>"
            ],
            "text/plain": [
              "      kalimat_id  ...                                                                                                                                                                                                 pos_stem\n",
              "888       932092  ...                                                                                                                                                                  [(tumbuh, VB), (lebat, NN), (laki, NN)]\n",
              "889       932093  ...                               [(lanjut, VB), (hidup, NN), (datang, VB), (buka, VB), (hutan, NN), (lebat, NN), (ladang, NN), (daerah, NN), (lawe, FW), (alas, FW), (lawe, FW), (daerah, NN), (sawah, VB)]\n",
              "890       932094  ...  [(tank, NN), (populer, JJ), (negara, NN), (asia, NN), (tenggara, NN), (milik, NN), (hutan, NN), (lebat, NN), (pulau, NN), (indonesia, NNP), (thailand, NNP), (filipina, NNP), (brunei, NNP), (daruss...\n",
              "891       932100  ...  [(badai, NN), (tropis, JJ), (washi, VB), (bawa, VB), (10, CD), (jam, NN), (hujan, NN), (lebat, NN), (picu, VB), (bencana, NN), (banjir, NN), (bandang, NN), (mindanao, NN), (daerah, NN), (jarang, R...\n",
              "892       932102  ...                                                                                                   [(kota, NN), (milik, NN), (curah, NN), (hujan, NN), (lebat, NN), (juluk, NN), (kota, NN), (hujan, NN)]\n",
              "...          ...  ...                                                                                                                                                                                                      ...\n",
              "1066      932511  ...  [(peristiwa, NN), (bawa, VB), (ubah, NN), (cepat, JJ), (air, NN), (bah, NN), (ledak, NN), (tempat, NN), (simpan, NN), (air, NN), (tanah, NN), (sebab, SC), (gempa, NN), (bumi, NN), (gelombang, NN),...\n",
              "1067      932514  ...                                                                                              [(kombinasi, NN), (postur, NN), (kekar, NN), (bulu, NN), (lebat, NN), (buat, IN), (gagah, NN), (empuk, NN)]\n",
              "1068      932515  ...                                                               [(hutan, NN), (tropis, JJ), (nan, NN), (lebat, NN), (jadi, VB), (sumber, NN), (air, NN), (murni, NN), (yg, NN), (sehat, JJ), (alami, PRP)]\n",
              "1069      932529  ...  [(hujan, NN), (lebat, NN), (guyur, NN), (malam, NN), (arus, NN), (sungai, NN), (pisah, NN), (rumah, NN), (beth, NN), (rumah, NN), (pohon, NN), (deras, NN), (putus, VB), (satu, CD), (jembatan, NN),...\n",
              "1070      932530  ...                                        [(umum, JJ), (takur, VB), (burung, NN), (umum, JJ), (habitat, VB), (hutan, NN), (relatif, JJ), (lebat, NN), (kering, JJ), (buka, VB), (hutan, NN), (pesisir, NN)]\n",
              "\n",
              "[183 rows x 7 columns]"
            ]
          },
          "metadata": {
            "tags": []
          },
          "execution_count": 126
        }
      ]
    },
    {
      "cell_type": "code",
      "metadata": {
        "id": "sjZ2hZa30fn7"
      },
      "source": [
        "from pandas import DataFrame\n",
        "df6 = DataFrame (t6,columns=['kalimat_id','kata','sense','kalimat','pos','stem','pos_stem'])"
      ],
      "execution_count": 127,
      "outputs": []
    },
    {
      "cell_type": "code",
      "metadata": {
        "colab": {
          "base_uri": "https://localhost:8080/",
          "height": 1000
        },
        "id": "wszH4zSP8jvs",
        "outputId": "8ef5e855-b232-482f-9a03-0e7292456525"
      },
      "source": [
        "df6_cut = df6.loc[df6['kata'] == 'mata']\n",
        "df6_cut"
      ],
      "execution_count": 128,
      "outputs": [
        {
          "output_type": "execute_result",
          "data": {
            "text/html": [
              "<div>\n",
              "<style scoped>\n",
              "    .dataframe tbody tr th:only-of-type {\n",
              "        vertical-align: middle;\n",
              "    }\n",
              "\n",
              "    .dataframe tbody tr th {\n",
              "        vertical-align: top;\n",
              "    }\n",
              "\n",
              "    .dataframe thead th {\n",
              "        text-align: right;\n",
              "    }\n",
              "</style>\n",
              "<table border=\"1\" class=\"dataframe\">\n",
              "  <thead>\n",
              "    <tr style=\"text-align: right;\">\n",
              "      <th></th>\n",
              "      <th>kalimat_id</th>\n",
              "      <th>kata</th>\n",
              "      <th>sense</th>\n",
              "      <th>kalimat</th>\n",
              "      <th>pos</th>\n",
              "      <th>stem</th>\n",
              "      <th>pos_stem</th>\n",
              "    </tr>\n",
              "  </thead>\n",
              "  <tbody>\n",
              "    <tr>\n",
              "      <th>0</th>\n",
              "      <td>942397</td>\n",
              "      <td>mata</td>\n",
              "      <td>1001</td>\n",
              "      <td>Misalnya ketika dia diperhadapkan dengan raksasa mata satu, Kiklops yang disuruh oleh Poseidon untuk membunuhnya, dia tidak mengatakan bahwa dirinya Odisseus dan justru menjawab \"bukan siapa-siapa...</td>\n",
              "      <td>[(Misalnya, RB), (ketika, SC), (dia, PRP), (diperhadapkan, VB), (dengan, IN), (raksasa, NN), (mata, NN), (satu,, NNP), (Kiklops, NNP), (yang, SC), (disuruh, VB), (oleh, IN), (Poseidon, NNP), (untu...</td>\n",
              "      <td>hadap raksasa kiklops suruh poseidon bunuh odisseus siapa sangkal identitas</td>\n",
              "      <td>[(hadap, IN), (raksasa, NN), (kiklops, FW), (suruh, FW), (poseidon, FW), (bunuh, VB), (odisseus, NN), (siapa, SC), (sangkal, VB), (identitas, NN)]</td>\n",
              "    </tr>\n",
              "    <tr>\n",
              "      <th>1</th>\n",
              "      <td>942485</td>\n",
              "      <td>mata</td>\n",
              "      <td>1002</td>\n",
              "      <td>Desa Sukamakmur yang notabene ibukota Kecamatan Sukamakmur sebagian besar mata pencaharian warga masyarakatnya adalah dibidang pertanian, perdagangan dan jasa.</td>\n",
              "      <td>[(Desa, NNP), (Sukamakmur, NNP), (yang, SC), (notabene, NNP), (ibukota, NNP), (Kecamatan, NNP), (Sukamakmur, NNP), (sebagian, CD), (besar, JJ), (mata, NN), (pencaharian, NN), (warga, NN), (masyara...</td>\n",
              "      <td>desa sukamakmur notabene ibukota camat sukamakmur cahari warga masyarakat bidang tani dagang jasa</td>\n",
              "      <td>[(desa, NN), (sukamakmur, NN), (notabene, NN), (ibukota, NN), (camat, NN), (sukamakmur, NN), (cahari, NN), (warga, NN), (masyarakat, NN), (bidang, NN), (tani, VB), (dagang, NN), (jasa, NN)]</td>\n",
              "    </tr>\n",
              "    <tr>\n",
              "      <th>2</th>\n",
              "      <td>942577</td>\n",
              "      <td>mata</td>\n",
              "      <td>1001</td>\n",
              "      <td>Kedua kelompok saling berhadapan dengan seluruh tubuh kecuali mata diselimuti sarung.</td>\n",
              "      <td>[(Kedua, CD), (kelompok, NN), (saling, RB), (berhadapan, VB), (dengan, IN), (seluruh, CD), (tubuh, NN), (kecuali, NN), (mata, NN), (diselimuti, VB), (sarung., NNP)]</td>\n",
              "      <td>kelompok hadap tubuh kecuali limut sarung</td>\n",
              "      <td>[(kelompok, NN), (hadap, IN), (tubuh, NN), (kecuali, RB), (limut, VB), (sarung, VB)]</td>\n",
              "    </tr>\n",
              "    <tr>\n",
              "      <th>3</th>\n",
              "      <td>942601</td>\n",
              "      <td>mata</td>\n",
              "      <td>1001</td>\n",
              "      <td>Namun, beberapa jam kemudian, seperti siklus penggantian dinding mata berakhir, Bopha naik menjadi topan kategori 4, sedangkan mata menjadi terdefinisikan dengan baik lagi.</td>\n",
              "      <td>[(Namun,, NNP), (beberapa, CD), (jam, NN), (kemudian,, NN), (seperti, IN), (siklus, NN), (penggantian, NN), (dinding, NN), (mata, NN), (berakhir,, NNP), (Bopha, NNP), (naik, VB), (menjadi, VB), (t...</td>\n",
              "      <td>jam siklus ganti dinding bopha topan kategori 4 definisi</td>\n",
              "      <td>[(jam, NN), (siklus, NN), (ganti, NN), (dinding, NN), (bopha, NN), (topan, NN), (kategori, NN), (4, CD), (definisi, NN)]</td>\n",
              "    </tr>\n",
              "    <tr>\n",
              "      <th>4</th>\n",
              "      <td>942687</td>\n",
              "      <td>mata</td>\n",
              "      <td>1006</td>\n",
              "      <td>Walaupun pada setiap abad banyak komet berperiode panjang yang muncul dengan lebih terang dan dahsyat, Halley adalah satu-satunya komet dengan periode pendek yang dapat dilihat dengan mata telanja...</td>\n",
              "      <td>[(Walaupun, SC), (pada, IN), (setiap, CD), (abad, NN), (banyak, CD), (komet, NN), (berperiode, NN), (panjang, JJ), (yang, SC), (muncul, VB), (dengan, IN), (lebih, RB), (terang, VB), (dan, CC), (da...</td>\n",
              "      <td>abad komet periode muncul terang dahsyat halley satu komet periode pendek telanjang rentang umur manusia</td>\n",
              "      <td>[(abad, NN), (komet, NN), (periode, NN), (muncul, VB), (terang, NN), (dahsyat, NN), (halley, FW), (satu, CD), (komet, NN), (periode, NN), (pendek, NN), (telanjang, NN), (rentang, NN), (umur, NN), ...</td>\n",
              "    </tr>\n",
              "    <tr>\n",
              "      <th>...</th>\n",
              "      <td>...</td>\n",
              "      <td>...</td>\n",
              "      <td>...</td>\n",
              "      <td>...</td>\n",
              "      <td>...</td>\n",
              "      <td>...</td>\n",
              "      <td>...</td>\n",
              "    </tr>\n",
              "    <tr>\n",
              "      <th>117</th>\n",
              "      <td>952171</td>\n",
              "      <td>mata</td>\n",
              "      <td>1001</td>\n",
              "      <td>Hal ini dikarenakan televisi hologram menggunakan lensa lentikular yang menyebabkan tampilan berbeda pada mata kanan dan kiri.</td>\n",
              "      <td>[(Hal, NN), (ini, PR), (dikarenakan, VB), (televisi, NN), (hologram, NN), (menggunakan, VB), (lensa, NN), (lentikular, NN), (yang, SC), (menyebabkan, VB), (tampilan, NN), (berbeda, VB), (pada, IN)...</td>\n",
              "      <td>televisi hologram lensa lentikular sebab tampil beda kanan kiri</td>\n",
              "      <td>[(televisi, NN), (hologram, NN), (lensa, NN), (lentikular, NN), (sebab, SC), (tampil, JJ), (beda, VB), (kanan, NN), (kiri, NN)]</td>\n",
              "    </tr>\n",
              "    <tr>\n",
              "      <th>118</th>\n",
              "      <td>952202</td>\n",
              "      <td>mata</td>\n",
              "      <td>1006</td>\n",
              "      <td>Para saksi mata yang selamat melaporkan bahwa ia bekerja dengan rajin sampai kematiannya, dan tampak masih hidup di air setelah kapal tenggelam.</td>\n",
              "      <td>[(Para, DT), (saksi, NN), (mata, NN), (yang, SC), (selamat, JJ), (melaporkan, VB), (bahwa, SC), (ia, PRP), (bekerja, VB), (dengan, IN), (rajin, NN), (sampai, IN), (kematiannya,, NN), (dan, CC), (t...</td>\n",
              "      <td>saksi selamat lapor rajin mati hidup air kapal tenggelam</td>\n",
              "      <td>[(saksi, NN), (selamat, JJ), (lapor, NN), (rajin, NN), (mati, VB), (hidup, NN), (air, NN), (kapal, NN), (tenggelam, VB)]</td>\n",
              "    </tr>\n",
              "    <tr>\n",
              "      <th>119</th>\n",
              "      <td>952350</td>\n",
              "      <td>mata</td>\n",
              "      <td>1003</td>\n",
              "      <td>Harga uang menjadi seperlima dari mata uang terbaru.</td>\n",
              "      <td>[(Harga, NN), (uang, NN), (menjadi, VB), (seperlima, CD), (dari, IN), (mata, NN), (uang, NN), (terbaru., NNP)]</td>\n",
              "      <td>harga uang lima uang baru</td>\n",
              "      <td>[(harga, NN), (uang, NN), (lima, CD), (uang, NN), (baru, JJ)]</td>\n",
              "    </tr>\n",
              "    <tr>\n",
              "      <th>120</th>\n",
              "      <td>952458</td>\n",
              "      <td>mata</td>\n",
              "      <td>1001</td>\n",
              "      <td>Dan jika Anda pergi keluar pada hari musim panas, dua aliran air akan mengalir seperti sungai tinta dari mata Anda, dan keringat mengalir dari pipi pada tenggorokan anda.</td>\n",
              "      <td>[(Dan, CC), (jika, SC), (Anda, PRP), (pergi, VB), (keluar, VB), (pada, IN), (hari, NN), (musim, NN), (panas,, NN), (dua, CD), (aliran, NN), (air, NN), (akan, MD), (mengalir, VB), (seperti, IN), (s...</td>\n",
              "      <td>pergi musim panas alir air alir sungai tinta keringat alir pipi tenggorok</td>\n",
              "      <td>[(pergi, VB), (musim, NN), (panas, JJ), (alir, NN), (air, NN), (alir, NN), (sungai, NN), (tinta, VB), (keringat, NN), (alir, NN), (pipi, NN), (tenggorok, VB)]</td>\n",
              "    </tr>\n",
              "    <tr>\n",
              "      <th>121</th>\n",
              "      <td>952520</td>\n",
              "      <td>mata</td>\n",
              "      <td>1001</td>\n",
              "      <td>Setelah cukup terkenal, ia mencoba menjadi wirausahawati dengan meluncurkan produk bulu mata palsu \"Harajuku Doll Eyelashes by Eyemazing x Kyary\" dan tampil di sejumlah peragaan busana.</td>\n",
              "      <td>[(Setelah, SC), (cukup, RB), (terkenal,, JJ), (ia, PRP), (mencoba, VB), (menjadi, VB), (wirausahawati, VB), (dengan, SC), (meluncurkan, VB), (produk, NN), (bulu, NN), (mata, NN), (palsu, NN), (\"Ha...</td>\n",
              "      <td>kenal coba wirausahawati luncur produk bulu palsu harajuku doll eyelashes by eyemazing kyary tampil aga busana</td>\n",
              "      <td>[(kenal, JJ), (coba, VB), (wirausahawati, VB), (luncur, NN), (produk, NN), (bulu, NN), (palsu, NN), (harajuku, NN), (doll, FW), (eyelashes, FW), (by, FW), (eyemazing, FW), (kyary, FW), (tampil, FW...</td>\n",
              "    </tr>\n",
              "  </tbody>\n",
              "</table>\n",
              "<p>122 rows × 7 columns</p>\n",
              "</div>"
            ],
            "text/plain": [
              "     kalimat_id  ...                                                                                                                                                                                                 pos_stem\n",
              "0        942397  ...                                                       [(hadap, IN), (raksasa, NN), (kiklops, FW), (suruh, FW), (poseidon, FW), (bunuh, VB), (odisseus, NN), (siapa, SC), (sangkal, VB), (identitas, NN)]\n",
              "1        942485  ...            [(desa, NN), (sukamakmur, NN), (notabene, NN), (ibukota, NN), (camat, NN), (sukamakmur, NN), (cahari, NN), (warga, NN), (masyarakat, NN), (bidang, NN), (tani, VB), (dagang, NN), (jasa, NN)]\n",
              "2        942577  ...                                                                                                                     [(kelompok, NN), (hadap, IN), (tubuh, NN), (kecuali, RB), (limut, VB), (sarung, VB)]\n",
              "3        942601  ...                                                                                 [(jam, NN), (siklus, NN), (ganti, NN), (dinding, NN), (bopha, NN), (topan, NN), (kategori, NN), (4, CD), (definisi, NN)]\n",
              "4        942687  ...  [(abad, NN), (komet, NN), (periode, NN), (muncul, VB), (terang, NN), (dahsyat, NN), (halley, FW), (satu, CD), (komet, NN), (periode, NN), (pendek, NN), (telanjang, NN), (rentang, NN), (umur, NN), ...\n",
              "..          ...  ...                                                                                                                                                                                                      ...\n",
              "117      952171  ...                                                                          [(televisi, NN), (hologram, NN), (lensa, NN), (lentikular, NN), (sebab, SC), (tampil, JJ), (beda, VB), (kanan, NN), (kiri, NN)]\n",
              "118      952202  ...                                                                                 [(saksi, NN), (selamat, JJ), (lapor, NN), (rajin, NN), (mati, VB), (hidup, NN), (air, NN), (kapal, NN), (tenggelam, VB)]\n",
              "119      952350  ...                                                                                                                                            [(harga, NN), (uang, NN), (lima, CD), (uang, NN), (baru, JJ)]\n",
              "120      952458  ...                                           [(pergi, VB), (musim, NN), (panas, JJ), (alir, NN), (air, NN), (alir, NN), (sungai, NN), (tinta, VB), (keringat, NN), (alir, NN), (pipi, NN), (tenggorok, VB)]\n",
              "121      952520  ...  [(kenal, JJ), (coba, VB), (wirausahawati, VB), (luncur, NN), (produk, NN), (bulu, NN), (palsu, NN), (harajuku, NN), (doll, FW), (eyelashes, FW), (by, FW), (eyemazing, FW), (kyary, FW), (tampil, FW...\n",
              "\n",
              "[122 rows x 7 columns]"
            ]
          },
          "metadata": {
            "tags": []
          },
          "execution_count": 128
        }
      ]
    },
    {
      "cell_type": "markdown",
      "metadata": {
        "id": "pQzfnBV4NlVI"
      },
      "source": [
        "## Test 2 dan 6 sense"
      ]
    },
    {
      "cell_type": "code",
      "metadata": {
        "id": "Bqlx8z_pLk56"
      },
      "source": [
        "x = df2_cut.iloc[:,5].values\n",
        "y = df2_cut.iloc[:,2].values"
      ],
      "execution_count": 129,
      "outputs": []
    },
    {
      "cell_type": "code",
      "metadata": {
        "colab": {
          "base_uri": "https://localhost:8080/"
        },
        "id": "-9zV528cMMea",
        "outputId": "ed01e7df-7885-44fb-dcf6-aaf2622f3cca"
      },
      "source": [
        "from sklearn.model_selection import train_test_split\n",
        "x_train,x_test,y_train,y_test = train_test_split(x,y,test_size=0.01,random_state=0)\n",
        "print(x_train.shape)\n",
        "print(x_test.shape)"
      ],
      "execution_count": 130,
      "outputs": [
        {
          "output_type": "stream",
          "text": [
            "(181,)\n",
            "(2,)\n"
          ],
          "name": "stdout"
        }
      ]
    },
    {
      "cell_type": "code",
      "metadata": {
        "id": "jJ2_k12OM6CZ"
      },
      "source": [
        "from sklearn.pipeline import Pipeline\n",
        "from sklearn.feature_extraction.text import TfidfVectorizer\n",
        "from sklearn.naive_bayes import MultinomialNB\n",
        "from sklearn.metrics import accuracy_score, confusion_matrix,classification_report"
      ],
      "execution_count": 131,
      "outputs": []
    },
    {
      "cell_type": "code",
      "metadata": {
        "id": "XgrXi1W6NDM3",
        "colab": {
          "base_uri": "https://localhost:8080/"
        },
        "outputId": "202f3f9b-ad46-448a-89c8-31a93a4e931f"
      },
      "source": [
        "text_model = Pipeline([('tfidf',TfidfVectorizer()),('model',MultinomialNB())])\n",
        "\n",
        "text_model.fit(x_train,y_train)"
      ],
      "execution_count": 132,
      "outputs": [
        {
          "output_type": "execute_result",
          "data": {
            "text/plain": [
              "Pipeline(memory=None,\n",
              "         steps=[('tfidf',\n",
              "                 TfidfVectorizer(analyzer='word', binary=False,\n",
              "                                 decode_error='strict',\n",
              "                                 dtype=<class 'numpy.float64'>,\n",
              "                                 encoding='utf-8', input='content',\n",
              "                                 lowercase=True, max_df=1.0, max_features=None,\n",
              "                                 min_df=1, ngram_range=(1, 1), norm='l2',\n",
              "                                 preprocessor=None, smooth_idf=True,\n",
              "                                 stop_words=None, strip_accents=None,\n",
              "                                 sublinear_tf=False,\n",
              "                                 token_pattern='(?u)\\\\b\\\\w\\\\w+\\\\b',\n",
              "                                 tokenizer=None, use_idf=True,\n",
              "                                 vocabulary=None)),\n",
              "                ('model',\n",
              "                 MultinomialNB(alpha=1.0, class_prior=None, fit_prior=True))],\n",
              "         verbose=False)"
            ]
          },
          "metadata": {
            "tags": []
          },
          "execution_count": 132
        }
      ]
    },
    {
      "cell_type": "code",
      "metadata": {
        "id": "px79rtCzNKUQ",
        "colab": {
          "base_uri": "https://localhost:8080/"
        },
        "outputId": "df40e481-3597-489d-b74c-6e7d4a358e54"
      },
      "source": [
        "y_pred = text_model.predict(x_test)\n",
        "y_pred"
      ],
      "execution_count": 133,
      "outputs": [
        {
          "output_type": "execute_result",
          "data": {
            "text/plain": [
              "array([5501, 5501])"
            ]
          },
          "metadata": {
            "tags": []
          },
          "execution_count": 133
        }
      ]
    },
    {
      "cell_type": "code",
      "metadata": {
        "id": "6XqXcZQtPn1e"
      },
      "source": [
        "test2_cut = test2.loc[test2['kata'] == 'lebat']\n",
        "test6_cut = test6.loc[test6['kata'] == 'mata']"
      ],
      "execution_count": 135,
      "outputs": []
    },
    {
      "cell_type": "code",
      "metadata": {
        "id": "cxEysBIROvuJ"
      },
      "source": [
        "t2t = test2_cut.values.tolist()\n",
        "for x in t2t:\n",
        "  z = ct.tag_sents([x[3].split(' ')])\n",
        "  x.append(z[0])\n",
        "  kalimat = x[3].translate(str.maketrans('','',PUNCT_TO_REMOVE)).lower()\n",
        "  stop = stopword.remove(kalimat)\n",
        "  tokens = nltk.tokenize.word_tokenize(stop)\n",
        "  x.append(stemmer.stem(listToString(tokens)))\n",
        "\n",
        "t6t = test6_cut.values.tolist()\n",
        "for x in t6t:\n",
        "  z = ct.tag_sents([x[3].split(' ')])\n",
        "  x.append(z[0])\n",
        "  kalimat = x[3].translate(str.maketrans('','',PUNCT_TO_REMOVE)).lower()\n",
        "  stop = stopword.remove(kalimat)\n",
        "  tokens = nltk.tokenize.word_tokenize(stop)\n",
        "  x.append(stemmer.stem(listToString(tokens)))"
      ],
      "execution_count": 136,
      "outputs": []
    },
    {
      "cell_type": "code",
      "metadata": {
        "id": "96Om4QW1QFDx"
      },
      "source": [
        "for x in t2t:\n",
        "  z = ct.tag_sents([x[6].split(' ')])\n",
        "  x.append(z[0])\n",
        "\n",
        "for x in t6t:\n",
        "  z = ct.tag_sents([x[6].split(' ')])\n",
        "  x.append(z[0])"
      ],
      "execution_count": 137,
      "outputs": []
    },
    {
      "cell_type": "code",
      "metadata": {
        "id": "YzSR_COSTRck"
      },
      "source": [
        "test_lst =[]\n",
        "for x in t2t:\n",
        "  test_lst.append(x[6])"
      ],
      "execution_count": 138,
      "outputs": []
    },
    {
      "cell_type": "code",
      "metadata": {
        "id": "A6Y_OtSVNjtX",
        "colab": {
          "base_uri": "https://localhost:8080/"
        },
        "outputId": "e7c6e258-33a1-48d6-f778-b0004c9a64c7"
      },
      "source": [
        "test2_pred = text_model.predict(test_lst)\n",
        "test2_pred"
      ],
      "execution_count": 139,
      "outputs": [
        {
          "output_type": "execute_result",
          "data": {
            "text/plain": [
              "array([5501, 5501, 5501, 5501, 5502, 5501, 5501, 5501, 5501, 5501, 5501,\n",
              "       5501, 5502, 5501, 5502, 5501, 5501, 5501, 5502, 5501, 5502, 5501,\n",
              "       5501])"
            ]
          },
          "metadata": {
            "tags": []
          },
          "execution_count": 139
        }
      ]
    },
    {
      "cell_type": "markdown",
      "metadata": {
        "id": "fCYwuy3FUE8K"
      },
      "source": [
        "## Compare test 2 sense"
      ]
    },
    {
      "cell_type": "code",
      "metadata": {
        "id": "3YVtB27tUmId",
        "colab": {
          "base_uri": "https://localhost:8080/",
          "height": 754
        },
        "outputId": "454fb0a3-13ed-400a-bb03-687f8e0b9892"
      },
      "source": [
        "fin2 = test2_cut[[\"kata\", \"sense\", \"id\"]]\n",
        "fin2['Prediction'] = test2_pred\n",
        "fin2"
      ],
      "execution_count": 140,
      "outputs": [
        {
          "output_type": "execute_result",
          "data": {
            "text/html": [
              "<div>\n",
              "<style scoped>\n",
              "    .dataframe tbody tr th:only-of-type {\n",
              "        vertical-align: middle;\n",
              "    }\n",
              "\n",
              "    .dataframe tbody tr th {\n",
              "        vertical-align: top;\n",
              "    }\n",
              "\n",
              "    .dataframe thead th {\n",
              "        text-align: right;\n",
              "    }\n",
              "</style>\n",
              "<table border=\"1\" class=\"dataframe\">\n",
              "  <thead>\n",
              "    <tr style=\"text-align: right;\">\n",
              "      <th></th>\n",
              "      <th>kata</th>\n",
              "      <th>sense</th>\n",
              "      <th>id</th>\n",
              "      <th>Prediction</th>\n",
              "    </tr>\n",
              "  </thead>\n",
              "  <tbody>\n",
              "    <tr>\n",
              "      <th>152</th>\n",
              "      <td>lebat</td>\n",
              "      <td>5501</td>\n",
              "      <td>932115.0</td>\n",
              "      <td>5501</td>\n",
              "    </tr>\n",
              "    <tr>\n",
              "      <th>153</th>\n",
              "      <td>lebat</td>\n",
              "      <td>5501</td>\n",
              "      <td>932135.0</td>\n",
              "      <td>5501</td>\n",
              "    </tr>\n",
              "    <tr>\n",
              "      <th>154</th>\n",
              "      <td>lebat</td>\n",
              "      <td>5502</td>\n",
              "      <td>932157.0</td>\n",
              "      <td>5501</td>\n",
              "    </tr>\n",
              "    <tr>\n",
              "      <th>155</th>\n",
              "      <td>lebat</td>\n",
              "      <td>5501</td>\n",
              "      <td>932158.0</td>\n",
              "      <td>5501</td>\n",
              "    </tr>\n",
              "    <tr>\n",
              "      <th>156</th>\n",
              "      <td>lebat</td>\n",
              "      <td>5502</td>\n",
              "      <td>932175.0</td>\n",
              "      <td>5502</td>\n",
              "    </tr>\n",
              "    <tr>\n",
              "      <th>157</th>\n",
              "      <td>lebat</td>\n",
              "      <td>5501</td>\n",
              "      <td>932185.0</td>\n",
              "      <td>5501</td>\n",
              "    </tr>\n",
              "    <tr>\n",
              "      <th>158</th>\n",
              "      <td>lebat</td>\n",
              "      <td>5501</td>\n",
              "      <td>932207.0</td>\n",
              "      <td>5501</td>\n",
              "    </tr>\n",
              "    <tr>\n",
              "      <th>159</th>\n",
              "      <td>lebat</td>\n",
              "      <td>5501</td>\n",
              "      <td>932229.0</td>\n",
              "      <td>5501</td>\n",
              "    </tr>\n",
              "    <tr>\n",
              "      <th>160</th>\n",
              "      <td>lebat</td>\n",
              "      <td>5501</td>\n",
              "      <td>932270.0</td>\n",
              "      <td>5501</td>\n",
              "    </tr>\n",
              "    <tr>\n",
              "      <th>161</th>\n",
              "      <td>lebat</td>\n",
              "      <td>5501</td>\n",
              "      <td>932271.0</td>\n",
              "      <td>5501</td>\n",
              "    </tr>\n",
              "    <tr>\n",
              "      <th>162</th>\n",
              "      <td>lebat</td>\n",
              "      <td>5501</td>\n",
              "      <td>932305.0</td>\n",
              "      <td>5501</td>\n",
              "    </tr>\n",
              "    <tr>\n",
              "      <th>163</th>\n",
              "      <td>lebat</td>\n",
              "      <td>5501</td>\n",
              "      <td>932308.0</td>\n",
              "      <td>5501</td>\n",
              "    </tr>\n",
              "    <tr>\n",
              "      <th>164</th>\n",
              "      <td>lebat</td>\n",
              "      <td>5502</td>\n",
              "      <td>932313.0</td>\n",
              "      <td>5502</td>\n",
              "    </tr>\n",
              "    <tr>\n",
              "      <th>165</th>\n",
              "      <td>lebat</td>\n",
              "      <td>5502</td>\n",
              "      <td>932354.0</td>\n",
              "      <td>5501</td>\n",
              "    </tr>\n",
              "    <tr>\n",
              "      <th>166</th>\n",
              "      <td>lebat</td>\n",
              "      <td>5502</td>\n",
              "      <td>932361.0</td>\n",
              "      <td>5502</td>\n",
              "    </tr>\n",
              "    <tr>\n",
              "      <th>167</th>\n",
              "      <td>lebat</td>\n",
              "      <td>5501</td>\n",
              "      <td>932362.0</td>\n",
              "      <td>5501</td>\n",
              "    </tr>\n",
              "    <tr>\n",
              "      <th>168</th>\n",
              "      <td>lebat</td>\n",
              "      <td>5501</td>\n",
              "      <td>932390.0</td>\n",
              "      <td>5501</td>\n",
              "    </tr>\n",
              "    <tr>\n",
              "      <th>169</th>\n",
              "      <td>lebat</td>\n",
              "      <td>5501</td>\n",
              "      <td>932396.0</td>\n",
              "      <td>5501</td>\n",
              "    </tr>\n",
              "    <tr>\n",
              "      <th>170</th>\n",
              "      <td>lebat</td>\n",
              "      <td>5502</td>\n",
              "      <td>932431.0</td>\n",
              "      <td>5502</td>\n",
              "    </tr>\n",
              "    <tr>\n",
              "      <th>171</th>\n",
              "      <td>lebat</td>\n",
              "      <td>5501</td>\n",
              "      <td>932442.0</td>\n",
              "      <td>5501</td>\n",
              "    </tr>\n",
              "    <tr>\n",
              "      <th>172</th>\n",
              "      <td>lebat</td>\n",
              "      <td>5502</td>\n",
              "      <td>932454.0</td>\n",
              "      <td>5502</td>\n",
              "    </tr>\n",
              "    <tr>\n",
              "      <th>173</th>\n",
              "      <td>lebat</td>\n",
              "      <td>5501</td>\n",
              "      <td>932507.0</td>\n",
              "      <td>5501</td>\n",
              "    </tr>\n",
              "    <tr>\n",
              "      <th>174</th>\n",
              "      <td>lebat</td>\n",
              "      <td>5501</td>\n",
              "      <td>932514.0</td>\n",
              "      <td>5501</td>\n",
              "    </tr>\n",
              "  </tbody>\n",
              "</table>\n",
              "</div>"
            ],
            "text/plain": [
              "      kata  sense        id  Prediction\n",
              "152  lebat   5501  932115.0        5501\n",
              "153  lebat   5501  932135.0        5501\n",
              "154  lebat   5502  932157.0        5501\n",
              "155  lebat   5501  932158.0        5501\n",
              "156  lebat   5502  932175.0        5502\n",
              "157  lebat   5501  932185.0        5501\n",
              "158  lebat   5501  932207.0        5501\n",
              "159  lebat   5501  932229.0        5501\n",
              "160  lebat   5501  932270.0        5501\n",
              "161  lebat   5501  932271.0        5501\n",
              "162  lebat   5501  932305.0        5501\n",
              "163  lebat   5501  932308.0        5501\n",
              "164  lebat   5502  932313.0        5502\n",
              "165  lebat   5502  932354.0        5501\n",
              "166  lebat   5502  932361.0        5502\n",
              "167  lebat   5501  932362.0        5501\n",
              "168  lebat   5501  932390.0        5501\n",
              "169  lebat   5501  932396.0        5501\n",
              "170  lebat   5502  932431.0        5502\n",
              "171  lebat   5501  932442.0        5501\n",
              "172  lebat   5502  932454.0        5502\n",
              "173  lebat   5501  932507.0        5501\n",
              "174  lebat   5501  932514.0        5501"
            ]
          },
          "metadata": {
            "tags": []
          },
          "execution_count": 140
        }
      ]
    },
    {
      "cell_type": "code",
      "metadata": {
        "id": "-82bn7Dhcg3p",
        "colab": {
          "base_uri": "https://localhost:8080/"
        },
        "outputId": "41724cd4-3020-4b99-b249-306452531356"
      },
      "source": [
        "y2 = fin2['sense'].values.tolist()\n",
        "accuracy_score(test2_pred, y2)*100"
      ],
      "execution_count": 141,
      "outputs": [
        {
          "output_type": "execute_result",
          "data": {
            "text/plain": [
              "91.30434782608695"
            ]
          },
          "metadata": {
            "tags": []
          },
          "execution_count": 141
        }
      ]
    },
    {
      "cell_type": "code",
      "metadata": {
        "id": "pXn_8IlKclCp",
        "colab": {
          "base_uri": "https://localhost:8080/"
        },
        "outputId": "15ebcfa6-cf9d-43a0-afdc-bab5ca779df6"
      },
      "source": [
        "print(classification_report(test2_pred,y2))"
      ],
      "execution_count": 142,
      "outputs": [
        {
          "output_type": "stream",
          "text": [
            "              precision    recall  f1-score   support\n",
            "\n",
            "        5501       1.00      0.89      0.94        18\n",
            "        5502       0.71      1.00      0.83         5\n",
            "\n",
            "    accuracy                           0.91        23\n",
            "   macro avg       0.86      0.94      0.89        23\n",
            "weighted avg       0.94      0.91      0.92        23\n",
            "\n"
          ],
          "name": "stdout"
        }
      ]
    },
    {
      "cell_type": "markdown",
      "metadata": {
        "id": "L4fnE_2xXxA2"
      },
      "source": [
        "## Compare test 6 sense"
      ]
    },
    {
      "cell_type": "code",
      "metadata": {
        "id": "gQhS7iA0Xgd4"
      },
      "source": [
        "x = df6_cut.iloc[:,5].values\n",
        "y = df6_cut.iloc[:,2].values"
      ],
      "execution_count": 164,
      "outputs": []
    },
    {
      "cell_type": "code",
      "metadata": {
        "id": "Y_HecNm5YCkW",
        "colab": {
          "base_uri": "https://localhost:8080/"
        },
        "outputId": "e67bfbf6-43d2-44b0-91ab-e4feeacfb4e8"
      },
      "source": [
        "from sklearn.model_selection import train_test_split\n",
        "x_train,x_test,y_train,y_test = train_test_split(x,y,test_size=0.01,random_state=0)\n",
        "print(x_train.shape)\n",
        "print(x_test.shape)"
      ],
      "execution_count": 165,
      "outputs": [
        {
          "output_type": "stream",
          "text": [
            "(120,)\n",
            "(2,)\n"
          ],
          "name": "stdout"
        }
      ]
    },
    {
      "cell_type": "code",
      "metadata": {
        "id": "agkuWMgRYJGQ",
        "colab": {
          "base_uri": "https://localhost:8080/"
        },
        "outputId": "2774595d-8a8c-4422-e731-b3c86d4c9f72"
      },
      "source": [
        "text_model = Pipeline([('tfidf',TfidfVectorizer()),('model',MultinomialNB())])\n",
        "\n",
        "text_model.fit(x_train,y_train)"
      ],
      "execution_count": 166,
      "outputs": [
        {
          "output_type": "execute_result",
          "data": {
            "text/plain": [
              "Pipeline(memory=None,\n",
              "         steps=[('tfidf',\n",
              "                 TfidfVectorizer(analyzer='word', binary=False,\n",
              "                                 decode_error='strict',\n",
              "                                 dtype=<class 'numpy.float64'>,\n",
              "                                 encoding='utf-8', input='content',\n",
              "                                 lowercase=True, max_df=1.0, max_features=None,\n",
              "                                 min_df=1, ngram_range=(1, 1), norm='l2',\n",
              "                                 preprocessor=None, smooth_idf=True,\n",
              "                                 stop_words=None, strip_accents=None,\n",
              "                                 sublinear_tf=False,\n",
              "                                 token_pattern='(?u)\\\\b\\\\w\\\\w+\\\\b',\n",
              "                                 tokenizer=None, use_idf=True,\n",
              "                                 vocabulary=None)),\n",
              "                ('model',\n",
              "                 MultinomialNB(alpha=1.0, class_prior=None, fit_prior=True))],\n",
              "         verbose=False)"
            ]
          },
          "metadata": {
            "tags": []
          },
          "execution_count": 166
        }
      ]
    },
    {
      "cell_type": "code",
      "metadata": {
        "id": "jdRN7wqjYKjy",
        "colab": {
          "base_uri": "https://localhost:8080/"
        },
        "outputId": "5132f908-4966-4c8b-abe6-5292b74e7c7f"
      },
      "source": [
        "y_pred = text_model.predict(x_test)\n",
        "y_pred"
      ],
      "execution_count": 167,
      "outputs": [
        {
          "output_type": "execute_result",
          "data": {
            "text/plain": [
              "array([1001, 1001])"
            ]
          },
          "metadata": {
            "tags": []
          },
          "execution_count": 167
        }
      ]
    },
    {
      "cell_type": "code",
      "metadata": {
        "id": "sPLElEJQY0DI"
      },
      "source": [
        "test_lst6 =[]\n",
        "for x in t6t:\n",
        "  test_lst6.append(x[6])"
      ],
      "execution_count": 168,
      "outputs": []
    },
    {
      "cell_type": "code",
      "metadata": {
        "id": "AQIe1Q7iaWMu",
        "colab": {
          "base_uri": "https://localhost:8080/"
        },
        "outputId": "e435e62e-892b-4ebb-e422-07cc98615498"
      },
      "source": [
        "test6_pred = text_model.predict(test_lst6)\n",
        "test6_pred"
      ],
      "execution_count": 169,
      "outputs": [
        {
          "output_type": "execute_result",
          "data": {
            "text/plain": [
              "array([1002, 1001, 1001, 1001, 1003, 1003, 1001, 1001, 1003, 1002, 1001,\n",
              "       1002, 1001, 1001, 1001, 1002, 1003, 1003, 1001, 1003, 1001, 1002,\n",
              "       1003, 1001, 1001, 1001, 1001, 1001, 1003, 1001, 1001, 1001, 1001,\n",
              "       1003, 1001, 1001, 1001, 1001, 1001, 1001, 1001, 1003, 1003, 1003,\n",
              "       1003, 1002, 1001, 1001, 1003])"
            ]
          },
          "metadata": {
            "tags": []
          },
          "execution_count": 169
        }
      ]
    },
    {
      "cell_type": "code",
      "metadata": {
        "id": "jYe5PWWOawXG",
        "colab": {
          "base_uri": "https://localhost:8080/",
          "height": 1000
        },
        "outputId": "2a910406-cb3c-49fd-d86f-362e14635fc2"
      },
      "source": [
        "fin6 = test6_cut[[\"kata\", \"sense\", \"id\"]]\n",
        "fin6['Prediction'] = test6_pred\n",
        "fin6"
      ],
      "execution_count": 170,
      "outputs": [
        {
          "output_type": "execute_result",
          "data": {
            "text/html": [
              "<div>\n",
              "<style scoped>\n",
              "    .dataframe tbody tr th:only-of-type {\n",
              "        vertical-align: middle;\n",
              "    }\n",
              "\n",
              "    .dataframe tbody tr th {\n",
              "        vertical-align: top;\n",
              "    }\n",
              "\n",
              "    .dataframe thead th {\n",
              "        text-align: right;\n",
              "    }\n",
              "</style>\n",
              "<table border=\"1\" class=\"dataframe\">\n",
              "  <thead>\n",
              "    <tr style=\"text-align: right;\">\n",
              "      <th></th>\n",
              "      <th>kata</th>\n",
              "      <th>sense</th>\n",
              "      <th>id</th>\n",
              "      <th>Prediction</th>\n",
              "    </tr>\n",
              "  </thead>\n",
              "  <tbody>\n",
              "    <tr>\n",
              "      <th>0</th>\n",
              "      <td>mata</td>\n",
              "      <td>1002</td>\n",
              "      <td>942488.0</td>\n",
              "      <td>1002</td>\n",
              "    </tr>\n",
              "    <tr>\n",
              "      <th>1</th>\n",
              "      <td>mata</td>\n",
              "      <td>1001</td>\n",
              "      <td>942611.0</td>\n",
              "      <td>1001</td>\n",
              "    </tr>\n",
              "    <tr>\n",
              "      <th>2</th>\n",
              "      <td>mata</td>\n",
              "      <td>1001</td>\n",
              "      <td>942855.0</td>\n",
              "      <td>1001</td>\n",
              "    </tr>\n",
              "    <tr>\n",
              "      <th>3</th>\n",
              "      <td>mata</td>\n",
              "      <td>1003</td>\n",
              "      <td>943476.0</td>\n",
              "      <td>1001</td>\n",
              "    </tr>\n",
              "    <tr>\n",
              "      <th>4</th>\n",
              "      <td>mata</td>\n",
              "      <td>1003</td>\n",
              "      <td>943610.0</td>\n",
              "      <td>1003</td>\n",
              "    </tr>\n",
              "    <tr>\n",
              "      <th>5</th>\n",
              "      <td>mata</td>\n",
              "      <td>1003</td>\n",
              "      <td>943957.0</td>\n",
              "      <td>1003</td>\n",
              "    </tr>\n",
              "    <tr>\n",
              "      <th>6</th>\n",
              "      <td>mata</td>\n",
              "      <td>1003</td>\n",
              "      <td>944153.0</td>\n",
              "      <td>1001</td>\n",
              "    </tr>\n",
              "    <tr>\n",
              "      <th>7</th>\n",
              "      <td>mata</td>\n",
              "      <td>1001</td>\n",
              "      <td>944188.0</td>\n",
              "      <td>1001</td>\n",
              "    </tr>\n",
              "    <tr>\n",
              "      <th>8</th>\n",
              "      <td>mata</td>\n",
              "      <td>1003</td>\n",
              "      <td>944512.0</td>\n",
              "      <td>1003</td>\n",
              "    </tr>\n",
              "    <tr>\n",
              "      <th>9</th>\n",
              "      <td>mata</td>\n",
              "      <td>1002</td>\n",
              "      <td>945056.0</td>\n",
              "      <td>1002</td>\n",
              "    </tr>\n",
              "    <tr>\n",
              "      <th>10</th>\n",
              "      <td>mata</td>\n",
              "      <td>1001</td>\n",
              "      <td>945156.0</td>\n",
              "      <td>1001</td>\n",
              "    </tr>\n",
              "    <tr>\n",
              "      <th>11</th>\n",
              "      <td>mata</td>\n",
              "      <td>1002</td>\n",
              "      <td>945431.0</td>\n",
              "      <td>1002</td>\n",
              "    </tr>\n",
              "    <tr>\n",
              "      <th>12</th>\n",
              "      <td>mata</td>\n",
              "      <td>1001</td>\n",
              "      <td>945548.0</td>\n",
              "      <td>1001</td>\n",
              "    </tr>\n",
              "    <tr>\n",
              "      <th>13</th>\n",
              "      <td>mata</td>\n",
              "      <td>1001</td>\n",
              "      <td>945603.0</td>\n",
              "      <td>1001</td>\n",
              "    </tr>\n",
              "    <tr>\n",
              "      <th>14</th>\n",
              "      <td>mata</td>\n",
              "      <td>1006</td>\n",
              "      <td>945671.0</td>\n",
              "      <td>1001</td>\n",
              "    </tr>\n",
              "    <tr>\n",
              "      <th>15</th>\n",
              "      <td>mata</td>\n",
              "      <td>1002</td>\n",
              "      <td>945707.0</td>\n",
              "      <td>1002</td>\n",
              "    </tr>\n",
              "    <tr>\n",
              "      <th>16</th>\n",
              "      <td>mata</td>\n",
              "      <td>1003</td>\n",
              "      <td>945882.0</td>\n",
              "      <td>1003</td>\n",
              "    </tr>\n",
              "    <tr>\n",
              "      <th>17</th>\n",
              "      <td>mata</td>\n",
              "      <td>1003</td>\n",
              "      <td>946074.0</td>\n",
              "      <td>1003</td>\n",
              "    </tr>\n",
              "    <tr>\n",
              "      <th>18</th>\n",
              "      <td>mata</td>\n",
              "      <td>1001</td>\n",
              "      <td>946155.0</td>\n",
              "      <td>1001</td>\n",
              "    </tr>\n",
              "    <tr>\n",
              "      <th>19</th>\n",
              "      <td>mata</td>\n",
              "      <td>1003</td>\n",
              "      <td>946355.0</td>\n",
              "      <td>1003</td>\n",
              "    </tr>\n",
              "    <tr>\n",
              "      <th>20</th>\n",
              "      <td>mata</td>\n",
              "      <td>1001</td>\n",
              "      <td>946410.0</td>\n",
              "      <td>1001</td>\n",
              "    </tr>\n",
              "    <tr>\n",
              "      <th>21</th>\n",
              "      <td>mata</td>\n",
              "      <td>1002</td>\n",
              "      <td>946485.0</td>\n",
              "      <td>1002</td>\n",
              "    </tr>\n",
              "    <tr>\n",
              "      <th>22</th>\n",
              "      <td>mata</td>\n",
              "      <td>1003</td>\n",
              "      <td>946534.0</td>\n",
              "      <td>1003</td>\n",
              "    </tr>\n",
              "    <tr>\n",
              "      <th>23</th>\n",
              "      <td>mata</td>\n",
              "      <td>1006</td>\n",
              "      <td>946550.0</td>\n",
              "      <td>1001</td>\n",
              "    </tr>\n",
              "    <tr>\n",
              "      <th>24</th>\n",
              "      <td>mata</td>\n",
              "      <td>1001</td>\n",
              "      <td>946842.0</td>\n",
              "      <td>1001</td>\n",
              "    </tr>\n",
              "    <tr>\n",
              "      <th>25</th>\n",
              "      <td>mata</td>\n",
              "      <td>1001</td>\n",
              "      <td>946849.0</td>\n",
              "      <td>1001</td>\n",
              "    </tr>\n",
              "    <tr>\n",
              "      <th>26</th>\n",
              "      <td>mata</td>\n",
              "      <td>1006</td>\n",
              "      <td>946999.0</td>\n",
              "      <td>1001</td>\n",
              "    </tr>\n",
              "    <tr>\n",
              "      <th>27</th>\n",
              "      <td>mata</td>\n",
              "      <td>1006</td>\n",
              "      <td>947167.0</td>\n",
              "      <td>1001</td>\n",
              "    </tr>\n",
              "    <tr>\n",
              "      <th>28</th>\n",
              "      <td>mata</td>\n",
              "      <td>1003</td>\n",
              "      <td>947385.0</td>\n",
              "      <td>1003</td>\n",
              "    </tr>\n",
              "    <tr>\n",
              "      <th>29</th>\n",
              "      <td>mata</td>\n",
              "      <td>1001</td>\n",
              "      <td>947808.0</td>\n",
              "      <td>1001</td>\n",
              "    </tr>\n",
              "    <tr>\n",
              "      <th>30</th>\n",
              "      <td>mata</td>\n",
              "      <td>1006</td>\n",
              "      <td>947831.0</td>\n",
              "      <td>1001</td>\n",
              "    </tr>\n",
              "    <tr>\n",
              "      <th>31</th>\n",
              "      <td>mata</td>\n",
              "      <td>1004</td>\n",
              "      <td>947868.0</td>\n",
              "      <td>1001</td>\n",
              "    </tr>\n",
              "    <tr>\n",
              "      <th>32</th>\n",
              "      <td>mata</td>\n",
              "      <td>1001</td>\n",
              "      <td>947933.0</td>\n",
              "      <td>1001</td>\n",
              "    </tr>\n",
              "    <tr>\n",
              "      <th>33</th>\n",
              "      <td>mata</td>\n",
              "      <td>1003</td>\n",
              "      <td>948240.0</td>\n",
              "      <td>1003</td>\n",
              "    </tr>\n",
              "    <tr>\n",
              "      <th>34</th>\n",
              "      <td>mata</td>\n",
              "      <td>1001</td>\n",
              "      <td>948680.0</td>\n",
              "      <td>1001</td>\n",
              "    </tr>\n",
              "    <tr>\n",
              "      <th>35</th>\n",
              "      <td>mata</td>\n",
              "      <td>1005</td>\n",
              "      <td>948862.0</td>\n",
              "      <td>1001</td>\n",
              "    </tr>\n",
              "    <tr>\n",
              "      <th>36</th>\n",
              "      <td>mata</td>\n",
              "      <td>1004</td>\n",
              "      <td>948940.0</td>\n",
              "      <td>1001</td>\n",
              "    </tr>\n",
              "    <tr>\n",
              "      <th>37</th>\n",
              "      <td>mata</td>\n",
              "      <td>1001</td>\n",
              "      <td>949263.0</td>\n",
              "      <td>1001</td>\n",
              "    </tr>\n",
              "    <tr>\n",
              "      <th>38</th>\n",
              "      <td>mata</td>\n",
              "      <td>1006</td>\n",
              "      <td>949322.0</td>\n",
              "      <td>1001</td>\n",
              "    </tr>\n",
              "    <tr>\n",
              "      <th>39</th>\n",
              "      <td>mata</td>\n",
              "      <td>1001</td>\n",
              "      <td>949719.0</td>\n",
              "      <td>1001</td>\n",
              "    </tr>\n",
              "    <tr>\n",
              "      <th>40</th>\n",
              "      <td>mata</td>\n",
              "      <td>1006</td>\n",
              "      <td>949736.0</td>\n",
              "      <td>1001</td>\n",
              "    </tr>\n",
              "    <tr>\n",
              "      <th>41</th>\n",
              "      <td>mata</td>\n",
              "      <td>1003</td>\n",
              "      <td>949949.0</td>\n",
              "      <td>1003</td>\n",
              "    </tr>\n",
              "    <tr>\n",
              "      <th>42</th>\n",
              "      <td>mata</td>\n",
              "      <td>1003</td>\n",
              "      <td>950163.0</td>\n",
              "      <td>1003</td>\n",
              "    </tr>\n",
              "    <tr>\n",
              "      <th>43</th>\n",
              "      <td>mata</td>\n",
              "      <td>1003</td>\n",
              "      <td>950915.0</td>\n",
              "      <td>1003</td>\n",
              "    </tr>\n",
              "    <tr>\n",
              "      <th>44</th>\n",
              "      <td>mata</td>\n",
              "      <td>1003</td>\n",
              "      <td>951298.0</td>\n",
              "      <td>1003</td>\n",
              "    </tr>\n",
              "    <tr>\n",
              "      <th>45</th>\n",
              "      <td>mata</td>\n",
              "      <td>1002</td>\n",
              "      <td>951343.0</td>\n",
              "      <td>1002</td>\n",
              "    </tr>\n",
              "    <tr>\n",
              "      <th>46</th>\n",
              "      <td>mata</td>\n",
              "      <td>1001</td>\n",
              "      <td>951742.0</td>\n",
              "      <td>1001</td>\n",
              "    </tr>\n",
              "    <tr>\n",
              "      <th>47</th>\n",
              "      <td>mata</td>\n",
              "      <td>1006</td>\n",
              "      <td>951962.0</td>\n",
              "      <td>1001</td>\n",
              "    </tr>\n",
              "    <tr>\n",
              "      <th>48</th>\n",
              "      <td>mata</td>\n",
              "      <td>1003</td>\n",
              "      <td>952558.0</td>\n",
              "      <td>1003</td>\n",
              "    </tr>\n",
              "  </tbody>\n",
              "</table>\n",
              "</div>"
            ],
            "text/plain": [
              "    kata  sense        id  Prediction\n",
              "0   mata   1002  942488.0        1002\n",
              "1   mata   1001  942611.0        1001\n",
              "2   mata   1001  942855.0        1001\n",
              "3   mata   1003  943476.0        1001\n",
              "4   mata   1003  943610.0        1003\n",
              "5   mata   1003  943957.0        1003\n",
              "6   mata   1003  944153.0        1001\n",
              "7   mata   1001  944188.0        1001\n",
              "8   mata   1003  944512.0        1003\n",
              "9   mata   1002  945056.0        1002\n",
              "10  mata   1001  945156.0        1001\n",
              "11  mata   1002  945431.0        1002\n",
              "12  mata   1001  945548.0        1001\n",
              "13  mata   1001  945603.0        1001\n",
              "14  mata   1006  945671.0        1001\n",
              "15  mata   1002  945707.0        1002\n",
              "16  mata   1003  945882.0        1003\n",
              "17  mata   1003  946074.0        1003\n",
              "18  mata   1001  946155.0        1001\n",
              "19  mata   1003  946355.0        1003\n",
              "20  mata   1001  946410.0        1001\n",
              "21  mata   1002  946485.0        1002\n",
              "22  mata   1003  946534.0        1003\n",
              "23  mata   1006  946550.0        1001\n",
              "24  mata   1001  946842.0        1001\n",
              "25  mata   1001  946849.0        1001\n",
              "26  mata   1006  946999.0        1001\n",
              "27  mata   1006  947167.0        1001\n",
              "28  mata   1003  947385.0        1003\n",
              "29  mata   1001  947808.0        1001\n",
              "30  mata   1006  947831.0        1001\n",
              "31  mata   1004  947868.0        1001\n",
              "32  mata   1001  947933.0        1001\n",
              "33  mata   1003  948240.0        1003\n",
              "34  mata   1001  948680.0        1001\n",
              "35  mata   1005  948862.0        1001\n",
              "36  mata   1004  948940.0        1001\n",
              "37  mata   1001  949263.0        1001\n",
              "38  mata   1006  949322.0        1001\n",
              "39  mata   1001  949719.0        1001\n",
              "40  mata   1006  949736.0        1001\n",
              "41  mata   1003  949949.0        1003\n",
              "42  mata   1003  950163.0        1003\n",
              "43  mata   1003  950915.0        1003\n",
              "44  mata   1003  951298.0        1003\n",
              "45  mata   1002  951343.0        1002\n",
              "46  mata   1001  951742.0        1001\n",
              "47  mata   1006  951962.0        1001\n",
              "48  mata   1003  952558.0        1003"
            ]
          },
          "metadata": {
            "tags": []
          },
          "execution_count": 170
        }
      ]
    },
    {
      "cell_type": "code",
      "metadata": {
        "id": "OY2Uyyr1a_dl",
        "colab": {
          "base_uri": "https://localhost:8080/"
        },
        "outputId": "3b0c85a7-40ed-4081-dbc7-c1babfb97ca2"
      },
      "source": [
        "y6 = fin6['sense'].values.tolist()\n",
        "accuracy_score(test6_pred, y6)*100"
      ],
      "execution_count": 171,
      "outputs": [
        {
          "output_type": "execute_result",
          "data": {
            "text/plain": [
              "73.46938775510205"
            ]
          },
          "metadata": {
            "tags": []
          },
          "execution_count": 171
        }
      ]
    },
    {
      "cell_type": "code",
      "metadata": {
        "id": "q0bL85b0cH6d",
        "colab": {
          "base_uri": "https://localhost:8080/"
        },
        "outputId": "2cefc64a-266e-4e5b-deb9-6ce4252c5f2a"
      },
      "source": [
        "print(classification_report(test6_pred,y6))"
      ],
      "execution_count": 172,
      "outputs": [
        {
          "output_type": "stream",
          "text": [
            "              precision    recall  f1-score   support\n",
            "\n",
            "        1001       1.00      0.55      0.71        29\n",
            "        1002       1.00      1.00      1.00         6\n",
            "        1003       0.88      1.00      0.93        14\n",
            "        1004       0.00      0.00      0.00         0\n",
            "        1005       0.00      0.00      0.00         0\n",
            "        1006       0.00      0.00      0.00         0\n",
            "\n",
            "    accuracy                           0.73        49\n",
            "   macro avg       0.48      0.43      0.44        49\n",
            "weighted avg       0.96      0.73      0.81        49\n",
            "\n"
          ],
          "name": "stdout"
        }
      ]
    },
    {
      "cell_type": "markdown",
      "metadata": {
        "id": "Sjhysh5tetw7"
      },
      "source": [
        "## tidak menggunakan seluruh fitur (top 50)"
      ]
    },
    {
      "cell_type": "code",
      "metadata": {
        "id": "aqy9nPGQevTv"
      },
      "source": [
        "x = df2_cut.head(50).iloc[:,5].values\n",
        "y = df2_cut.head(50).iloc[:,2].values"
      ],
      "execution_count": 173,
      "outputs": []
    },
    {
      "cell_type": "code",
      "metadata": {
        "id": "9YssNNDHfXeK",
        "colab": {
          "base_uri": "https://localhost:8080/"
        },
        "outputId": "9a91d524-e2ef-40f7-f08c-02784d679744"
      },
      "source": [
        "from sklearn.model_selection import train_test_split\n",
        "x_train,x_test,y_train,y_test = train_test_split(x,y,test_size=0.01,random_state=0)\n",
        "print(x_train.shape)\n",
        "print(x_test.shape)"
      ],
      "execution_count": 174,
      "outputs": [
        {
          "output_type": "stream",
          "text": [
            "(49,)\n",
            "(1,)\n"
          ],
          "name": "stdout"
        }
      ]
    },
    {
      "cell_type": "code",
      "metadata": {
        "id": "EwiQ41oofcC6",
        "colab": {
          "base_uri": "https://localhost:8080/"
        },
        "outputId": "54ee9ede-8790-4d02-dead-4b23a984d523"
      },
      "source": [
        "text_model = Pipeline([('tfidf',TfidfVectorizer()),('model',MultinomialNB())])\n",
        "\n",
        "text_model.fit(x_train,y_train)"
      ],
      "execution_count": 175,
      "outputs": [
        {
          "output_type": "execute_result",
          "data": {
            "text/plain": [
              "Pipeline(memory=None,\n",
              "         steps=[('tfidf',\n",
              "                 TfidfVectorizer(analyzer='word', binary=False,\n",
              "                                 decode_error='strict',\n",
              "                                 dtype=<class 'numpy.float64'>,\n",
              "                                 encoding='utf-8', input='content',\n",
              "                                 lowercase=True, max_df=1.0, max_features=None,\n",
              "                                 min_df=1, ngram_range=(1, 1), norm='l2',\n",
              "                                 preprocessor=None, smooth_idf=True,\n",
              "                                 stop_words=None, strip_accents=None,\n",
              "                                 sublinear_tf=False,\n",
              "                                 token_pattern='(?u)\\\\b\\\\w\\\\w+\\\\b',\n",
              "                                 tokenizer=None, use_idf=True,\n",
              "                                 vocabulary=None)),\n",
              "                ('model',\n",
              "                 MultinomialNB(alpha=1.0, class_prior=None, fit_prior=True))],\n",
              "         verbose=False)"
            ]
          },
          "metadata": {
            "tags": []
          },
          "execution_count": 175
        }
      ]
    },
    {
      "cell_type": "code",
      "metadata": {
        "id": "1NBXCzwWfiRK",
        "colab": {
          "base_uri": "https://localhost:8080/"
        },
        "outputId": "53cc3c87-7bf3-44ca-d9c0-bc0434713a97"
      },
      "source": [
        "y_pred = text_model.predict(x_test)\n",
        "y_pred"
      ],
      "execution_count": 176,
      "outputs": [
        {
          "output_type": "execute_result",
          "data": {
            "text/plain": [
              "array([5501])"
            ]
          },
          "metadata": {
            "tags": []
          },
          "execution_count": 176
        }
      ]
    },
    {
      "cell_type": "code",
      "metadata": {
        "id": "agPQRyz8gPRC",
        "colab": {
          "base_uri": "https://localhost:8080/"
        },
        "outputId": "bf802bd1-d308-4098-a4c4-604c388266d2"
      },
      "source": [
        "test2_pred = text_model.predict(test_lst)\n",
        "test2_pred"
      ],
      "execution_count": 177,
      "outputs": [
        {
          "output_type": "execute_result",
          "data": {
            "text/plain": [
              "array([5501, 5501, 5501, 5501, 5501, 5501, 5501, 5501, 5501, 5501, 5501,\n",
              "       5501, 5501, 5501, 5501, 5501, 5501, 5501, 5501, 5501, 5501, 5501,\n",
              "       5501])"
            ]
          },
          "metadata": {
            "tags": []
          },
          "execution_count": 177
        }
      ]
    },
    {
      "cell_type": "code",
      "metadata": {
        "id": "K_WgiaxngfEA",
        "colab": {
          "base_uri": "https://localhost:8080/"
        },
        "outputId": "fb0375d7-47d5-4edc-c04d-ff4ffe5b0826"
      },
      "source": [
        "y2 = fin2['sense'].values.tolist()\n",
        "accuracy_score(test2_pred, y2)*100"
      ],
      "execution_count": 178,
      "outputs": [
        {
          "output_type": "execute_result",
          "data": {
            "text/plain": [
              "69.56521739130434"
            ]
          },
          "metadata": {
            "tags": []
          },
          "execution_count": 178
        }
      ]
    },
    {
      "cell_type": "code",
      "metadata": {
        "id": "NlRaW0VFgrcn",
        "colab": {
          "base_uri": "https://localhost:8080/"
        },
        "outputId": "f7637b77-186f-4bc1-b1ae-e6095a8f55df"
      },
      "source": [
        "print(classification_report(test2_pred,y2))"
      ],
      "execution_count": 179,
      "outputs": [
        {
          "output_type": "stream",
          "text": [
            "              precision    recall  f1-score   support\n",
            "\n",
            "        5501       1.00      0.70      0.82        23\n",
            "        5502       0.00      0.00      0.00         0\n",
            "\n",
            "    accuracy                           0.70        23\n",
            "   macro avg       0.50      0.35      0.41        23\n",
            "weighted avg       1.00      0.70      0.82        23\n",
            "\n"
          ],
          "name": "stdout"
        }
      ]
    },
    {
      "cell_type": "code",
      "metadata": {
        "id": "E8x-9QcDnsKN"
      },
      "source": [
        "x = df6_cut.head(50).iloc[:,5].values\n",
        "y = df6_cut.head(50).iloc[:,2].values"
      ],
      "execution_count": 180,
      "outputs": []
    },
    {
      "cell_type": "code",
      "metadata": {
        "colab": {
          "base_uri": "https://localhost:8080/"
        },
        "id": "kux5BGLWn0HJ",
        "outputId": "4d494251-e9ef-4561-8b65-10a850d839f9"
      },
      "source": [
        "from sklearn.model_selection import train_test_split\n",
        "x_train,x_test,y_train,y_test = train_test_split(x,y,test_size=0.01,random_state=0)\n",
        "print(x_train.shape)\n",
        "print(x_test.shape)"
      ],
      "execution_count": 181,
      "outputs": [
        {
          "output_type": "stream",
          "text": [
            "(49,)\n",
            "(1,)\n"
          ],
          "name": "stdout"
        }
      ]
    },
    {
      "cell_type": "code",
      "metadata": {
        "colab": {
          "base_uri": "https://localhost:8080/"
        },
        "id": "bpJZxNmXn2oc",
        "outputId": "b6dd5a92-bb31-44f9-f83a-676ab1e5d85b"
      },
      "source": [
        "text_model = Pipeline([('tfidf',TfidfVectorizer()),('model',MultinomialNB())])\n",
        "\n",
        "text_model.fit(x_train,y_train)"
      ],
      "execution_count": 182,
      "outputs": [
        {
          "output_type": "execute_result",
          "data": {
            "text/plain": [
              "Pipeline(memory=None,\n",
              "         steps=[('tfidf',\n",
              "                 TfidfVectorizer(analyzer='word', binary=False,\n",
              "                                 decode_error='strict',\n",
              "                                 dtype=<class 'numpy.float64'>,\n",
              "                                 encoding='utf-8', input='content',\n",
              "                                 lowercase=True, max_df=1.0, max_features=None,\n",
              "                                 min_df=1, ngram_range=(1, 1), norm='l2',\n",
              "                                 preprocessor=None, smooth_idf=True,\n",
              "                                 stop_words=None, strip_accents=None,\n",
              "                                 sublinear_tf=False,\n",
              "                                 token_pattern='(?u)\\\\b\\\\w\\\\w+\\\\b',\n",
              "                                 tokenizer=None, use_idf=True,\n",
              "                                 vocabulary=None)),\n",
              "                ('model',\n",
              "                 MultinomialNB(alpha=1.0, class_prior=None, fit_prior=True))],\n",
              "         verbose=False)"
            ]
          },
          "metadata": {
            "tags": []
          },
          "execution_count": 182
        }
      ]
    },
    {
      "cell_type": "code",
      "metadata": {
        "colab": {
          "base_uri": "https://localhost:8080/"
        },
        "id": "8jebVaCnn5aQ",
        "outputId": "a4fc2bb4-3081-4d90-f03b-427abac66f35"
      },
      "source": [
        "y_pred = text_model.predict(x_test)\n",
        "y_pred"
      ],
      "execution_count": 183,
      "outputs": [
        {
          "output_type": "execute_result",
          "data": {
            "text/plain": [
              "array([1001])"
            ]
          },
          "metadata": {
            "tags": []
          },
          "execution_count": 183
        }
      ]
    },
    {
      "cell_type": "code",
      "metadata": {
        "colab": {
          "base_uri": "https://localhost:8080/"
        },
        "id": "s4Qx1_jdn84z",
        "outputId": "9c6ce2e2-4bab-4e2f-9047-8dc7f4106c93"
      },
      "source": [
        "test6_pred = text_model.predict(test_lst6)\n",
        "test6_pred"
      ],
      "execution_count": 190,
      "outputs": [
        {
          "output_type": "execute_result",
          "data": {
            "text/plain": [
              "array([1002, 1001, 1001, 1001, 1001, 1001, 1001, 1001, 1001, 1002, 1001,\n",
              "       1001, 1001, 1001, 1001, 1002, 1001, 1001, 1001, 1001, 1001, 1002,\n",
              "       1001, 1001, 1001, 1001, 1001, 1001, 1001, 1001, 1001, 1001, 1001,\n",
              "       1001, 1001, 1001, 1001, 1001, 1001, 1001, 1001, 1001, 1001, 1001,\n",
              "       1001, 1001, 1001, 1001, 1001])"
            ]
          },
          "metadata": {
            "tags": []
          },
          "execution_count": 190
        }
      ]
    },
    {
      "cell_type": "code",
      "metadata": {
        "colab": {
          "base_uri": "https://localhost:8080/"
        },
        "id": "4BK_rAqHoFDs",
        "outputId": "5f306e6a-9f2c-4293-fa95-daee7dec0036"
      },
      "source": [
        "y6 = fin6['sense'].values.tolist()\n",
        "accuracy_score(test6_pred, y6)*100"
      ],
      "execution_count": 192,
      "outputs": [
        {
          "output_type": "execute_result",
          "data": {
            "text/plain": [
              "40.816326530612244"
            ]
          },
          "metadata": {
            "tags": []
          },
          "execution_count": 192
        }
      ]
    },
    {
      "cell_type": "code",
      "metadata": {
        "colab": {
          "base_uri": "https://localhost:8080/"
        },
        "id": "kgr3W6C-orYV",
        "outputId": "9558ae17-acb0-4b54-aa7b-a8048b205fd8"
      },
      "source": [
        "print(classification_report(test2_pred,y2))"
      ],
      "execution_count": 193,
      "outputs": [
        {
          "output_type": "stream",
          "text": [
            "              precision    recall  f1-score   support\n",
            "\n",
            "        1001       0.00      0.00      0.00      23.0\n",
            "        5501       0.00      0.00      0.00       0.0\n",
            "        5502       0.00      0.00      0.00       0.0\n",
            "\n",
            "    accuracy                           0.00      23.0\n",
            "   macro avg       0.00      0.00      0.00      23.0\n",
            "weighted avg       0.00      0.00      0.00      23.0\n",
            "\n"
          ],
          "name": "stdout"
        }
      ]
    },
    {
      "cell_type": "markdown",
      "metadata": {
        "id": "ailRtLlXbzqV"
      },
      "source": [
        "Refrensi :\n",
        "- https://github.com/farhanreynaldo/pos-tagging-indonesia\n",
        "- https://towardsdatascience.com/named-entity-recognition-and-classification-with-scikit-learn-f05372f07ba2\n",
        "- https://sklearn-crfsuite.readthedocs.io/en/latest/tutorial.html\n"
      ]
    },
    {
      "cell_type": "markdown",
      "metadata": {
        "id": "GqgJNQV82pjV"
      },
      "source": [
        ""
      ]
    },
    {
      "cell_type": "code",
      "metadata": {
        "id": "RApxCRH82o4v"
      },
      "source": [
        ""
      ],
      "execution_count": 110,
      "outputs": []
    }
  ]
}